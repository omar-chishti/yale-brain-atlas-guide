{
 "cells": [
  {
   "cell_type": "markdown",
   "id": "5c8068c2",
   "metadata": {},
   "source": [
    "# <center> Yale Brain Atlas User Guide </center>"
   ]
  },
  {
   "cell_type": "markdown",
   "id": "da588350",
   "metadata": {},
   "source": [
    "![title](Data/yba_guide_cover.png)"
   ]
  },
  {
   "cell_type": "markdown",
   "id": "883400ce",
   "metadata": {},
   "source": [
    "### Developed at [Yale Clinical Neuroscience Group for Neuroanalytics](https://medicine.yale.edu/lab/ynn/)\n",
    "\n",
    "### Author: Omar Chishti\n",
    "\n",
    "### Reference:\n",
    "\n",
    "> McGrath, H., Zaveri, H.P., Collins, E. et al. High-resolution cortical parcellation based on conserved brain landmarks for localization of multimodal data to the nearest centimeter. Sci Rep 12, 18778 (2022). \n",
    "https://doi.org/10.1038/s41598-022-21543-3\n",
    "\n",
    "> [Paper Link](https://www.nature.com/articles/s41598-022-21543-3)\n",
    "\n",
    "\n",
    "\n"
   ]
  },
  {
   "cell_type": "markdown",
   "id": "5206449e",
   "metadata": {},
   "source": [
    "# Contents\n",
    "\n",
    "1. ## [Introduction](#I:-Introduction)\n",
    "\n",
    "2. ## [Nomenclature](#II:-Nomenclature)\n",
    "\n",
    "3. ## [Anatomical Heirarchy](#III:-Anatomical-Heirarchy)\n",
    "\n",
    "4. ## [Files](#IV:-Files)\n",
    "\n",
    "5. ## [Data](#V-Data)\n",
    "\n",
    "6. ## [Code](#VI:-Code)\n",
    "\n",
    "7. ## [Atlas Import](#VII:-Reading-in-the-Atlas)\n",
    "\n",
    "8. ## [Analysis](#VIII:-Analysis)\n",
    "\n",
    "9. ## [Plotting](#IX:-Plotting)\n",
    "\n",
    "10. ## [Further Reading](#X:-Further-Reading)\n",
    "\n",
    "11. ## [Contact](#XI:-Contact)"
   ]
  },
  {
   "cell_type": "markdown",
   "id": "8b6b0cb1",
   "metadata": {},
   "source": [
    "# I: Introduction"
   ]
  },
  {
   "cell_type": "markdown",
   "id": "3fbb4c14",
   "metadata": {},
   "source": [
    "> The Yale Brain Atlas (YBA) is a whole-brain atlas of the cortex, hippocampus, and amygdala with 690 parcels and 144 gyri within 34 discrete, sub-lobar regions, including the temporal pole and frontal orbital cortex, and 10 lobes."
   ]
  },
  {
   "cell_type": "markdown",
   "id": "72f84fbd",
   "metadata": {},
   "source": [
    "![title](Data/yale_brain_atlas.png)"
   ]
  },
  {
   "cell_type": "markdown",
   "id": "30e2fb03",
   "metadata": {},
   "source": [
    "**Figure 1:** Lateral view of left hemisphere, with regional designations and sample parcel names. *Image Credit: Omar Chishti*"
   ]
  },
  {
   "cell_type": "markdown",
   "id": "2e8fe25a",
   "metadata": {},
   "source": [
    "> The Yale Brain Atlas (YBA) consists of 690 one-square centimeter parcels based around conserved anatomical features. Each parcel has a unique identifier to communicate anatomically unambiguous localization. \n",
    "\n",
    "> The atlas was constructed using a consensus boundary mapping approach combining anatomical designations in Duvernoy’s Atlas of the Human Brain, a widely recognized textbook of human brain anatomy, with the anatomy of the MNI152 template and the magnetic resonance imaging scans of an epilepsy surgery cohort.\n",
    "\n",
    "> The aim of our boundary mapping approach was to ensure a transparent and understandable regional segregation by using common anatomical brain features to define our parcellation. We identified landmarks based on a consensus designation from three resources and generated areal cortical boundaries using these landmarks as a guide. The parcellation was ultimately guided by boundaries that were clinically useful in neurosurgical practice, based on decades of clinical experience. Conceptually our atlas was created as a tool to localize multimodal data to facilitate data exposition, exploration, and analysis. A key strength of the YBA lies in its high resolution parcellation and systematic regionalization, which lends itself to modern data science approaches since parcels are approximately homogeneous in surface area and can be further partitioned if even higher resolution parcellation is needed. \n",
    "\n",
    "> The atlas is envisioned as a tool for the clinical and research neurosciences, where it may facilitate precise localization of data on the cortex, accurate description of anatomical locations, and modern data science approaches using standardized brain regions. \n",
    "\n",
    "> This guide is written to further that aim. "
   ]
  },
  {
   "cell_type": "markdown",
   "id": "1807dd79",
   "metadata": {},
   "source": [
    "# II: Nomenclature"
   ]
  },
  {
   "cell_type": "markdown",
   "id": "9072769b",
   "metadata": {},
   "source": [
    "The rough format for parcel names is as follows: \n",
    "\n",
    "1. L or R to signify brain hemisphere\n",
    "2. _\n",
    "3. One or two letter region abbreviation\n",
    "4. Optional number to designate gyrus within region\n",
    "    * The numbers within a regional group of gyri increase in the posterior direction\n",
    "    * If a gyrus is wide, it is split into two rows of parcels. These then take up decimal numbers such as 1.1 and 1.2\n",
    "5. _ \n",
    "6. Letter to signify parcel"
   ]
  },
  {
   "cell_type": "markdown",
   "id": "c1b08474",
   "metadata": {},
   "source": [
    "> A standardized nomenclature is offered with the YBA. Each gyrus has a unique identifier, based on common neuroanatomical nomenclature. Most have a letter code followed by a number, indicating the position of a gyrus within a grouping, for instance P1 as the anterior gyrus of the superior parietal grouping, and P4 as the posterior gyrus. There is an additional feature included in some gyri. Where a single gyrus is too large to encompass a one-centimeter parcel width, a decimal code is used, for instance the middle occipital gyrus (O2) has been split into superior middle (O2.1) and inferior middle (O2.2) occipital sub-gyri. Part of the cingulate gyrus has a decimal code where it is expanded in width to incorporate two parcels (C_N.1 and C_N.2). Across the YBA, parcels within a gyrus are named sequentially by letter, with the ‘A’ parcel denoting the beginning of a gyrus and each centimeter increment labelled with the subsequent letter. The sequence continues until a fixed regional boundary, such as a sulcus, or a key anatomical landmark is reached. \n",
    "\n",
    "> To aid visualization, each lobe has a unique color designation and gyri within a region are colored to reflect their position within the region. The ‘first’ gyrus (anterior-most or superior-most) has the darkest shade, while the ‘Last’ gyrus has the lightest shade.\n",
    "\n"
   ]
  },
  {
   "cell_type": "markdown",
   "id": "cdd933c9",
   "metadata": {},
   "source": [
    "# III: Anatomical Heirarchy"
   ]
  },
  {
   "cell_type": "markdown",
   "id": "a1e2a954",
   "metadata": {},
   "source": [
    "Where applicable, parcels within the Yale Brain Atlas have been assigned to a hemisphere, lobe, region, and gyrus within the brain. The YBA is laterally symmetric. \n",
    "\n",
    "Lists of these subdivisions, along with abbreviations and total parcel number are given below. "
   ]
  },
  {
   "cell_type": "markdown",
   "id": "adfbda0e",
   "metadata": {},
   "source": [
    "**There are two hemispheres:**\n",
    "\n",
    "1. Left [L]: 345 parcels\n",
    "2. Right [R]: 345 parcels\n",
    "\n",
    "**There are 5 lobes:**\n",
    "\n",
    "1. Frontal: 308 parcels\n",
    "2. Insula: 34 parcels\n",
    "3. Occipital: 74 parcels\n",
    "4. Parietal: 124 parcels\n",
    "5. Temporal: 150 parcels"
   ]
  },
  {
   "cell_type": "markdown",
   "id": "fbd70145",
   "metadata": {},
   "source": [
    "**There are 17 regions:**\n",
    "\n",
    "1. Angular: 14 parcels\n",
    "2. Cingulate: 38 parcels\n",
    "3. Frontal pole: 50 parcels\n",
    "4. Inferior frontal: 24 parcels\n",
    "5. Inferior temporal-occipital: 46 parcels\n",
    "6. Insula: 34 parcels\n",
    "7. Mesial temporal: 10 parcels\n",
    "8. Middle frontal: 50 parcels\n",
    "9. Motor: 30 parcels\n",
    "10. Occipital: 68 parcels\n",
    "11. Orbital frontal: 50 parcels\n",
    "12. Sensory: 26 parcels\n",
    "13. Superior frontal: 66 parcels\n",
    "14. Superior parietal: 48 parcels\n",
    "15. Supramarginal: 36 parcels\n",
    "16. Temporal body: 64 parcels\n",
    "17. Temporal pole: 36 parcels"
   ]
  },
  {
   "cell_type": "markdown",
   "id": "8da34df5",
   "metadata": {},
   "source": [
    "**There are 69 unique gyri** that the parcels are sorted into (some of which have subdivisions): \n",
    "\n",
    "1. Amygdala [A]: 4 parcels\n",
    "2. Anterior long insular gyrus [I3]: 6 parcels\n",
    "3. Anterior short insular gyrus [I1]: 6 parcels\n",
    "4. Basal inferior temporal gyus [T3.2]: 10 parcels\n",
    "5. Cingulate gyrus [C]: 38 parcels\n",
    "6. Fourth occipital gyrus [O4]: 4 parcels\n",
    "7. Frontal orbital 1 [FO1]: 8 parcels\n",
    "8. Frontal orbital 2 [FO2]: 10 parcels\n",
    "9. Frontal orbital 3 [FO3]: 8 parcels\n",
    "10. Frontal orbital 4 [FO4]: 8 parcels\n",
    "11. Frontal orbital 5 [FO5]: 10 parcels\n",
    "12. Frontal orbital 6 [FO6]: 6 parcels\n",
    "13. Frontal pole 1 [FP1]: 16 parcels\n",
    "14. Frontal pole 2 [FP2]: 8 parcels\n",
    "15. Frontal pole 3 [FP3]: 14 parcels\n",
    "16. Frontal pole 4 [FP4]: 12 parcels\n",
    "17. Hippocampus [H]: 6 parcels\n",
    "18. Inferior angular gyrus [AN2]: 8 parcels\n",
    "19. Inferior middle occipital gyrus [O2.2]: 22 parcels\n",
    "20. Inferior middle temporal gyrus [T2.2]: 14 parcels\n",
    "21. Inferior middle temporal pole [TP2.2]: 8 parcels\n",
    "22. Inferior occipital gyrus [O3]: 22 parcels\n",
    "23. Inferior temporal pole [TP3]: 8 parcels\n",
    "24. Lateral inferior temporal gyrus [T3.1]: 12 parcels\n",
    "25. Lateral occipitotemporal gyrus [LOT]: 10 parcels\n",
    "26. Lingual gyrus [L]: 6 parcels\n",
    "27. M1 [M1] *Motor*: 8 parcels\n",
    "28. M2 [M2] *Motor*: 22 parcels\n",
    "29. Medial occipitotemporal gyrus [MOT]: 16 parcels\n",
    "30. Middle frontal 1 [MF1]: 6 parcels\n",
    "31. Middle frontal 2 [MF2]: 8 parcels\n",
    "32. Middle frontal 3 [MF3]: 8 parcels\n",
    "33. Middle frontal 4 [MF4]: 8 parcels\n",
    "34. Middle frontal 5 [MF5]: 6 parcels\n",
    "35. Middle frontal 6 [MF6]: 6 parcels\n",
    "36. Middle frontal 7 [MF7]: 6 parcels\n",
    "37. Middle frontal 8 [MF8]: 2 parcels\n",
    "38. Middle long insular gyrus [I4]: 8 parcels\n",
    "39. Parahippocampal gyrus [PH]: 14 parcels\n",
    "40. Pars opercularis [OP]: 6 parcels\n",
    "41. Pars orbitalis [OR]: 6 parcels\n",
    "42. Pars triangularis [TR1, TR2]: 12 parcels\n",
    "43. Postcentral [S] *Somatosensory*: 26 parcels\n",
    "44. Posterior long insular gyrus [I5]: 8 parcels\n",
    "45. Posterior short insular gyrus [I2]: 6 parcels\n",
    "45. Superior angular gyrus [AN1]: 6 parcels\n",
    "47. Superior frontal 1 [SF1]: 8 parcels\n",
    "48. Superior frontal 2 [SF2]: 8 parcels\n",
    "49. Superior frontal 3 [SF3]: 8 parcels\n",
    "50. Superior frontal 4 [SF4]: 8 parcels\n",
    "51. Superior frontal 5 [SF5]: 8 parcels\n",
    "52. Superior frontal 6 [SF6]: 8 parcels\n",
    "53. Superior frontal 7 [SF7]: 10 parcels\n",
    "54. Superior frontal 8 [SF8]: 8 parcels\n",
    "55. Superior middle occipital gyrus [O2.1]: 10 parcels\n",
    "56. Superior middle temporal gyrus [T2.1]: 14 parcels\n",
    "57. Superior middle temporal pole [TP2.1]: 8 parcels\n",
    "58. Superior occipital gyrus [O1]: 10 parcels\n",
    "59. Superior parietal 1 [P1]: 14 parcels\n",
    "60. Superior parietal 2 [P2]: 8 parcels\n",
    "61. Superior parietal 3 [P3]: 12 parcels\n",
    "62. Superior parietal 4 [P4]: 14 parcels\n",
    "63. Superior temporal gyrus [T1]: 14 parcels\n",
    "64. Superior temporal pole [TP1]: 12 parcels\n",
    "65. Supramarginal gyrus 1 [SM1]: 10 parcels\n",
    "66. Supramarginal gyrus 2 [SM2]: 4 parcels\n",
    "67. Supramarginal gyrus 3 [SM3]: 6 parcels\n",
    "68. Supramarginal gyrus 4 [SM4]: 6 parcels\n",
    "69. Supramarginal gyrus 5 [SM5]: 10 parcels\n",
    "\n",
    "_When the YBA was first published, there were some differences in gyrus designations across hemispheres. Some examples are the postcentral gyrus/somatosensory gyrus; M1, M2/Motor; Middle Frontal 1-8/Middle frontal; and so on. This has since been symmetrised across hemispheres, leading to a difference in the count given above (69) and the count published._"
   ]
  },
  {
   "cell_type": "markdown",
   "id": "b7a78ca8",
   "metadata": {},
   "source": [
    "![title](Data/atlas_poster_figure.png)"
   ]
  },
  {
   "cell_type": "markdown",
   "id": "742e6c7a",
   "metadata": {},
   "source": [
    "**Figure 2:** A color illustration of the Yale Brain Atlas with each surface depicted and parcels labelled using the Atlas nomenclature. Large, regional labels (black) are provided which link to common anatomical nomenclature in the key. *Image Credit: Tamara Jafar*. "
   ]
  },
  {
   "cell_type": "markdown",
   "id": "0fb3a691",
   "metadata": {},
   "source": [
    "# IV: Files"
   ]
  },
  {
   "cell_type": "markdown",
   "id": "cece03fd",
   "metadata": {},
   "source": [
    "These files are included with this guide, under the /Data/ subfolder: \n",
    "\n",
    "* YBA file (.nii.gz)\n",
    "* YBA labels (.txt)\n",
    "* YBA Spreadsheet (.xlsx, .csv)\n",
    "* YBA Data Supplement (.xlsx, .csv)\n"
   ]
  },
  {
   "cell_type": "markdown",
   "id": "73e7ead5",
   "metadata": {},
   "source": [
    "# V: Data\n",
    "\n",
    "The spreadsheet provided with this guide contain the following information in columns, with dimensions 690 x 1:\n",
    "\n",
    "* Parcel label (short)\n",
    "* Parcel label (long)\n",
    "* Parcel gyrus\n",
    "* Parcel region\n",
    "* Parcel lobe\n",
    "* Parcel centroid (x, y, z)\n",
    "* Parcel volume (mm^3)\n",
    "* Parcel color\n",
    "\n",
    "A supplementary spreadsheet contains the following:\n",
    "\n",
    "* Parcel mean cortical thickness (mm)\n",
    "* Parcel quantitative anisotropy (qa)\n",
    "* Parcel fractional anisotropy (fa)\n",
    "* Parcel mean diffusivity (md)\n",
    "* Parcel radial diffusivity (rd)\n",
    "* Parcel axial diffusivity (ad)\n",
    "* Parcel structure-function association (rsq)\n",
    "\n",
    "\n",
    "Some YBA space matrices are also provided with this guide, with dimensions 690 x 690:\n",
    "\n",
    "* Euclidean distance matrix\n",
    "* White matter distance matrix\n",
    "* White matter connectivity matrix\n",
    "* Functional similarity matrix\n",
    "\n",
    "The quantitative data in the supplementary spreadsheet above is derived from a variety of projects and analytical pipelines. While suitable for running preliminary analyses, care should be taken to access updated versions of raw data, credit the creators, and develop an understanding for underlying methodology prior to using this data for new projects. "
   ]
  },
  {
   "cell_type": "markdown",
   "id": "5ce284de",
   "metadata": {},
   "source": [
    "# VI: Code\n",
    "\n",
    "The following sections provide some sample code to read in the YBA, access data, and apply it for analysis. \n",
    "\n",
    "Tools for visualizing the YBA in interactive as well as static form have been built in R as well as Python. Refer to visualization package documentation for the same. Visualization code enables the creation of plots such as the one demonstrated below:"
   ]
  },
  {
   "cell_type": "code",
   "execution_count": null,
   "id": "be2465af",
   "metadata": {
    "scrolled": false
   },
   "outputs": [],
   "source": [
    "from IPython.display import IFrame\n",
    "IFrame(\"https://omar-chishti.github.io/yba_hemispheres\", 1000,950)"
   ]
  },
  {
   "cell_type": "markdown",
   "id": "2c62d68e",
   "metadata": {},
   "source": [
    "Hover over parcels to see their short label and region. The six sky blue parcels in the medial view of the hemispheres are the corpus callosum, which are not included in the 690 parcel atlas. \n",
    "\n",
    "Interactive versions of the YBA can also be accessed [here](https://www.) and [here](https://www.). "
   ]
  },
  {
   "cell_type": "markdown",
   "id": "df58ccbf",
   "metadata": {},
   "source": [
    "# VII: Reading in the Atlas\n",
    "\n",
    "Run the following code cell to instantiate necessary Python libraries (Pandas, Numpy) and import the YBA spreadsheet. "
   ]
  },
  {
   "cell_type": "code",
   "execution_count": 54,
   "id": "d592a1a6",
   "metadata": {},
   "outputs": [
    {
     "data": {
      "text/html": [
       "<div>\n",
       "<style scoped>\n",
       "    .dataframe tbody tr th:only-of-type {\n",
       "        vertical-align: middle;\n",
       "    }\n",
       "\n",
       "    .dataframe tbody tr th {\n",
       "        vertical-align: top;\n",
       "    }\n",
       "\n",
       "    .dataframe thead th {\n",
       "        text-align: right;\n",
       "    }\n",
       "</style>\n",
       "<table border=\"1\" class=\"dataframe\">\n",
       "  <thead>\n",
       "    <tr style=\"text-align: right;\">\n",
       "      <th></th>\n",
       "      <th>Index</th>\n",
       "      <th>Code</th>\n",
       "      <th>Long name</th>\n",
       "      <th>Gyrus</th>\n",
       "      <th>Region</th>\n",
       "      <th>Lobe</th>\n",
       "      <th>Hemisphere</th>\n",
       "      <th>Centroid</th>\n",
       "      <th>Volume</th>\n",
       "      <th>Color</th>\n",
       "    </tr>\n",
       "  </thead>\n",
       "  <tbody>\n",
       "    <tr>\n",
       "      <th>0</th>\n",
       "      <td>1</td>\n",
       "      <td>L_TP1_A</td>\n",
       "      <td>Left superior temporal pole A</td>\n",
       "      <td>Superior temporal pole</td>\n",
       "      <td>Temporal Pole</td>\n",
       "      <td>Temporal</td>\n",
       "      <td>Left</td>\n",
       "      <td>NaN</td>\n",
       "      <td>NaN</td>\n",
       "      <td>(0.0, 0.450980392156863, 0.901960784313726)</td>\n",
       "    </tr>\n",
       "    <tr>\n",
       "      <th>1</th>\n",
       "      <td>2</td>\n",
       "      <td>L_TP1_B</td>\n",
       "      <td>Left superior temporal pole B</td>\n",
       "      <td>Superior temporal pole</td>\n",
       "      <td>Temporal Pole</td>\n",
       "      <td>Temporal</td>\n",
       "      <td>Left</td>\n",
       "      <td>NaN</td>\n",
       "      <td>NaN</td>\n",
       "      <td>(0.0, 0.450980392156863, 0.901960784313726)</td>\n",
       "    </tr>\n",
       "    <tr>\n",
       "      <th>2</th>\n",
       "      <td>3</td>\n",
       "      <td>L_TP1_C</td>\n",
       "      <td>Left superior temporal pole B</td>\n",
       "      <td>Superior temporal pole</td>\n",
       "      <td>Temporal Pole</td>\n",
       "      <td>Temporal</td>\n",
       "      <td>Left</td>\n",
       "      <td>NaN</td>\n",
       "      <td>NaN</td>\n",
       "      <td>(0.0, 0.450980392156863, 0.901960784313726)</td>\n",
       "    </tr>\n",
       "    <tr>\n",
       "      <th>3</th>\n",
       "      <td>4</td>\n",
       "      <td>L_TP1_D</td>\n",
       "      <td>Left superior temporal pole C</td>\n",
       "      <td>Superior temporal pole</td>\n",
       "      <td>Temporal Pole</td>\n",
       "      <td>Temporal</td>\n",
       "      <td>Left</td>\n",
       "      <td>NaN</td>\n",
       "      <td>NaN</td>\n",
       "      <td>(0.0, 0.450980392156863, 0.901960784313726)</td>\n",
       "    </tr>\n",
       "    <tr>\n",
       "      <th>4</th>\n",
       "      <td>5</td>\n",
       "      <td>L_TP1_E</td>\n",
       "      <td>Left superior temporal pole D</td>\n",
       "      <td>Superior temporal pole</td>\n",
       "      <td>Temporal Pole</td>\n",
       "      <td>Temporal</td>\n",
       "      <td>Left</td>\n",
       "      <td>NaN</td>\n",
       "      <td>NaN</td>\n",
       "      <td>(0.0, 0.450980392156863, 0.901960784313726)</td>\n",
       "    </tr>\n",
       "    <tr>\n",
       "      <th>...</th>\n",
       "      <td>...</td>\n",
       "      <td>...</td>\n",
       "      <td>...</td>\n",
       "      <td>...</td>\n",
       "      <td>...</td>\n",
       "      <td>...</td>\n",
       "      <td>...</td>\n",
       "      <td>...</td>\n",
       "      <td>...</td>\n",
       "      <td>...</td>\n",
       "    </tr>\n",
       "    <tr>\n",
       "      <th>685</th>\n",
       "      <td>686</td>\n",
       "      <td>R_I4_D</td>\n",
       "      <td>Right anterior long insular gyrus D</td>\n",
       "      <td>Middle long insular gyrus</td>\n",
       "      <td>Insula</td>\n",
       "      <td>Insula</td>\n",
       "      <td>Right</td>\n",
       "      <td>NaN</td>\n",
       "      <td>NaN</td>\n",
       "      <td>(0.745098039215686, 0.149019607843137, 1.0)</td>\n",
       "    </tr>\n",
       "    <tr>\n",
       "      <th>686</th>\n",
       "      <td>687</td>\n",
       "      <td>R_I5_A</td>\n",
       "      <td>Right posterior long insular gyrus A</td>\n",
       "      <td>Posterior long insular gyrus</td>\n",
       "      <td>Insula</td>\n",
       "      <td>Insula</td>\n",
       "      <td>Right</td>\n",
       "      <td>NaN</td>\n",
       "      <td>NaN</td>\n",
       "      <td>(0.827450980392157, 0.415686274509804, 1.0)</td>\n",
       "    </tr>\n",
       "    <tr>\n",
       "      <th>687</th>\n",
       "      <td>688</td>\n",
       "      <td>R_I5_B</td>\n",
       "      <td>Right posterior long insular gyrus B</td>\n",
       "      <td>Posterior long insular gyrus</td>\n",
       "      <td>Insula</td>\n",
       "      <td>Insula</td>\n",
       "      <td>Right</td>\n",
       "      <td>NaN</td>\n",
       "      <td>NaN</td>\n",
       "      <td>(0.827450980392157, 0.415686274509804, 1.0)</td>\n",
       "    </tr>\n",
       "    <tr>\n",
       "      <th>688</th>\n",
       "      <td>689</td>\n",
       "      <td>R_I5_C</td>\n",
       "      <td>Right posterior long insular gyrus C</td>\n",
       "      <td>Posterior long insular gyrus</td>\n",
       "      <td>Insula</td>\n",
       "      <td>Insula</td>\n",
       "      <td>Right</td>\n",
       "      <td>NaN</td>\n",
       "      <td>NaN</td>\n",
       "      <td>(0.827450980392157, 0.415686274509804, 1.0)</td>\n",
       "    </tr>\n",
       "    <tr>\n",
       "      <th>689</th>\n",
       "      <td>690</td>\n",
       "      <td>R_I5_D</td>\n",
       "      <td>Right posterior long insular gyrus D</td>\n",
       "      <td>Posterior long insular gyrus</td>\n",
       "      <td>Insula</td>\n",
       "      <td>Insula</td>\n",
       "      <td>Right</td>\n",
       "      <td>NaN</td>\n",
       "      <td>NaN</td>\n",
       "      <td>(0.827450980392157, 0.415686274509804, 1.0)</td>\n",
       "    </tr>\n",
       "  </tbody>\n",
       "</table>\n",
       "<p>690 rows × 10 columns</p>\n",
       "</div>"
      ],
      "text/plain": [
       "     Index     Code                             Long name  \\\n",
       "0        1  L_TP1_A         Left superior temporal pole A   \n",
       "1        2  L_TP1_B         Left superior temporal pole B   \n",
       "2        3  L_TP1_C         Left superior temporal pole B   \n",
       "3        4  L_TP1_D         Left superior temporal pole C   \n",
       "4        5  L_TP1_E         Left superior temporal pole D   \n",
       "..     ...      ...                                   ...   \n",
       "685    686   R_I4_D   Right anterior long insular gyrus D   \n",
       "686    687   R_I5_A  Right posterior long insular gyrus A   \n",
       "687    688   R_I5_B  Right posterior long insular gyrus B   \n",
       "688    689   R_I5_C  Right posterior long insular gyrus C   \n",
       "689    690   R_I5_D  Right posterior long insular gyrus D   \n",
       "\n",
       "                            Gyrus         Region      Lobe Hemisphere  \\\n",
       "0          Superior temporal pole  Temporal Pole  Temporal       Left   \n",
       "1          Superior temporal pole  Temporal Pole  Temporal       Left   \n",
       "2          Superior temporal pole  Temporal Pole  Temporal       Left   \n",
       "3          Superior temporal pole  Temporal Pole  Temporal       Left   \n",
       "4          Superior temporal pole  Temporal Pole  Temporal       Left   \n",
       "..                            ...            ...       ...        ...   \n",
       "685     Middle long insular gyrus         Insula    Insula      Right   \n",
       "686  Posterior long insular gyrus         Insula    Insula      Right   \n",
       "687  Posterior long insular gyrus         Insula    Insula      Right   \n",
       "688  Posterior long insular gyrus         Insula    Insula      Right   \n",
       "689  Posterior long insular gyrus         Insula    Insula      Right   \n",
       "\n",
       "     Centroid  Volume                                        Color  \n",
       "0         NaN     NaN  (0.0, 0.450980392156863, 0.901960784313726)  \n",
       "1         NaN     NaN  (0.0, 0.450980392156863, 0.901960784313726)  \n",
       "2         NaN     NaN  (0.0, 0.450980392156863, 0.901960784313726)  \n",
       "3         NaN     NaN  (0.0, 0.450980392156863, 0.901960784313726)  \n",
       "4         NaN     NaN  (0.0, 0.450980392156863, 0.901960784313726)  \n",
       "..        ...     ...                                          ...  \n",
       "685       NaN     NaN  (0.745098039215686, 0.149019607843137, 1.0)  \n",
       "686       NaN     NaN  (0.827450980392157, 0.415686274509804, 1.0)  \n",
       "687       NaN     NaN  (0.827450980392157, 0.415686274509804, 1.0)  \n",
       "688       NaN     NaN  (0.827450980392157, 0.415686274509804, 1.0)  \n",
       "689       NaN     NaN  (0.827450980392157, 0.415686274509804, 1.0)  \n",
       "\n",
       "[690 rows x 10 columns]"
      ]
     },
     "execution_count": 54,
     "metadata": {},
     "output_type": "execute_result"
    }
   ],
   "source": [
    "# Import necessary libraries\n",
    "import pandas as pd \n",
    "import numpy as np\n",
    "# Import yba dataframe\n",
    "yba_df = pd.read_excel('Data/yba_guide_spreadsheet.xlsx')\n",
    "# Display dataframe\n",
    "yba_df "
   ]
  },
  {
   "cell_type": "markdown",
   "id": "b20c90c2",
   "metadata": {},
   "source": [
    "Variables can then be set using column names of the dataframe. "
   ]
  },
  {
   "cell_type": "code",
   "execution_count": 55,
   "id": "f0bd09d2",
   "metadata": {},
   "outputs": [],
   "source": [
    "atlas_labels = yba_df[\"Code\"].to_list()\n",
    "atlas_gyrus = yba_df[\"Gyrus\"].to_list()\n",
    "atlas_region = yba_df[\"Region\"].to_list()\n",
    "atlas_lobe = yba_df[\"Lobe\"].to_list()\n",
    "parcel_colors = yba_df[\"Color\"].to_list()"
   ]
  },
  {
   "cell_type": "markdown",
   "id": "0d7bdee2",
   "metadata": {},
   "source": [
    "A specific value can be called using the variable and the index of desired parcel -- note that the index column starts from 1, while Python indexing starts from 0. The cell below yields the parcel name for the 100th parcel in the atlas:"
   ]
  },
  {
   "cell_type": "code",
   "execution_count": 5,
   "id": "8fe49d59",
   "metadata": {},
   "outputs": [
    {
     "name": "stdout",
     "output_type": "stream",
     "text": [
      "L_SM3_B\n"
     ]
    }
   ],
   "source": [
    "print(atlas_labels[99])"
   ]
  },
  {
   "cell_type": "markdown",
   "id": "1220c21c",
   "metadata": {},
   "source": [
    "To perform the reverse operation (extracting the index of a known parcel using its label), run the following code:"
   ]
  },
  {
   "cell_type": "code",
   "execution_count": 20,
   "id": "0015933f",
   "metadata": {},
   "outputs": [
    {
     "name": "stdout",
     "output_type": "stream",
     "text": [
      "99\n"
     ]
    }
   ],
   "source": [
    "print(atlas_labels.index('L_SM3_B'))"
   ]
  },
  {
   "cell_type": "markdown",
   "id": "cb0487cc",
   "metadata": {},
   "source": [
    "All the information listed in the **Anatomical Heirarchy** section can be confirmed programatically. 'np.unique()' extracts the unique elements from a list, 'len()' returns the length of a list, and 'str' converts an integer into the string data format:"
   ]
  },
  {
   "cell_type": "code",
   "execution_count": 19,
   "id": "156024c5",
   "metadata": {},
   "outputs": [
    {
     "name": "stdout",
     "output_type": "stream",
     "text": [
      "Number of unique parcels: 690\n",
      "Number of unique gyri: 69\n",
      "Number of unique regions: 17\n",
      "Number of unique lobes: 5\n"
     ]
    }
   ],
   "source": [
    "print('Number of unique parcels: ' + str(len(np.unique(atlas_labels))))\n",
    "print('Number of unique gyri: ' + str(len(np.unique(atlas_gyrus))))\n",
    "print('Number of unique regions: ' + str(len(np.unique(atlas_region))))\n",
    "print('Number of unique lobes: ' + str(len(np.unique(atlas_lobe))))"
   ]
  },
  {
   "cell_type": "markdown",
   "id": "c19ea436",
   "metadata": {},
   "source": [
    "The unique elements from a list can also be printed:"
   ]
  },
  {
   "cell_type": "code",
   "execution_count": 15,
   "id": "ae5ea590",
   "metadata": {},
   "outputs": [
    {
     "name": "stdout",
     "output_type": "stream",
     "text": [
      "['Frontal' 'Insula' 'Occipital' 'Parietal' 'Temporal']\n"
     ]
    }
   ],
   "source": [
    "print(np.unique(atlas_lobe))"
   ]
  },
  {
   "cell_type": "code",
   "execution_count": 16,
   "id": "c3df8e48",
   "metadata": {},
   "outputs": [
    {
     "name": "stdout",
     "output_type": "stream",
     "text": [
      "['Angular' 'Cingulate' 'Frontal pole' 'Inferior frontal'\n",
      " 'Inferior temporal-occipital ' 'Insula' 'Mesial temporal'\n",
      " 'Middle frontal' 'Motor' 'Occipital' 'Orbital frontal' 'Sensory'\n",
      " 'Superior frontal ' 'Superior parietal' 'Supramarginal' 'Temporal Pole'\n",
      " 'Temporal body']\n"
     ]
    }
   ],
   "source": [
    "print(np.unique(atlas_region))"
   ]
  },
  {
   "cell_type": "code",
   "execution_count": 17,
   "id": "c5c30e78",
   "metadata": {},
   "outputs": [
    {
     "name": "stdout",
     "output_type": "stream",
     "text": [
      "['Amygdala' 'Anterior long insular gyrus' 'Anterior short insular gyrus'\n",
      " 'Basal inferior temporal gyus' 'Cingulate gyrus' 'Fourth occipital gyrus'\n",
      " 'Frontal orbital 1' 'Frontal orbital 2' 'Frontal orbital 3'\n",
      " 'Frontal orbital 4' 'Frontal orbital 5' 'Frontal orbital 6'\n",
      " 'Frontal pole 1' 'Frontal pole 2' 'Frontal pole 3' 'Frontal pole 4'\n",
      " 'Hippocampus' 'Inferior angular gyrus' 'Inferior middle occipital gyrus'\n",
      " 'Inferior middle temporal gyrus' 'Inferior middle temporal pole'\n",
      " 'Inferior occipital gyrus' 'Inferior temporal pole'\n",
      " 'Lateral inferior temporal gyrus' 'Lateral occipitotemporal gyrus'\n",
      " 'Lingual gyrus' 'M1' 'M2' 'Medial occipitotemporal gyrus'\n",
      " 'Middle frontal 1' 'Middle frontal 2' 'Middle frontal 3'\n",
      " 'Middle frontal 4' 'Middle frontal 5' 'Middle frontal 6'\n",
      " 'Middle frontal 7' 'Middle frontal 8' 'Middle long insular gyrus'\n",
      " 'Parahippocampal gyrus' 'Pars opercularis' 'Pars orbitalis'\n",
      " 'Pars triangularis' 'Postcentral ' 'Posterior long insular gyrus'\n",
      " 'Posterior short insular gyrus' 'Superior angular gyrus'\n",
      " 'Superior frontal 1' 'Superior frontal 2' 'Superior frontal 3'\n",
      " 'Superior frontal 4' 'Superior frontal 5' 'Superior frontal 6'\n",
      " 'Superior frontal 7' 'Superior frontal 8'\n",
      " 'Superior middle occipital gyrus' 'Superior middle temporal gyrus'\n",
      " 'Superior middle temporal pole' 'Superior occipital gyrus'\n",
      " 'Superior parietal 1' 'Superior parietal 2' 'Superior parietal 3'\n",
      " 'Superior parietal 4' 'Superior temporal gyrus' 'Superior temporal pole'\n",
      " 'Supramarginal gyrus 1' 'Supramarginal gyrus 2' 'Supramarginal gyrus 3'\n",
      " 'Supramarginal gyrus 4' 'Supramarginal gyrus 5']\n"
     ]
    }
   ],
   "source": [
    "print(np.unique(atlas_gyrus))"
   ]
  },
  {
   "cell_type": "markdown",
   "id": "83714d48",
   "metadata": {},
   "source": [
    "It is often useful to iterate over lobes or finer subdivisions of the brain and extract some summary information. Here is an example which demonstrates how to count the number of parcels in each lobe:"
   ]
  },
  {
   "cell_type": "code",
   "execution_count": 21,
   "id": "515ba009",
   "metadata": {},
   "outputs": [
    {
     "name": "stdout",
     "output_type": "stream",
     "text": [
      "Frontal: 308 parcels\n",
      "Insula: 34 parcels\n",
      "Occipital: 74 parcels\n",
      "Parietal: 124 parcels\n",
      "Temporal: 150 parcels\n"
     ]
    }
   ],
   "source": [
    "for lobe in np.unique(atlas_lobe):\n",
    "    print(lobe + ': ' + str(atlas_lobe.count(lobe)) + ' parcels')"
   ]
  },
  {
   "cell_type": "markdown",
   "id": "c5571e10",
   "metadata": {},
   "source": [
    "# VIII: Analysis"
   ]
  },
  {
   "cell_type": "markdown",
   "id": "c4ed38e4",
   "metadata": {},
   "source": [
    "It is also possible to use Pandas functionality to extract summary statistics, with the '.groupby()' method. This has the added advantage of the output being formatted in tabular form:"
   ]
  },
  {
   "cell_type": "code",
   "execution_count": 22,
   "id": "ff1a065b",
   "metadata": {},
   "outputs": [
    {
     "data": {
      "text/html": [
       "<div>\n",
       "<style scoped>\n",
       "    .dataframe tbody tr th:only-of-type {\n",
       "        vertical-align: middle;\n",
       "    }\n",
       "\n",
       "    .dataframe tbody tr th {\n",
       "        vertical-align: top;\n",
       "    }\n",
       "\n",
       "    .dataframe thead th {\n",
       "        text-align: right;\n",
       "    }\n",
       "</style>\n",
       "<table border=\"1\" class=\"dataframe\">\n",
       "  <thead>\n",
       "    <tr style=\"text-align: right;\">\n",
       "      <th></th>\n",
       "      <th>Index</th>\n",
       "      <th>Code</th>\n",
       "      <th>Long name</th>\n",
       "      <th>Gyrus</th>\n",
       "      <th>Region</th>\n",
       "      <th>Hemisphere</th>\n",
       "      <th>Centroid</th>\n",
       "      <th>Volume</th>\n",
       "      <th>Color</th>\n",
       "    </tr>\n",
       "    <tr>\n",
       "      <th>Lobe</th>\n",
       "      <th></th>\n",
       "      <th></th>\n",
       "      <th></th>\n",
       "      <th></th>\n",
       "      <th></th>\n",
       "      <th></th>\n",
       "      <th></th>\n",
       "      <th></th>\n",
       "      <th></th>\n",
       "    </tr>\n",
       "  </thead>\n",
       "  <tbody>\n",
       "    <tr>\n",
       "      <th>Frontal</th>\n",
       "      <td>308</td>\n",
       "      <td>308</td>\n",
       "      <td>308</td>\n",
       "      <td>308</td>\n",
       "      <td>308</td>\n",
       "      <td>308</td>\n",
       "      <td>0</td>\n",
       "      <td>0</td>\n",
       "      <td>0</td>\n",
       "    </tr>\n",
       "    <tr>\n",
       "      <th>Insula</th>\n",
       "      <td>34</td>\n",
       "      <td>34</td>\n",
       "      <td>34</td>\n",
       "      <td>34</td>\n",
       "      <td>34</td>\n",
       "      <td>34</td>\n",
       "      <td>0</td>\n",
       "      <td>0</td>\n",
       "      <td>0</td>\n",
       "    </tr>\n",
       "    <tr>\n",
       "      <th>Occipital</th>\n",
       "      <td>74</td>\n",
       "      <td>74</td>\n",
       "      <td>74</td>\n",
       "      <td>74</td>\n",
       "      <td>74</td>\n",
       "      <td>74</td>\n",
       "      <td>0</td>\n",
       "      <td>0</td>\n",
       "      <td>0</td>\n",
       "    </tr>\n",
       "    <tr>\n",
       "      <th>Parietal</th>\n",
       "      <td>124</td>\n",
       "      <td>124</td>\n",
       "      <td>124</td>\n",
       "      <td>124</td>\n",
       "      <td>124</td>\n",
       "      <td>124</td>\n",
       "      <td>0</td>\n",
       "      <td>0</td>\n",
       "      <td>0</td>\n",
       "    </tr>\n",
       "    <tr>\n",
       "      <th>Temporal</th>\n",
       "      <td>150</td>\n",
       "      <td>150</td>\n",
       "      <td>150</td>\n",
       "      <td>150</td>\n",
       "      <td>150</td>\n",
       "      <td>150</td>\n",
       "      <td>0</td>\n",
       "      <td>0</td>\n",
       "      <td>0</td>\n",
       "    </tr>\n",
       "  </tbody>\n",
       "</table>\n",
       "</div>"
      ],
      "text/plain": [
       "           Index  Code  Long name  Gyrus  Region  Hemisphere  Centroid  \\\n",
       "Lobe                                                                     \n",
       "Frontal      308   308        308    308     308         308         0   \n",
       "Insula        34    34         34     34      34          34         0   \n",
       "Occipital     74    74         74     74      74          74         0   \n",
       "Parietal     124   124        124    124     124         124         0   \n",
       "Temporal     150   150        150    150     150         150         0   \n",
       "\n",
       "           Volume  Color  \n",
       "Lobe                      \n",
       "Frontal         0      0  \n",
       "Insula          0      0  \n",
       "Occipital       0      0  \n",
       "Parietal        0      0  \n",
       "Temporal        0      0  "
      ]
     },
     "execution_count": 22,
     "metadata": {},
     "output_type": "execute_result"
    }
   ],
   "source": [
    "yba_df.groupby('Lobe').count()"
   ]
  },
  {
   "cell_type": "markdown",
   "id": "6506ca55",
   "metadata": {},
   "source": [
    "Other statistics that the '.groupby()' is compatible with include mean [.mean()], median [.median()] and standard deviation [.std()]."
   ]
  },
  {
   "cell_type": "markdown",
   "id": "8ddd9576",
   "metadata": {},
   "source": [
    "Before using these methods to analyse data in the YBA space (i.e a 690 length vector with values for each parcel), it is good practice to make a fresh copy of the dataframe with only essential columns:"
   ]
  },
  {
   "cell_type": "code",
   "execution_count": 33,
   "id": "026469e5",
   "metadata": {},
   "outputs": [
    {
     "data": {
      "text/html": [
       "<div>\n",
       "<style scoped>\n",
       "    .dataframe tbody tr th:only-of-type {\n",
       "        vertical-align: middle;\n",
       "    }\n",
       "\n",
       "    .dataframe tbody tr th {\n",
       "        vertical-align: top;\n",
       "    }\n",
       "\n",
       "    .dataframe thead th {\n",
       "        text-align: right;\n",
       "    }\n",
       "</style>\n",
       "<table border=\"1\" class=\"dataframe\">\n",
       "  <thead>\n",
       "    <tr style=\"text-align: right;\">\n",
       "      <th></th>\n",
       "      <th>Code</th>\n",
       "      <th>Gyrus</th>\n",
       "      <th>Region</th>\n",
       "      <th>Lobe</th>\n",
       "      <th>Data</th>\n",
       "    </tr>\n",
       "  </thead>\n",
       "  <tbody>\n",
       "    <tr>\n",
       "      <th>0</th>\n",
       "      <td>L_TP1_A</td>\n",
       "      <td>Superior temporal pole</td>\n",
       "      <td>Temporal Pole</td>\n",
       "      <td>Temporal</td>\n",
       "      <td>0</td>\n",
       "    </tr>\n",
       "    <tr>\n",
       "      <th>1</th>\n",
       "      <td>L_TP1_B</td>\n",
       "      <td>Superior temporal pole</td>\n",
       "      <td>Temporal Pole</td>\n",
       "      <td>Temporal</td>\n",
       "      <td>1</td>\n",
       "    </tr>\n",
       "    <tr>\n",
       "      <th>2</th>\n",
       "      <td>L_TP1_C</td>\n",
       "      <td>Superior temporal pole</td>\n",
       "      <td>Temporal Pole</td>\n",
       "      <td>Temporal</td>\n",
       "      <td>2</td>\n",
       "    </tr>\n",
       "    <tr>\n",
       "      <th>3</th>\n",
       "      <td>L_TP1_D</td>\n",
       "      <td>Superior temporal pole</td>\n",
       "      <td>Temporal Pole</td>\n",
       "      <td>Temporal</td>\n",
       "      <td>3</td>\n",
       "    </tr>\n",
       "    <tr>\n",
       "      <th>4</th>\n",
       "      <td>L_TP1_E</td>\n",
       "      <td>Superior temporal pole</td>\n",
       "      <td>Temporal Pole</td>\n",
       "      <td>Temporal</td>\n",
       "      <td>4</td>\n",
       "    </tr>\n",
       "    <tr>\n",
       "      <th>...</th>\n",
       "      <td>...</td>\n",
       "      <td>...</td>\n",
       "      <td>...</td>\n",
       "      <td>...</td>\n",
       "      <td>...</td>\n",
       "    </tr>\n",
       "    <tr>\n",
       "      <th>685</th>\n",
       "      <td>R_I4_D</td>\n",
       "      <td>Middle long insular gyrus</td>\n",
       "      <td>Insula</td>\n",
       "      <td>Insula</td>\n",
       "      <td>685</td>\n",
       "    </tr>\n",
       "    <tr>\n",
       "      <th>686</th>\n",
       "      <td>R_I5_A</td>\n",
       "      <td>Posterior long insular gyrus</td>\n",
       "      <td>Insula</td>\n",
       "      <td>Insula</td>\n",
       "      <td>686</td>\n",
       "    </tr>\n",
       "    <tr>\n",
       "      <th>687</th>\n",
       "      <td>R_I5_B</td>\n",
       "      <td>Posterior long insular gyrus</td>\n",
       "      <td>Insula</td>\n",
       "      <td>Insula</td>\n",
       "      <td>687</td>\n",
       "    </tr>\n",
       "    <tr>\n",
       "      <th>688</th>\n",
       "      <td>R_I5_C</td>\n",
       "      <td>Posterior long insular gyrus</td>\n",
       "      <td>Insula</td>\n",
       "      <td>Insula</td>\n",
       "      <td>688</td>\n",
       "    </tr>\n",
       "    <tr>\n",
       "      <th>689</th>\n",
       "      <td>R_I5_D</td>\n",
       "      <td>Posterior long insular gyrus</td>\n",
       "      <td>Insula</td>\n",
       "      <td>Insula</td>\n",
       "      <td>689</td>\n",
       "    </tr>\n",
       "  </tbody>\n",
       "</table>\n",
       "<p>690 rows × 5 columns</p>\n",
       "</div>"
      ],
      "text/plain": [
       "        Code                         Gyrus         Region      Lobe  Data\n",
       "0    L_TP1_A        Superior temporal pole  Temporal Pole  Temporal     0\n",
       "1    L_TP1_B        Superior temporal pole  Temporal Pole  Temporal     1\n",
       "2    L_TP1_C        Superior temporal pole  Temporal Pole  Temporal     2\n",
       "3    L_TP1_D        Superior temporal pole  Temporal Pole  Temporal     3\n",
       "4    L_TP1_E        Superior temporal pole  Temporal Pole  Temporal     4\n",
       "..       ...                           ...            ...       ...   ...\n",
       "685   R_I4_D     Middle long insular gyrus         Insula    Insula   685\n",
       "686   R_I5_A  Posterior long insular gyrus         Insula    Insula   686\n",
       "687   R_I5_B  Posterior long insular gyrus         Insula    Insula   687\n",
       "688   R_I5_C  Posterior long insular gyrus         Insula    Insula   688\n",
       "689   R_I5_D  Posterior long insular gyrus         Insula    Insula   689\n",
       "\n",
       "[690 rows x 5 columns]"
      ]
     },
     "execution_count": 33,
     "metadata": {},
     "output_type": "execute_result"
    }
   ],
   "source": [
    "# Create copy of dataframe with a different name\n",
    "data_df = yba_df.copy()\n",
    "# Drop unnecessary columns from the new dataframe. \n",
    "# axis = 1 drops columns, axis = 0 drops rows. \n",
    "# Setting inplace=True ensures that specified columns are dropped in the dataframe itself, \n",
    "# rather than returning yet another dataframe \n",
    "data_df.drop(['Index', 'Long name', 'Centroid', 'Volume', 'Color'], axis = 1, inplace=True)\n",
    "# Initialise the sample data vector. This should be replaced by the actual data to be analysed.\n",
    "data_vec = np.arange(0,690)\n",
    "# Add the data vector to the data dataframe\n",
    "data_df['Data'] = data_vec\n",
    "# Show the dataframe we created, with some old columns removed and one new column\n",
    "data_df"
   ]
  },
  {
   "cell_type": "markdown",
   "id": "0dd1c2d2",
   "metadata": {},
   "source": [
    "The mean of data values for each region can now be calculated:"
   ]
  },
  {
   "cell_type": "code",
   "execution_count": 41,
   "id": "19881990",
   "metadata": {},
   "outputs": [
    {
     "data": {
      "text/html": [
       "<div>\n",
       "<style scoped>\n",
       "    .dataframe tbody tr th:only-of-type {\n",
       "        vertical-align: middle;\n",
       "    }\n",
       "\n",
       "    .dataframe tbody tr th {\n",
       "        vertical-align: top;\n",
       "    }\n",
       "\n",
       "    .dataframe thead th {\n",
       "        text-align: right;\n",
       "    }\n",
       "</style>\n",
       "<table border=\"1\" class=\"dataframe\">\n",
       "  <thead>\n",
       "    <tr style=\"text-align: right;\">\n",
       "      <th></th>\n",
       "      <th>Data</th>\n",
       "    </tr>\n",
       "    <tr>\n",
       "      <th>Region</th>\n",
       "      <th></th>\n",
       "    </tr>\n",
       "  </thead>\n",
       "  <tbody>\n",
       "    <tr>\n",
       "      <th>Angular</th>\n",
       "      <td>259.5</td>\n",
       "    </tr>\n",
       "    <tr>\n",
       "      <th>Cingulate</th>\n",
       "      <td>485.5</td>\n",
       "    </tr>\n",
       "    <tr>\n",
       "      <th>Frontal pole</th>\n",
       "      <td>415.5</td>\n",
       "    </tr>\n",
       "    <tr>\n",
       "      <th>Inferior frontal</th>\n",
       "      <td>397.0</td>\n",
       "    </tr>\n",
       "    <tr>\n",
       "      <th>Inferior temporal-occipital</th>\n",
       "      <td>464.5</td>\n",
       "    </tr>\n",
       "    <tr>\n",
       "      <th>Insula</th>\n",
       "      <td>508.5</td>\n",
       "    </tr>\n",
       "    <tr>\n",
       "      <th>Mesial temporal</th>\n",
       "      <td>497.5</td>\n",
       "    </tr>\n",
       "    <tr>\n",
       "      <th>Middle frontal</th>\n",
       "      <td>378.5</td>\n",
       "    </tr>\n",
       "    <tr>\n",
       "      <th>Motor</th>\n",
       "      <td>325.5</td>\n",
       "    </tr>\n",
       "    <tr>\n",
       "      <th>Occipital</th>\n",
       "      <td>239.0</td>\n",
       "    </tr>\n",
       "    <tr>\n",
       "      <th>Orbital frontal</th>\n",
       "      <td>440.5</td>\n",
       "    </tr>\n",
       "    <tr>\n",
       "      <th>Sensory</th>\n",
       "      <td>311.5</td>\n",
       "    </tr>\n",
       "    <tr>\n",
       "      <th>Superior frontal</th>\n",
       "      <td>349.5</td>\n",
       "    </tr>\n",
       "    <tr>\n",
       "      <th>Superior parietal</th>\n",
       "      <td>293.0</td>\n",
       "    </tr>\n",
       "    <tr>\n",
       "      <th>Supramarginal</th>\n",
       "      <td>272.0</td>\n",
       "    </tr>\n",
       "    <tr>\n",
       "      <th>Temporal Pole</th>\n",
       "      <td>181.0</td>\n",
       "    </tr>\n",
       "    <tr>\n",
       "      <th>Temporal body</th>\n",
       "      <td>206.0</td>\n",
       "    </tr>\n",
       "  </tbody>\n",
       "</table>\n",
       "</div>"
      ],
      "text/plain": [
       "                               Data\n",
       "Region                             \n",
       "Angular                       259.5\n",
       "Cingulate                     485.5\n",
       "Frontal pole                  415.5\n",
       "Inferior frontal              397.0\n",
       "Inferior temporal-occipital   464.5\n",
       "Insula                        508.5\n",
       "Mesial temporal               497.5\n",
       "Middle frontal                378.5\n",
       "Motor                         325.5\n",
       "Occipital                     239.0\n",
       "Orbital frontal               440.5\n",
       "Sensory                       311.5\n",
       "Superior frontal              349.5\n",
       "Superior parietal             293.0\n",
       "Supramarginal                 272.0\n",
       "Temporal Pole                 181.0\n",
       "Temporal body                 206.0"
      ]
     },
     "execution_count": 41,
     "metadata": {},
     "output_type": "execute_result"
    }
   ],
   "source": [
    "# Replace 'Region' with 'Gyrus', 'Lobe', or 'Hemisphere' if interested in different anatomical groupings\n",
    "data_df.groupby('Region').mean()"
   ]
  },
  {
   "cell_type": "markdown",
   "id": "9df1d631",
   "metadata": {},
   "source": [
    "The default ordering (alphabetical) of groups isn't always desirable. Results can instead be sorted by data values:"
   ]
  },
  {
   "cell_type": "code",
   "execution_count": 44,
   "id": "0abdf2d2",
   "metadata": {},
   "outputs": [
    {
     "data": {
      "text/html": [
       "<div>\n",
       "<style scoped>\n",
       "    .dataframe tbody tr th:only-of-type {\n",
       "        vertical-align: middle;\n",
       "    }\n",
       "\n",
       "    .dataframe tbody tr th {\n",
       "        vertical-align: top;\n",
       "    }\n",
       "\n",
       "    .dataframe thead th {\n",
       "        text-align: right;\n",
       "    }\n",
       "</style>\n",
       "<table border=\"1\" class=\"dataframe\">\n",
       "  <thead>\n",
       "    <tr style=\"text-align: right;\">\n",
       "      <th></th>\n",
       "      <th>Data</th>\n",
       "    </tr>\n",
       "    <tr>\n",
       "      <th>Region</th>\n",
       "      <th></th>\n",
       "    </tr>\n",
       "  </thead>\n",
       "  <tbody>\n",
       "    <tr>\n",
       "      <th>Insula</th>\n",
       "      <td>508.5</td>\n",
       "    </tr>\n",
       "    <tr>\n",
       "      <th>Mesial temporal</th>\n",
       "      <td>497.5</td>\n",
       "    </tr>\n",
       "    <tr>\n",
       "      <th>Cingulate</th>\n",
       "      <td>485.5</td>\n",
       "    </tr>\n",
       "    <tr>\n",
       "      <th>Inferior temporal-occipital</th>\n",
       "      <td>464.5</td>\n",
       "    </tr>\n",
       "    <tr>\n",
       "      <th>Orbital frontal</th>\n",
       "      <td>440.5</td>\n",
       "    </tr>\n",
       "    <tr>\n",
       "      <th>Frontal pole</th>\n",
       "      <td>415.5</td>\n",
       "    </tr>\n",
       "    <tr>\n",
       "      <th>Inferior frontal</th>\n",
       "      <td>397.0</td>\n",
       "    </tr>\n",
       "    <tr>\n",
       "      <th>Middle frontal</th>\n",
       "      <td>378.5</td>\n",
       "    </tr>\n",
       "    <tr>\n",
       "      <th>Superior frontal</th>\n",
       "      <td>349.5</td>\n",
       "    </tr>\n",
       "    <tr>\n",
       "      <th>Motor</th>\n",
       "      <td>325.5</td>\n",
       "    </tr>\n",
       "    <tr>\n",
       "      <th>Sensory</th>\n",
       "      <td>311.5</td>\n",
       "    </tr>\n",
       "    <tr>\n",
       "      <th>Superior parietal</th>\n",
       "      <td>293.0</td>\n",
       "    </tr>\n",
       "    <tr>\n",
       "      <th>Supramarginal</th>\n",
       "      <td>272.0</td>\n",
       "    </tr>\n",
       "    <tr>\n",
       "      <th>Angular</th>\n",
       "      <td>259.5</td>\n",
       "    </tr>\n",
       "    <tr>\n",
       "      <th>Occipital</th>\n",
       "      <td>239.0</td>\n",
       "    </tr>\n",
       "    <tr>\n",
       "      <th>Temporal body</th>\n",
       "      <td>206.0</td>\n",
       "    </tr>\n",
       "    <tr>\n",
       "      <th>Temporal Pole</th>\n",
       "      <td>181.0</td>\n",
       "    </tr>\n",
       "  </tbody>\n",
       "</table>\n",
       "</div>"
      ],
      "text/plain": [
       "                               Data\n",
       "Region                             \n",
       "Insula                        508.5\n",
       "Mesial temporal               497.5\n",
       "Cingulate                     485.5\n",
       "Inferior temporal-occipital   464.5\n",
       "Orbital frontal               440.5\n",
       "Frontal pole                  415.5\n",
       "Inferior frontal              397.0\n",
       "Middle frontal                378.5\n",
       "Superior frontal              349.5\n",
       "Motor                         325.5\n",
       "Sensory                       311.5\n",
       "Superior parietal             293.0\n",
       "Supramarginal                 272.0\n",
       "Angular                       259.5\n",
       "Occipital                     239.0\n",
       "Temporal body                 206.0\n",
       "Temporal Pole                 181.0"
      ]
     },
     "execution_count": 44,
     "metadata": {},
     "output_type": "execute_result"
    }
   ],
   "source": [
    "data_df.groupby('Region').mean().sort_values(by= 'Data', ascending=False) # Set ascending = True for increasing order"
   ]
  },
  {
   "cell_type": "markdown",
   "id": "cd9b1073",
   "metadata": {},
   "source": [
    "There is often a need to analyse two or more data vectors in YBA space, and check for any association. This is performed as follows:"
   ]
  },
  {
   "cell_type": "code",
   "execution_count": 46,
   "id": "95165905",
   "metadata": {},
   "outputs": [
    {
     "data": {
      "text/html": [
       "<div>\n",
       "<style scoped>\n",
       "    .dataframe tbody tr th:only-of-type {\n",
       "        vertical-align: middle;\n",
       "    }\n",
       "\n",
       "    .dataframe tbody tr th {\n",
       "        vertical-align: top;\n",
       "    }\n",
       "\n",
       "    .dataframe thead th {\n",
       "        text-align: right;\n",
       "    }\n",
       "</style>\n",
       "<table border=\"1\" class=\"dataframe\">\n",
       "  <thead>\n",
       "    <tr style=\"text-align: right;\">\n",
       "      <th></th>\n",
       "      <th>Code</th>\n",
       "      <th>Gyrus</th>\n",
       "      <th>Region</th>\n",
       "      <th>Lobe</th>\n",
       "      <th>Data</th>\n",
       "      <th>Data 2</th>\n",
       "    </tr>\n",
       "  </thead>\n",
       "  <tbody>\n",
       "    <tr>\n",
       "      <th>0</th>\n",
       "      <td>L_TP1_A</td>\n",
       "      <td>Superior temporal pole</td>\n",
       "      <td>Temporal Pole</td>\n",
       "      <td>Temporal</td>\n",
       "      <td>0</td>\n",
       "      <td>0</td>\n",
       "    </tr>\n",
       "    <tr>\n",
       "      <th>1</th>\n",
       "      <td>L_TP1_B</td>\n",
       "      <td>Superior temporal pole</td>\n",
       "      <td>Temporal Pole</td>\n",
       "      <td>Temporal</td>\n",
       "      <td>1</td>\n",
       "      <td>1</td>\n",
       "    </tr>\n",
       "    <tr>\n",
       "      <th>2</th>\n",
       "      <td>L_TP1_C</td>\n",
       "      <td>Superior temporal pole</td>\n",
       "      <td>Temporal Pole</td>\n",
       "      <td>Temporal</td>\n",
       "      <td>2</td>\n",
       "      <td>2</td>\n",
       "    </tr>\n",
       "    <tr>\n",
       "      <th>3</th>\n",
       "      <td>L_TP1_D</td>\n",
       "      <td>Superior temporal pole</td>\n",
       "      <td>Temporal Pole</td>\n",
       "      <td>Temporal</td>\n",
       "      <td>3</td>\n",
       "      <td>3</td>\n",
       "    </tr>\n",
       "    <tr>\n",
       "      <th>4</th>\n",
       "      <td>L_TP1_E</td>\n",
       "      <td>Superior temporal pole</td>\n",
       "      <td>Temporal Pole</td>\n",
       "      <td>Temporal</td>\n",
       "      <td>4</td>\n",
       "      <td>4</td>\n",
       "    </tr>\n",
       "    <tr>\n",
       "      <th>...</th>\n",
       "      <td>...</td>\n",
       "      <td>...</td>\n",
       "      <td>...</td>\n",
       "      <td>...</td>\n",
       "      <td>...</td>\n",
       "      <td>...</td>\n",
       "    </tr>\n",
       "    <tr>\n",
       "      <th>685</th>\n",
       "      <td>R_I4_D</td>\n",
       "      <td>Middle long insular gyrus</td>\n",
       "      <td>Insula</td>\n",
       "      <td>Insula</td>\n",
       "      <td>685</td>\n",
       "      <td>685</td>\n",
       "    </tr>\n",
       "    <tr>\n",
       "      <th>686</th>\n",
       "      <td>R_I5_A</td>\n",
       "      <td>Posterior long insular gyrus</td>\n",
       "      <td>Insula</td>\n",
       "      <td>Insula</td>\n",
       "      <td>686</td>\n",
       "      <td>686</td>\n",
       "    </tr>\n",
       "    <tr>\n",
       "      <th>687</th>\n",
       "      <td>R_I5_B</td>\n",
       "      <td>Posterior long insular gyrus</td>\n",
       "      <td>Insula</td>\n",
       "      <td>Insula</td>\n",
       "      <td>687</td>\n",
       "      <td>687</td>\n",
       "    </tr>\n",
       "    <tr>\n",
       "      <th>688</th>\n",
       "      <td>R_I5_C</td>\n",
       "      <td>Posterior long insular gyrus</td>\n",
       "      <td>Insula</td>\n",
       "      <td>Insula</td>\n",
       "      <td>688</td>\n",
       "      <td>688</td>\n",
       "    </tr>\n",
       "    <tr>\n",
       "      <th>689</th>\n",
       "      <td>R_I5_D</td>\n",
       "      <td>Posterior long insular gyrus</td>\n",
       "      <td>Insula</td>\n",
       "      <td>Insula</td>\n",
       "      <td>689</td>\n",
       "      <td>689</td>\n",
       "    </tr>\n",
       "  </tbody>\n",
       "</table>\n",
       "<p>690 rows × 6 columns</p>\n",
       "</div>"
      ],
      "text/plain": [
       "        Code                         Gyrus         Region      Lobe  Data  \\\n",
       "0    L_TP1_A        Superior temporal pole  Temporal Pole  Temporal     0   \n",
       "1    L_TP1_B        Superior temporal pole  Temporal Pole  Temporal     1   \n",
       "2    L_TP1_C        Superior temporal pole  Temporal Pole  Temporal     2   \n",
       "3    L_TP1_D        Superior temporal pole  Temporal Pole  Temporal     3   \n",
       "4    L_TP1_E        Superior temporal pole  Temporal Pole  Temporal     4   \n",
       "..       ...                           ...            ...       ...   ...   \n",
       "685   R_I4_D     Middle long insular gyrus         Insula    Insula   685   \n",
       "686   R_I5_A  Posterior long insular gyrus         Insula    Insula   686   \n",
       "687   R_I5_B  Posterior long insular gyrus         Insula    Insula   687   \n",
       "688   R_I5_C  Posterior long insular gyrus         Insula    Insula   688   \n",
       "689   R_I5_D  Posterior long insular gyrus         Insula    Insula   689   \n",
       "\n",
       "     Data 2  \n",
       "0         0  \n",
       "1         1  \n",
       "2         2  \n",
       "3         3  \n",
       "4         4  \n",
       "..      ...  \n",
       "685     685  \n",
       "686     686  \n",
       "687     687  \n",
       "688     688  \n",
       "689     689  \n",
       "\n",
       "[690 rows x 6 columns]"
      ]
     },
     "execution_count": 46,
     "metadata": {},
     "output_type": "execute_result"
    }
   ],
   "source": [
    "# Initialise the other sample data vector. This should be replaced by the actual data to be analysed.\n",
    "data_vec2 = np.arange(0,690)\n",
    "# Add the data vector to the data dataframe\n",
    "data_df['Data 2'] = data_vec2\n",
    "# Show the dataframe we created, with second data column added\n",
    "data_df"
   ]
  },
  {
   "cell_type": "code",
   "execution_count": 47,
   "id": "acd24e98",
   "metadata": {},
   "outputs": [
    {
     "data": {
      "text/html": [
       "<div>\n",
       "<style scoped>\n",
       "    .dataframe tbody tr th:only-of-type {\n",
       "        vertical-align: middle;\n",
       "    }\n",
       "\n",
       "    .dataframe tbody tr th {\n",
       "        vertical-align: top;\n",
       "    }\n",
       "\n",
       "    .dataframe thead th {\n",
       "        text-align: right;\n",
       "    }\n",
       "</style>\n",
       "<table border=\"1\" class=\"dataframe\">\n",
       "  <thead>\n",
       "    <tr style=\"text-align: right;\">\n",
       "      <th></th>\n",
       "      <th>Data</th>\n",
       "      <th>Data 2</th>\n",
       "    </tr>\n",
       "  </thead>\n",
       "  <tbody>\n",
       "    <tr>\n",
       "      <th>Data</th>\n",
       "      <td>1.0</td>\n",
       "      <td>1.0</td>\n",
       "    </tr>\n",
       "    <tr>\n",
       "      <th>Data 2</th>\n",
       "      <td>1.0</td>\n",
       "      <td>1.0</td>\n",
       "    </tr>\n",
       "  </tbody>\n",
       "</table>\n",
       "</div>"
      ],
      "text/plain": [
       "        Data  Data 2\n",
       "Data     1.0     1.0\n",
       "Data 2   1.0     1.0"
      ]
     },
     "execution_count": 47,
     "metadata": {},
     "output_type": "execute_result"
    }
   ],
   "source": [
    "# Output PearsonR correlation coefficient between vectors in tabular form\n",
    "data_df.corr(method='pearson') # Other correlation measures include 'kendall' and 'spearman'"
   ]
  },
  {
   "cell_type": "markdown",
   "id": "e30f6ccc",
   "metadata": {},
   "source": [
    "Since we used identical sample data vectors, we get the expected value of 1 (perfectly correlated).\n",
    "\n",
    "This is a useful method to inspect a variety of statistical measures at once:"
   ]
  },
  {
   "cell_type": "code",
   "execution_count": 48,
   "id": "c18bbf07",
   "metadata": {},
   "outputs": [
    {
     "data": {
      "text/html": [
       "<div>\n",
       "<style scoped>\n",
       "    .dataframe tbody tr th:only-of-type {\n",
       "        vertical-align: middle;\n",
       "    }\n",
       "\n",
       "    .dataframe tbody tr th {\n",
       "        vertical-align: top;\n",
       "    }\n",
       "\n",
       "    .dataframe thead th {\n",
       "        text-align: right;\n",
       "    }\n",
       "</style>\n",
       "<table border=\"1\" class=\"dataframe\">\n",
       "  <thead>\n",
       "    <tr style=\"text-align: right;\">\n",
       "      <th></th>\n",
       "      <th>Data</th>\n",
       "      <th>Data 2</th>\n",
       "    </tr>\n",
       "  </thead>\n",
       "  <tbody>\n",
       "    <tr>\n",
       "      <th>count</th>\n",
       "      <td>690.000000</td>\n",
       "      <td>690.000000</td>\n",
       "    </tr>\n",
       "    <tr>\n",
       "      <th>mean</th>\n",
       "      <td>344.500000</td>\n",
       "      <td>344.500000</td>\n",
       "    </tr>\n",
       "    <tr>\n",
       "      <th>std</th>\n",
       "      <td>199.330128</td>\n",
       "      <td>199.330128</td>\n",
       "    </tr>\n",
       "    <tr>\n",
       "      <th>min</th>\n",
       "      <td>0.000000</td>\n",
       "      <td>0.000000</td>\n",
       "    </tr>\n",
       "    <tr>\n",
       "      <th>25%</th>\n",
       "      <td>172.250000</td>\n",
       "      <td>172.250000</td>\n",
       "    </tr>\n",
       "    <tr>\n",
       "      <th>50%</th>\n",
       "      <td>344.500000</td>\n",
       "      <td>344.500000</td>\n",
       "    </tr>\n",
       "    <tr>\n",
       "      <th>75%</th>\n",
       "      <td>516.750000</td>\n",
       "      <td>516.750000</td>\n",
       "    </tr>\n",
       "    <tr>\n",
       "      <th>max</th>\n",
       "      <td>689.000000</td>\n",
       "      <td>689.000000</td>\n",
       "    </tr>\n",
       "  </tbody>\n",
       "</table>\n",
       "</div>"
      ],
      "text/plain": [
       "             Data      Data 2\n",
       "count  690.000000  690.000000\n",
       "mean   344.500000  344.500000\n",
       "std    199.330128  199.330128\n",
       "min      0.000000    0.000000\n",
       "25%    172.250000  172.250000\n",
       "50%    344.500000  344.500000\n",
       "75%    516.750000  516.750000\n",
       "max    689.000000  689.000000"
      ]
     },
     "execution_count": 48,
     "metadata": {},
     "output_type": "execute_result"
    }
   ],
   "source": [
    "data_df.describe()"
   ]
  },
  {
   "cell_type": "markdown",
   "id": "20f64572",
   "metadata": {},
   "source": [
    "# IX: Plotting\n",
    "\n",
    "Although sophisticated interactive and static brain plots of YBA space data vectors can be created in anatomical space, they are (for now) outside the scope of this guide. \n",
    "\n",
    "This section deals instead with the creation of boxplots, violinplots, and correlation heatmaps. "
   ]
  },
  {
   "cell_type": "code",
   "execution_count": 49,
   "id": "9bff3533",
   "metadata": {},
   "outputs": [],
   "source": [
    "# Import necessary libraries\n",
    "import plotly.express as px\n",
    "import plotly.graph_objects as go\n",
    "import kaleido\n",
    "import seaborn as sns\n",
    "import matplotlib.pyplot as plt"
   ]
  },
  {
   "cell_type": "markdown",
   "id": "b8b28884",
   "metadata": {},
   "source": [
    "Plotly express is useful for simple plots:"
   ]
  },
  {
   "cell_type": "code",
   "execution_count": 65,
   "id": "fb361bf0",
   "metadata": {},
   "outputs": [
    {
     "data": {
      "application/vnd.plotly.v1+json": {
       "config": {
        "plotlyServerURL": "https://plot.ly"
       },
       "data": [
        {
         "alignmentgroup": "True",
         "hovertemplate": "Lobe=%{y}<br>Data=%{x}<extra></extra>",
         "legendgroup": "Temporal",
         "marker": {
          "color": "#1F77B4"
         },
         "name": "Temporal",
         "notched": false,
         "offsetgroup": "Temporal",
         "orientation": "h",
         "showlegend": true,
         "type": "box",
         "x": [
          0,
          1,
          2,
          3,
          4,
          5,
          6,
          7,
          8,
          9,
          10,
          11,
          12,
          13,
          14,
          15,
          16,
          17,
          18,
          19,
          20,
          21,
          22,
          23,
          24,
          25,
          26,
          27,
          28,
          29,
          30,
          31,
          32,
          33,
          34,
          35,
          36,
          37,
          38,
          39,
          40,
          41,
          42,
          43,
          44,
          45,
          46,
          47,
          48,
          49,
          281,
          282,
          283,
          284,
          285,
          286,
          287,
          288,
          289,
          290,
          291,
          292,
          293,
          294,
          295,
          296,
          297,
          298,
          299,
          300,
          323,
          324,
          325,
          326,
          327,
          345,
          346,
          347,
          348,
          349,
          350,
          351,
          352,
          353,
          354,
          355,
          356,
          357,
          358,
          359,
          360,
          361,
          362,
          363,
          364,
          365,
          366,
          367,
          368,
          369,
          370,
          371,
          372,
          373,
          374,
          375,
          376,
          377,
          378,
          379,
          380,
          381,
          382,
          383,
          384,
          385,
          386,
          387,
          388,
          389,
          390,
          391,
          392,
          393,
          394,
          626,
          627,
          628,
          629,
          630,
          631,
          632,
          633,
          634,
          635,
          636,
          637,
          638,
          639,
          640,
          641,
          642,
          643,
          644,
          645,
          668,
          669,
          670,
          671,
          672
         ],
         "x0": " ",
         "xaxis": "x",
         "y": [
          "Temporal",
          "Temporal",
          "Temporal",
          "Temporal",
          "Temporal",
          "Temporal",
          "Temporal",
          "Temporal",
          "Temporal",
          "Temporal",
          "Temporal",
          "Temporal",
          "Temporal",
          "Temporal",
          "Temporal",
          "Temporal",
          "Temporal",
          "Temporal",
          "Temporal",
          "Temporal",
          "Temporal",
          "Temporal",
          "Temporal",
          "Temporal",
          "Temporal",
          "Temporal",
          "Temporal",
          "Temporal",
          "Temporal",
          "Temporal",
          "Temporal",
          "Temporal",
          "Temporal",
          "Temporal",
          "Temporal",
          "Temporal",
          "Temporal",
          "Temporal",
          "Temporal",
          "Temporal",
          "Temporal",
          "Temporal",
          "Temporal",
          "Temporal",
          "Temporal",
          "Temporal",
          "Temporal",
          "Temporal",
          "Temporal",
          "Temporal",
          "Temporal",
          "Temporal",
          "Temporal",
          "Temporal",
          "Temporal",
          "Temporal",
          "Temporal",
          "Temporal",
          "Temporal",
          "Temporal",
          "Temporal",
          "Temporal",
          "Temporal",
          "Temporal",
          "Temporal",
          "Temporal",
          "Temporal",
          "Temporal",
          "Temporal",
          "Temporal",
          "Temporal",
          "Temporal",
          "Temporal",
          "Temporal",
          "Temporal",
          "Temporal",
          "Temporal",
          "Temporal",
          "Temporal",
          "Temporal",
          "Temporal",
          "Temporal",
          "Temporal",
          "Temporal",
          "Temporal",
          "Temporal",
          "Temporal",
          "Temporal",
          "Temporal",
          "Temporal",
          "Temporal",
          "Temporal",
          "Temporal",
          "Temporal",
          "Temporal",
          "Temporal",
          "Temporal",
          "Temporal",
          "Temporal",
          "Temporal",
          "Temporal",
          "Temporal",
          "Temporal",
          "Temporal",
          "Temporal",
          "Temporal",
          "Temporal",
          "Temporal",
          "Temporal",
          "Temporal",
          "Temporal",
          "Temporal",
          "Temporal",
          "Temporal",
          "Temporal",
          "Temporal",
          "Temporal",
          "Temporal",
          "Temporal",
          "Temporal",
          "Temporal",
          "Temporal",
          "Temporal",
          "Temporal",
          "Temporal",
          "Temporal",
          "Temporal",
          "Temporal",
          "Temporal",
          "Temporal",
          "Temporal",
          "Temporal",
          "Temporal",
          "Temporal",
          "Temporal",
          "Temporal",
          "Temporal",
          "Temporal",
          "Temporal",
          "Temporal",
          "Temporal",
          "Temporal",
          "Temporal",
          "Temporal",
          "Temporal",
          "Temporal",
          "Temporal",
          "Temporal",
          "Temporal",
          "Temporal"
         ],
         "y0": " ",
         "yaxis": "y"
        },
        {
         "alignmentgroup": "True",
         "hovertemplate": "Lobe=%{y}<br>Data=%{x}<extra></extra>",
         "legendgroup": "Occipital",
         "marker": {
          "color": "#FF7F0E"
         },
         "name": "Occipital",
         "notched": false,
         "offsetgroup": "Occipital",
         "orientation": "h",
         "showlegend": true,
         "type": "box",
         "x": [
          50,
          51,
          52,
          53,
          54,
          55,
          56,
          57,
          58,
          59,
          60,
          61,
          62,
          63,
          64,
          65,
          66,
          67,
          68,
          69,
          70,
          71,
          72,
          73,
          74,
          75,
          76,
          77,
          78,
          79,
          80,
          81,
          82,
          83,
          301,
          302,
          303,
          395,
          396,
          397,
          398,
          399,
          400,
          401,
          402,
          403,
          404,
          405,
          406,
          407,
          408,
          409,
          410,
          411,
          412,
          413,
          414,
          415,
          416,
          417,
          418,
          419,
          420,
          421,
          422,
          423,
          424,
          425,
          426,
          427,
          428,
          646,
          647,
          648
         ],
         "x0": " ",
         "xaxis": "x",
         "y": [
          "Occipital",
          "Occipital",
          "Occipital",
          "Occipital",
          "Occipital",
          "Occipital",
          "Occipital",
          "Occipital",
          "Occipital",
          "Occipital",
          "Occipital",
          "Occipital",
          "Occipital",
          "Occipital",
          "Occipital",
          "Occipital",
          "Occipital",
          "Occipital",
          "Occipital",
          "Occipital",
          "Occipital",
          "Occipital",
          "Occipital",
          "Occipital",
          "Occipital",
          "Occipital",
          "Occipital",
          "Occipital",
          "Occipital",
          "Occipital",
          "Occipital",
          "Occipital",
          "Occipital",
          "Occipital",
          "Occipital",
          "Occipital",
          "Occipital",
          "Occipital",
          "Occipital",
          "Occipital",
          "Occipital",
          "Occipital",
          "Occipital",
          "Occipital",
          "Occipital",
          "Occipital",
          "Occipital",
          "Occipital",
          "Occipital",
          "Occipital",
          "Occipital",
          "Occipital",
          "Occipital",
          "Occipital",
          "Occipital",
          "Occipital",
          "Occipital",
          "Occipital",
          "Occipital",
          "Occipital",
          "Occipital",
          "Occipital",
          "Occipital",
          "Occipital",
          "Occipital",
          "Occipital",
          "Occipital",
          "Occipital",
          "Occipital",
          "Occipital",
          "Occipital",
          "Occipital",
          "Occipital",
          "Occipital"
         ],
         "y0": " ",
         "yaxis": "y"
        },
        {
         "alignmentgroup": "True",
         "hovertemplate": "Lobe=%{y}<br>Data=%{x}<extra></extra>",
         "legendgroup": "Parietal",
         "marker": {
          "color": "#2CA02C"
         },
         "name": "Parietal",
         "notched": false,
         "offsetgroup": "Parietal",
         "orientation": "h",
         "showlegend": true,
         "type": "box",
         "x": [
          84,
          85,
          86,
          87,
          88,
          89,
          90,
          91,
          92,
          93,
          94,
          95,
          96,
          97,
          98,
          99,
          100,
          101,
          102,
          103,
          104,
          105,
          106,
          107,
          108,
          109,
          110,
          111,
          112,
          113,
          114,
          115,
          116,
          117,
          118,
          119,
          120,
          121,
          122,
          123,
          124,
          125,
          126,
          127,
          128,
          129,
          130,
          131,
          132,
          133,
          134,
          135,
          136,
          137,
          138,
          139,
          140,
          141,
          142,
          143,
          144,
          145,
          429,
          430,
          431,
          432,
          433,
          434,
          435,
          436,
          437,
          438,
          439,
          440,
          441,
          442,
          443,
          444,
          445,
          446,
          447,
          448,
          449,
          450,
          451,
          452,
          453,
          454,
          455,
          456,
          457,
          458,
          459,
          460,
          461,
          462,
          463,
          464,
          465,
          466,
          467,
          468,
          469,
          470,
          471,
          472,
          473,
          474,
          475,
          476,
          477,
          478,
          479,
          480,
          481,
          482,
          483,
          484,
          485,
          486,
          487,
          488,
          489,
          490
         ],
         "x0": " ",
         "xaxis": "x",
         "y": [
          "Parietal",
          "Parietal",
          "Parietal",
          "Parietal",
          "Parietal",
          "Parietal",
          "Parietal",
          "Parietal",
          "Parietal",
          "Parietal",
          "Parietal",
          "Parietal",
          "Parietal",
          "Parietal",
          "Parietal",
          "Parietal",
          "Parietal",
          "Parietal",
          "Parietal",
          "Parietal",
          "Parietal",
          "Parietal",
          "Parietal",
          "Parietal",
          "Parietal",
          "Parietal",
          "Parietal",
          "Parietal",
          "Parietal",
          "Parietal",
          "Parietal",
          "Parietal",
          "Parietal",
          "Parietal",
          "Parietal",
          "Parietal",
          "Parietal",
          "Parietal",
          "Parietal",
          "Parietal",
          "Parietal",
          "Parietal",
          "Parietal",
          "Parietal",
          "Parietal",
          "Parietal",
          "Parietal",
          "Parietal",
          "Parietal",
          "Parietal",
          "Parietal",
          "Parietal",
          "Parietal",
          "Parietal",
          "Parietal",
          "Parietal",
          "Parietal",
          "Parietal",
          "Parietal",
          "Parietal",
          "Parietal",
          "Parietal",
          "Parietal",
          "Parietal",
          "Parietal",
          "Parietal",
          "Parietal",
          "Parietal",
          "Parietal",
          "Parietal",
          "Parietal",
          "Parietal",
          "Parietal",
          "Parietal",
          "Parietal",
          "Parietal",
          "Parietal",
          "Parietal",
          "Parietal",
          "Parietal",
          "Parietal",
          "Parietal",
          "Parietal",
          "Parietal",
          "Parietal",
          "Parietal",
          "Parietal",
          "Parietal",
          "Parietal",
          "Parietal",
          "Parietal",
          "Parietal",
          "Parietal",
          "Parietal",
          "Parietal",
          "Parietal",
          "Parietal",
          "Parietal",
          "Parietal",
          "Parietal",
          "Parietal",
          "Parietal",
          "Parietal",
          "Parietal",
          "Parietal",
          "Parietal",
          "Parietal",
          "Parietal",
          "Parietal",
          "Parietal",
          "Parietal",
          "Parietal",
          "Parietal",
          "Parietal",
          "Parietal",
          "Parietal",
          "Parietal",
          "Parietal",
          "Parietal",
          "Parietal",
          "Parietal",
          "Parietal",
          "Parietal",
          "Parietal"
         ],
         "y0": " ",
         "yaxis": "y"
        },
        {
         "alignmentgroup": "True",
         "hovertemplate": "Lobe=%{y}<br>Data=%{x}<extra></extra>",
         "legendgroup": "Frontal",
         "marker": {
          "color": "#D62728"
         },
         "name": "Frontal",
         "notched": false,
         "offsetgroup": "Frontal",
         "orientation": "h",
         "showlegend": true,
         "type": "box",
         "x": [
          146,
          147,
          148,
          149,
          150,
          151,
          152,
          153,
          154,
          155,
          156,
          157,
          158,
          159,
          160,
          161,
          162,
          163,
          164,
          165,
          166,
          167,
          168,
          169,
          170,
          171,
          172,
          173,
          174,
          175,
          176,
          177,
          178,
          179,
          180,
          181,
          182,
          183,
          184,
          185,
          186,
          187,
          188,
          189,
          190,
          191,
          192,
          193,
          194,
          195,
          196,
          197,
          198,
          199,
          200,
          201,
          202,
          203,
          204,
          205,
          206,
          207,
          208,
          209,
          210,
          211,
          212,
          213,
          214,
          215,
          216,
          217,
          218,
          219,
          220,
          221,
          222,
          223,
          224,
          225,
          226,
          227,
          228,
          229,
          230,
          231,
          232,
          233,
          234,
          235,
          236,
          237,
          238,
          239,
          240,
          241,
          242,
          243,
          244,
          245,
          246,
          247,
          248,
          249,
          250,
          251,
          252,
          253,
          254,
          255,
          256,
          257,
          258,
          259,
          260,
          261,
          262,
          263,
          264,
          265,
          266,
          267,
          268,
          269,
          270,
          271,
          272,
          273,
          274,
          275,
          276,
          277,
          278,
          279,
          280,
          304,
          305,
          306,
          307,
          308,
          309,
          310,
          311,
          312,
          313,
          314,
          315,
          316,
          317,
          318,
          319,
          320,
          321,
          322,
          491,
          492,
          493,
          494,
          495,
          496,
          497,
          498,
          499,
          500,
          501,
          502,
          503,
          504,
          505,
          506,
          507,
          508,
          509,
          510,
          511,
          512,
          513,
          514,
          515,
          516,
          517,
          518,
          519,
          520,
          521,
          522,
          523,
          524,
          525,
          526,
          527,
          528,
          529,
          530,
          531,
          532,
          533,
          534,
          535,
          536,
          537,
          538,
          539,
          540,
          541,
          542,
          543,
          544,
          545,
          546,
          547,
          548,
          549,
          550,
          551,
          552,
          553,
          554,
          555,
          556,
          557,
          558,
          559,
          560,
          561,
          562,
          563,
          564,
          565,
          566,
          567,
          568,
          569,
          570,
          571,
          572,
          573,
          574,
          575,
          576,
          577,
          578,
          579,
          580,
          581,
          582,
          583,
          584,
          585,
          586,
          587,
          588,
          589,
          590,
          591,
          592,
          593,
          594,
          595,
          596,
          597,
          598,
          599,
          600,
          601,
          602,
          603,
          604,
          605,
          606,
          607,
          608,
          609,
          610,
          611,
          612,
          613,
          614,
          615,
          616,
          617,
          618,
          619,
          620,
          621,
          622,
          623,
          624,
          625,
          649,
          650,
          651,
          652,
          653,
          654,
          655,
          656,
          657,
          658,
          659,
          660,
          661,
          662,
          663,
          664,
          665,
          666,
          667
         ],
         "x0": " ",
         "xaxis": "x",
         "y": [
          "Frontal",
          "Frontal",
          "Frontal",
          "Frontal",
          "Frontal",
          "Frontal",
          "Frontal",
          "Frontal",
          "Frontal",
          "Frontal",
          "Frontal",
          "Frontal",
          "Frontal",
          "Frontal",
          "Frontal",
          "Frontal",
          "Frontal",
          "Frontal",
          "Frontal",
          "Frontal",
          "Frontal",
          "Frontal",
          "Frontal",
          "Frontal",
          "Frontal",
          "Frontal",
          "Frontal",
          "Frontal",
          "Frontal",
          "Frontal",
          "Frontal",
          "Frontal",
          "Frontal",
          "Frontal",
          "Frontal",
          "Frontal",
          "Frontal",
          "Frontal",
          "Frontal",
          "Frontal",
          "Frontal",
          "Frontal",
          "Frontal",
          "Frontal",
          "Frontal",
          "Frontal",
          "Frontal",
          "Frontal",
          "Frontal",
          "Frontal",
          "Frontal",
          "Frontal",
          "Frontal",
          "Frontal",
          "Frontal",
          "Frontal",
          "Frontal",
          "Frontal",
          "Frontal",
          "Frontal",
          "Frontal",
          "Frontal",
          "Frontal",
          "Frontal",
          "Frontal",
          "Frontal",
          "Frontal",
          "Frontal",
          "Frontal",
          "Frontal",
          "Frontal",
          "Frontal",
          "Frontal",
          "Frontal",
          "Frontal",
          "Frontal",
          "Frontal",
          "Frontal",
          "Frontal",
          "Frontal",
          "Frontal",
          "Frontal",
          "Frontal",
          "Frontal",
          "Frontal",
          "Frontal",
          "Frontal",
          "Frontal",
          "Frontal",
          "Frontal",
          "Frontal",
          "Frontal",
          "Frontal",
          "Frontal",
          "Frontal",
          "Frontal",
          "Frontal",
          "Frontal",
          "Frontal",
          "Frontal",
          "Frontal",
          "Frontal",
          "Frontal",
          "Frontal",
          "Frontal",
          "Frontal",
          "Frontal",
          "Frontal",
          "Frontal",
          "Frontal",
          "Frontal",
          "Frontal",
          "Frontal",
          "Frontal",
          "Frontal",
          "Frontal",
          "Frontal",
          "Frontal",
          "Frontal",
          "Frontal",
          "Frontal",
          "Frontal",
          "Frontal",
          "Frontal",
          "Frontal",
          "Frontal",
          "Frontal",
          "Frontal",
          "Frontal",
          "Frontal",
          "Frontal",
          "Frontal",
          "Frontal",
          "Frontal",
          "Frontal",
          "Frontal",
          "Frontal",
          "Frontal",
          "Frontal",
          "Frontal",
          "Frontal",
          "Frontal",
          "Frontal",
          "Frontal",
          "Frontal",
          "Frontal",
          "Frontal",
          "Frontal",
          "Frontal",
          "Frontal",
          "Frontal",
          "Frontal",
          "Frontal",
          "Frontal",
          "Frontal",
          "Frontal",
          "Frontal",
          "Frontal",
          "Frontal",
          "Frontal",
          "Frontal",
          "Frontal",
          "Frontal",
          "Frontal",
          "Frontal",
          "Frontal",
          "Frontal",
          "Frontal",
          "Frontal",
          "Frontal",
          "Frontal",
          "Frontal",
          "Frontal",
          "Frontal",
          "Frontal",
          "Frontal",
          "Frontal",
          "Frontal",
          "Frontal",
          "Frontal",
          "Frontal",
          "Frontal",
          "Frontal",
          "Frontal",
          "Frontal",
          "Frontal",
          "Frontal",
          "Frontal",
          "Frontal",
          "Frontal",
          "Frontal",
          "Frontal",
          "Frontal",
          "Frontal",
          "Frontal",
          "Frontal",
          "Frontal",
          "Frontal",
          "Frontal",
          "Frontal",
          "Frontal",
          "Frontal",
          "Frontal",
          "Frontal",
          "Frontal",
          "Frontal",
          "Frontal",
          "Frontal",
          "Frontal",
          "Frontal",
          "Frontal",
          "Frontal",
          "Frontal",
          "Frontal",
          "Frontal",
          "Frontal",
          "Frontal",
          "Frontal",
          "Frontal",
          "Frontal",
          "Frontal",
          "Frontal",
          "Frontal",
          "Frontal",
          "Frontal",
          "Frontal",
          "Frontal",
          "Frontal",
          "Frontal",
          "Frontal",
          "Frontal",
          "Frontal",
          "Frontal",
          "Frontal",
          "Frontal",
          "Frontal",
          "Frontal",
          "Frontal",
          "Frontal",
          "Frontal",
          "Frontal",
          "Frontal",
          "Frontal",
          "Frontal",
          "Frontal",
          "Frontal",
          "Frontal",
          "Frontal",
          "Frontal",
          "Frontal",
          "Frontal",
          "Frontal",
          "Frontal",
          "Frontal",
          "Frontal",
          "Frontal",
          "Frontal",
          "Frontal",
          "Frontal",
          "Frontal",
          "Frontal",
          "Frontal",
          "Frontal",
          "Frontal",
          "Frontal",
          "Frontal",
          "Frontal",
          "Frontal",
          "Frontal",
          "Frontal",
          "Frontal",
          "Frontal",
          "Frontal",
          "Frontal",
          "Frontal",
          "Frontal",
          "Frontal",
          "Frontal",
          "Frontal",
          "Frontal",
          "Frontal",
          "Frontal",
          "Frontal",
          "Frontal",
          "Frontal",
          "Frontal",
          "Frontal",
          "Frontal",
          "Frontal",
          "Frontal",
          "Frontal",
          "Frontal",
          "Frontal",
          "Frontal",
          "Frontal",
          "Frontal",
          "Frontal",
          "Frontal",
          "Frontal",
          "Frontal",
          "Frontal",
          "Frontal",
          "Frontal",
          "Frontal",
          "Frontal",
          "Frontal",
          "Frontal",
          "Frontal"
         ],
         "y0": " ",
         "yaxis": "y"
        },
        {
         "alignmentgroup": "True",
         "hovertemplate": "Lobe=%{y}<br>Data=%{x}<extra></extra>",
         "legendgroup": "Insula",
         "marker": {
          "color": "#9467BD"
         },
         "name": "Insula",
         "notched": false,
         "offsetgroup": "Insula",
         "orientation": "h",
         "showlegend": true,
         "type": "box",
         "x": [
          328,
          329,
          330,
          331,
          332,
          333,
          334,
          335,
          336,
          337,
          338,
          339,
          340,
          341,
          342,
          343,
          344,
          673,
          674,
          675,
          676,
          677,
          678,
          679,
          680,
          681,
          682,
          683,
          684,
          685,
          686,
          687,
          688,
          689
         ],
         "x0": " ",
         "xaxis": "x",
         "y": [
          "Insula",
          "Insula",
          "Insula",
          "Insula",
          "Insula",
          "Insula",
          "Insula",
          "Insula",
          "Insula",
          "Insula",
          "Insula",
          "Insula",
          "Insula",
          "Insula",
          "Insula",
          "Insula",
          "Insula",
          "Insula",
          "Insula",
          "Insula",
          "Insula",
          "Insula",
          "Insula",
          "Insula",
          "Insula",
          "Insula",
          "Insula",
          "Insula",
          "Insula",
          "Insula",
          "Insula",
          "Insula",
          "Insula",
          "Insula"
         ],
         "y0": " ",
         "yaxis": "y"
        }
       ],
       "layout": {
        "boxmode": "overlay",
        "legend": {
         "title": {
          "text": "Lobe"
         },
         "tracegroupgap": 0
        },
        "margin": {
         "t": 60
        },
        "template": {
         "data": {
          "bar": [
           {
            "error_x": {
             "color": "rgb(36,36,36)"
            },
            "error_y": {
             "color": "rgb(36,36,36)"
            },
            "marker": {
             "line": {
              "color": "white",
              "width": 0.5
             },
             "pattern": {
              "fillmode": "overlay",
              "size": 10,
              "solidity": 0.2
             }
            },
            "type": "bar"
           }
          ],
          "barpolar": [
           {
            "marker": {
             "line": {
              "color": "white",
              "width": 0.5
             },
             "pattern": {
              "fillmode": "overlay",
              "size": 10,
              "solidity": 0.2
             }
            },
            "type": "barpolar"
           }
          ],
          "carpet": [
           {
            "aaxis": {
             "endlinecolor": "rgb(36,36,36)",
             "gridcolor": "white",
             "linecolor": "white",
             "minorgridcolor": "white",
             "startlinecolor": "rgb(36,36,36)"
            },
            "baxis": {
             "endlinecolor": "rgb(36,36,36)",
             "gridcolor": "white",
             "linecolor": "white",
             "minorgridcolor": "white",
             "startlinecolor": "rgb(36,36,36)"
            },
            "type": "carpet"
           }
          ],
          "choropleth": [
           {
            "colorbar": {
             "outlinewidth": 1,
             "tickcolor": "rgb(36,36,36)",
             "ticks": "outside"
            },
            "type": "choropleth"
           }
          ],
          "contour": [
           {
            "colorbar": {
             "outlinewidth": 1,
             "tickcolor": "rgb(36,36,36)",
             "ticks": "outside"
            },
            "colorscale": [
             [
              0,
              "#440154"
             ],
             [
              0.1111111111111111,
              "#482878"
             ],
             [
              0.2222222222222222,
              "#3e4989"
             ],
             [
              0.3333333333333333,
              "#31688e"
             ],
             [
              0.4444444444444444,
              "#26828e"
             ],
             [
              0.5555555555555556,
              "#1f9e89"
             ],
             [
              0.6666666666666666,
              "#35b779"
             ],
             [
              0.7777777777777778,
              "#6ece58"
             ],
             [
              0.8888888888888888,
              "#b5de2b"
             ],
             [
              1,
              "#fde725"
             ]
            ],
            "type": "contour"
           }
          ],
          "contourcarpet": [
           {
            "colorbar": {
             "outlinewidth": 1,
             "tickcolor": "rgb(36,36,36)",
             "ticks": "outside"
            },
            "type": "contourcarpet"
           }
          ],
          "heatmap": [
           {
            "colorbar": {
             "outlinewidth": 1,
             "tickcolor": "rgb(36,36,36)",
             "ticks": "outside"
            },
            "colorscale": [
             [
              0,
              "#440154"
             ],
             [
              0.1111111111111111,
              "#482878"
             ],
             [
              0.2222222222222222,
              "#3e4989"
             ],
             [
              0.3333333333333333,
              "#31688e"
             ],
             [
              0.4444444444444444,
              "#26828e"
             ],
             [
              0.5555555555555556,
              "#1f9e89"
             ],
             [
              0.6666666666666666,
              "#35b779"
             ],
             [
              0.7777777777777778,
              "#6ece58"
             ],
             [
              0.8888888888888888,
              "#b5de2b"
             ],
             [
              1,
              "#fde725"
             ]
            ],
            "type": "heatmap"
           }
          ],
          "heatmapgl": [
           {
            "colorbar": {
             "outlinewidth": 1,
             "tickcolor": "rgb(36,36,36)",
             "ticks": "outside"
            },
            "colorscale": [
             [
              0,
              "#440154"
             ],
             [
              0.1111111111111111,
              "#482878"
             ],
             [
              0.2222222222222222,
              "#3e4989"
             ],
             [
              0.3333333333333333,
              "#31688e"
             ],
             [
              0.4444444444444444,
              "#26828e"
             ],
             [
              0.5555555555555556,
              "#1f9e89"
             ],
             [
              0.6666666666666666,
              "#35b779"
             ],
             [
              0.7777777777777778,
              "#6ece58"
             ],
             [
              0.8888888888888888,
              "#b5de2b"
             ],
             [
              1,
              "#fde725"
             ]
            ],
            "type": "heatmapgl"
           }
          ],
          "histogram": [
           {
            "marker": {
             "line": {
              "color": "white",
              "width": 0.6
             }
            },
            "type": "histogram"
           }
          ],
          "histogram2d": [
           {
            "colorbar": {
             "outlinewidth": 1,
             "tickcolor": "rgb(36,36,36)",
             "ticks": "outside"
            },
            "colorscale": [
             [
              0,
              "#440154"
             ],
             [
              0.1111111111111111,
              "#482878"
             ],
             [
              0.2222222222222222,
              "#3e4989"
             ],
             [
              0.3333333333333333,
              "#31688e"
             ],
             [
              0.4444444444444444,
              "#26828e"
             ],
             [
              0.5555555555555556,
              "#1f9e89"
             ],
             [
              0.6666666666666666,
              "#35b779"
             ],
             [
              0.7777777777777778,
              "#6ece58"
             ],
             [
              0.8888888888888888,
              "#b5de2b"
             ],
             [
              1,
              "#fde725"
             ]
            ],
            "type": "histogram2d"
           }
          ],
          "histogram2dcontour": [
           {
            "colorbar": {
             "outlinewidth": 1,
             "tickcolor": "rgb(36,36,36)",
             "ticks": "outside"
            },
            "colorscale": [
             [
              0,
              "#440154"
             ],
             [
              0.1111111111111111,
              "#482878"
             ],
             [
              0.2222222222222222,
              "#3e4989"
             ],
             [
              0.3333333333333333,
              "#31688e"
             ],
             [
              0.4444444444444444,
              "#26828e"
             ],
             [
              0.5555555555555556,
              "#1f9e89"
             ],
             [
              0.6666666666666666,
              "#35b779"
             ],
             [
              0.7777777777777778,
              "#6ece58"
             ],
             [
              0.8888888888888888,
              "#b5de2b"
             ],
             [
              1,
              "#fde725"
             ]
            ],
            "type": "histogram2dcontour"
           }
          ],
          "mesh3d": [
           {
            "colorbar": {
             "outlinewidth": 1,
             "tickcolor": "rgb(36,36,36)",
             "ticks": "outside"
            },
            "type": "mesh3d"
           }
          ],
          "parcoords": [
           {
            "line": {
             "colorbar": {
              "outlinewidth": 1,
              "tickcolor": "rgb(36,36,36)",
              "ticks": "outside"
             }
            },
            "type": "parcoords"
           }
          ],
          "pie": [
           {
            "automargin": true,
            "type": "pie"
           }
          ],
          "scatter": [
           {
            "fillpattern": {
             "fillmode": "overlay",
             "size": 10,
             "solidity": 0.2
            },
            "type": "scatter"
           }
          ],
          "scatter3d": [
           {
            "line": {
             "colorbar": {
              "outlinewidth": 1,
              "tickcolor": "rgb(36,36,36)",
              "ticks": "outside"
             }
            },
            "marker": {
             "colorbar": {
              "outlinewidth": 1,
              "tickcolor": "rgb(36,36,36)",
              "ticks": "outside"
             }
            },
            "type": "scatter3d"
           }
          ],
          "scattercarpet": [
           {
            "marker": {
             "colorbar": {
              "outlinewidth": 1,
              "tickcolor": "rgb(36,36,36)",
              "ticks": "outside"
             }
            },
            "type": "scattercarpet"
           }
          ],
          "scattergeo": [
           {
            "marker": {
             "colorbar": {
              "outlinewidth": 1,
              "tickcolor": "rgb(36,36,36)",
              "ticks": "outside"
             }
            },
            "type": "scattergeo"
           }
          ],
          "scattergl": [
           {
            "marker": {
             "colorbar": {
              "outlinewidth": 1,
              "tickcolor": "rgb(36,36,36)",
              "ticks": "outside"
             }
            },
            "type": "scattergl"
           }
          ],
          "scattermapbox": [
           {
            "marker": {
             "colorbar": {
              "outlinewidth": 1,
              "tickcolor": "rgb(36,36,36)",
              "ticks": "outside"
             }
            },
            "type": "scattermapbox"
           }
          ],
          "scatterpolar": [
           {
            "marker": {
             "colorbar": {
              "outlinewidth": 1,
              "tickcolor": "rgb(36,36,36)",
              "ticks": "outside"
             }
            },
            "type": "scatterpolar"
           }
          ],
          "scatterpolargl": [
           {
            "marker": {
             "colorbar": {
              "outlinewidth": 1,
              "tickcolor": "rgb(36,36,36)",
              "ticks": "outside"
             }
            },
            "type": "scatterpolargl"
           }
          ],
          "scatterternary": [
           {
            "marker": {
             "colorbar": {
              "outlinewidth": 1,
              "tickcolor": "rgb(36,36,36)",
              "ticks": "outside"
             }
            },
            "type": "scatterternary"
           }
          ],
          "surface": [
           {
            "colorbar": {
             "outlinewidth": 1,
             "tickcolor": "rgb(36,36,36)",
             "ticks": "outside"
            },
            "colorscale": [
             [
              0,
              "#440154"
             ],
             [
              0.1111111111111111,
              "#482878"
             ],
             [
              0.2222222222222222,
              "#3e4989"
             ],
             [
              0.3333333333333333,
              "#31688e"
             ],
             [
              0.4444444444444444,
              "#26828e"
             ],
             [
              0.5555555555555556,
              "#1f9e89"
             ],
             [
              0.6666666666666666,
              "#35b779"
             ],
             [
              0.7777777777777778,
              "#6ece58"
             ],
             [
              0.8888888888888888,
              "#b5de2b"
             ],
             [
              1,
              "#fde725"
             ]
            ],
            "type": "surface"
           }
          ],
          "table": [
           {
            "cells": {
             "fill": {
              "color": "rgb(237,237,237)"
             },
             "line": {
              "color": "white"
             }
            },
            "header": {
             "fill": {
              "color": "rgb(217,217,217)"
             },
             "line": {
              "color": "white"
             }
            },
            "type": "table"
           }
          ]
         },
         "layout": {
          "annotationdefaults": {
           "arrowhead": 0,
           "arrowwidth": 1
          },
          "autotypenumbers": "strict",
          "coloraxis": {
           "colorbar": {
            "outlinewidth": 1,
            "tickcolor": "rgb(36,36,36)",
            "ticks": "outside"
           }
          },
          "colorscale": {
           "diverging": [
            [
             0,
             "rgb(103,0,31)"
            ],
            [
             0.1,
             "rgb(178,24,43)"
            ],
            [
             0.2,
             "rgb(214,96,77)"
            ],
            [
             0.3,
             "rgb(244,165,130)"
            ],
            [
             0.4,
             "rgb(253,219,199)"
            ],
            [
             0.5,
             "rgb(247,247,247)"
            ],
            [
             0.6,
             "rgb(209,229,240)"
            ],
            [
             0.7,
             "rgb(146,197,222)"
            ],
            [
             0.8,
             "rgb(67,147,195)"
            ],
            [
             0.9,
             "rgb(33,102,172)"
            ],
            [
             1,
             "rgb(5,48,97)"
            ]
           ],
           "sequential": [
            [
             0,
             "#440154"
            ],
            [
             0.1111111111111111,
             "#482878"
            ],
            [
             0.2222222222222222,
             "#3e4989"
            ],
            [
             0.3333333333333333,
             "#31688e"
            ],
            [
             0.4444444444444444,
             "#26828e"
            ],
            [
             0.5555555555555556,
             "#1f9e89"
            ],
            [
             0.6666666666666666,
             "#35b779"
            ],
            [
             0.7777777777777778,
             "#6ece58"
            ],
            [
             0.8888888888888888,
             "#b5de2b"
            ],
            [
             1,
             "#fde725"
            ]
           ],
           "sequentialminus": [
            [
             0,
             "#440154"
            ],
            [
             0.1111111111111111,
             "#482878"
            ],
            [
             0.2222222222222222,
             "#3e4989"
            ],
            [
             0.3333333333333333,
             "#31688e"
            ],
            [
             0.4444444444444444,
             "#26828e"
            ],
            [
             0.5555555555555556,
             "#1f9e89"
            ],
            [
             0.6666666666666666,
             "#35b779"
            ],
            [
             0.7777777777777778,
             "#6ece58"
            ],
            [
             0.8888888888888888,
             "#b5de2b"
            ],
            [
             1,
             "#fde725"
            ]
           ]
          },
          "colorway": [
           "#1F77B4",
           "#FF7F0E",
           "#2CA02C",
           "#D62728",
           "#9467BD",
           "#8C564B",
           "#E377C2",
           "#7F7F7F",
           "#BCBD22",
           "#17BECF"
          ],
          "font": {
           "color": "rgb(36,36,36)"
          },
          "geo": {
           "bgcolor": "white",
           "lakecolor": "white",
           "landcolor": "white",
           "showlakes": true,
           "showland": true,
           "subunitcolor": "white"
          },
          "hoverlabel": {
           "align": "left"
          },
          "hovermode": "closest",
          "mapbox": {
           "style": "light"
          },
          "paper_bgcolor": "white",
          "plot_bgcolor": "white",
          "polar": {
           "angularaxis": {
            "gridcolor": "rgb(232,232,232)",
            "linecolor": "rgb(36,36,36)",
            "showgrid": false,
            "showline": true,
            "ticks": "outside"
           },
           "bgcolor": "white",
           "radialaxis": {
            "gridcolor": "rgb(232,232,232)",
            "linecolor": "rgb(36,36,36)",
            "showgrid": false,
            "showline": true,
            "ticks": "outside"
           }
          },
          "scene": {
           "xaxis": {
            "backgroundcolor": "white",
            "gridcolor": "rgb(232,232,232)",
            "gridwidth": 2,
            "linecolor": "rgb(36,36,36)",
            "showbackground": true,
            "showgrid": false,
            "showline": true,
            "ticks": "outside",
            "zeroline": false,
            "zerolinecolor": "rgb(36,36,36)"
           },
           "yaxis": {
            "backgroundcolor": "white",
            "gridcolor": "rgb(232,232,232)",
            "gridwidth": 2,
            "linecolor": "rgb(36,36,36)",
            "showbackground": true,
            "showgrid": false,
            "showline": true,
            "ticks": "outside",
            "zeroline": false,
            "zerolinecolor": "rgb(36,36,36)"
           },
           "zaxis": {
            "backgroundcolor": "white",
            "gridcolor": "rgb(232,232,232)",
            "gridwidth": 2,
            "linecolor": "rgb(36,36,36)",
            "showbackground": true,
            "showgrid": false,
            "showline": true,
            "ticks": "outside",
            "zeroline": false,
            "zerolinecolor": "rgb(36,36,36)"
           }
          },
          "shapedefaults": {
           "fillcolor": "black",
           "line": {
            "width": 0
           },
           "opacity": 0.3
          },
          "ternary": {
           "aaxis": {
            "gridcolor": "rgb(232,232,232)",
            "linecolor": "rgb(36,36,36)",
            "showgrid": false,
            "showline": true,
            "ticks": "outside"
           },
           "baxis": {
            "gridcolor": "rgb(232,232,232)",
            "linecolor": "rgb(36,36,36)",
            "showgrid": false,
            "showline": true,
            "ticks": "outside"
           },
           "bgcolor": "white",
           "caxis": {
            "gridcolor": "rgb(232,232,232)",
            "linecolor": "rgb(36,36,36)",
            "showgrid": false,
            "showline": true,
            "ticks": "outside"
           }
          },
          "title": {
           "x": 0.05
          },
          "xaxis": {
           "automargin": true,
           "gridcolor": "rgb(232,232,232)",
           "linecolor": "rgb(36,36,36)",
           "showgrid": false,
           "showline": true,
           "ticks": "outside",
           "title": {
            "standoff": 15
           },
           "zeroline": false,
           "zerolinecolor": "rgb(36,36,36)"
          },
          "yaxis": {
           "automargin": true,
           "gridcolor": "rgb(232,232,232)",
           "linecolor": "rgb(36,36,36)",
           "showgrid": false,
           "showline": true,
           "ticks": "outside",
           "title": {
            "standoff": 15
           },
           "zeroline": false,
           "zerolinecolor": "rgb(36,36,36)"
          }
         }
        },
        "xaxis": {
         "anchor": "y",
         "domain": [
          0,
          1
         ],
         "title": {
          "text": "Data"
         }
        },
        "yaxis": {
         "anchor": "x",
         "categoryarray": [
          "Insula",
          "Frontal",
          "Parietal",
          "Occipital",
          "Temporal"
         ],
         "categoryorder": "array",
         "domain": [
          0,
          1
         ],
         "title": {
          "text": "Lobe"
         }
        }
       }
      },
      "text/html": [
       "<div>                            <div id=\"5a7e3a04-38ba-49a6-b0a4-ee867e132bdc\" class=\"plotly-graph-div\" style=\"height:525px; width:100%;\"></div>            <script type=\"text/javascript\">                require([\"plotly\"], function(Plotly) {                    window.PLOTLYENV=window.PLOTLYENV || {};                                    if (document.getElementById(\"5a7e3a04-38ba-49a6-b0a4-ee867e132bdc\")) {                    Plotly.newPlot(                        \"5a7e3a04-38ba-49a6-b0a4-ee867e132bdc\",                        [{\"alignmentgroup\":\"True\",\"hovertemplate\":\"Lobe=%{y}<br>Data=%{x}<extra></extra>\",\"legendgroup\":\"Temporal\",\"marker\":{\"color\":\"#1F77B4\"},\"name\":\"Temporal\",\"notched\":false,\"offsetgroup\":\"Temporal\",\"orientation\":\"h\",\"showlegend\":true,\"x\":[0,1,2,3,4,5,6,7,8,9,10,11,12,13,14,15,16,17,18,19,20,21,22,23,24,25,26,27,28,29,30,31,32,33,34,35,36,37,38,39,40,41,42,43,44,45,46,47,48,49,281,282,283,284,285,286,287,288,289,290,291,292,293,294,295,296,297,298,299,300,323,324,325,326,327,345,346,347,348,349,350,351,352,353,354,355,356,357,358,359,360,361,362,363,364,365,366,367,368,369,370,371,372,373,374,375,376,377,378,379,380,381,382,383,384,385,386,387,388,389,390,391,392,393,394,626,627,628,629,630,631,632,633,634,635,636,637,638,639,640,641,642,643,644,645,668,669,670,671,672],\"x0\":\" \",\"xaxis\":\"x\",\"y\":[\"Temporal\",\"Temporal\",\"Temporal\",\"Temporal\",\"Temporal\",\"Temporal\",\"Temporal\",\"Temporal\",\"Temporal\",\"Temporal\",\"Temporal\",\"Temporal\",\"Temporal\",\"Temporal\",\"Temporal\",\"Temporal\",\"Temporal\",\"Temporal\",\"Temporal\",\"Temporal\",\"Temporal\",\"Temporal\",\"Temporal\",\"Temporal\",\"Temporal\",\"Temporal\",\"Temporal\",\"Temporal\",\"Temporal\",\"Temporal\",\"Temporal\",\"Temporal\",\"Temporal\",\"Temporal\",\"Temporal\",\"Temporal\",\"Temporal\",\"Temporal\",\"Temporal\",\"Temporal\",\"Temporal\",\"Temporal\",\"Temporal\",\"Temporal\",\"Temporal\",\"Temporal\",\"Temporal\",\"Temporal\",\"Temporal\",\"Temporal\",\"Temporal\",\"Temporal\",\"Temporal\",\"Temporal\",\"Temporal\",\"Temporal\",\"Temporal\",\"Temporal\",\"Temporal\",\"Temporal\",\"Temporal\",\"Temporal\",\"Temporal\",\"Temporal\",\"Temporal\",\"Temporal\",\"Temporal\",\"Temporal\",\"Temporal\",\"Temporal\",\"Temporal\",\"Temporal\",\"Temporal\",\"Temporal\",\"Temporal\",\"Temporal\",\"Temporal\",\"Temporal\",\"Temporal\",\"Temporal\",\"Temporal\",\"Temporal\",\"Temporal\",\"Temporal\",\"Temporal\",\"Temporal\",\"Temporal\",\"Temporal\",\"Temporal\",\"Temporal\",\"Temporal\",\"Temporal\",\"Temporal\",\"Temporal\",\"Temporal\",\"Temporal\",\"Temporal\",\"Temporal\",\"Temporal\",\"Temporal\",\"Temporal\",\"Temporal\",\"Temporal\",\"Temporal\",\"Temporal\",\"Temporal\",\"Temporal\",\"Temporal\",\"Temporal\",\"Temporal\",\"Temporal\",\"Temporal\",\"Temporal\",\"Temporal\",\"Temporal\",\"Temporal\",\"Temporal\",\"Temporal\",\"Temporal\",\"Temporal\",\"Temporal\",\"Temporal\",\"Temporal\",\"Temporal\",\"Temporal\",\"Temporal\",\"Temporal\",\"Temporal\",\"Temporal\",\"Temporal\",\"Temporal\",\"Temporal\",\"Temporal\",\"Temporal\",\"Temporal\",\"Temporal\",\"Temporal\",\"Temporal\",\"Temporal\",\"Temporal\",\"Temporal\",\"Temporal\",\"Temporal\",\"Temporal\",\"Temporal\",\"Temporal\",\"Temporal\",\"Temporal\",\"Temporal\",\"Temporal\"],\"y0\":\" \",\"yaxis\":\"y\",\"type\":\"box\"},{\"alignmentgroup\":\"True\",\"hovertemplate\":\"Lobe=%{y}<br>Data=%{x}<extra></extra>\",\"legendgroup\":\"Occipital\",\"marker\":{\"color\":\"#FF7F0E\"},\"name\":\"Occipital\",\"notched\":false,\"offsetgroup\":\"Occipital\",\"orientation\":\"h\",\"showlegend\":true,\"x\":[50,51,52,53,54,55,56,57,58,59,60,61,62,63,64,65,66,67,68,69,70,71,72,73,74,75,76,77,78,79,80,81,82,83,301,302,303,395,396,397,398,399,400,401,402,403,404,405,406,407,408,409,410,411,412,413,414,415,416,417,418,419,420,421,422,423,424,425,426,427,428,646,647,648],\"x0\":\" \",\"xaxis\":\"x\",\"y\":[\"Occipital\",\"Occipital\",\"Occipital\",\"Occipital\",\"Occipital\",\"Occipital\",\"Occipital\",\"Occipital\",\"Occipital\",\"Occipital\",\"Occipital\",\"Occipital\",\"Occipital\",\"Occipital\",\"Occipital\",\"Occipital\",\"Occipital\",\"Occipital\",\"Occipital\",\"Occipital\",\"Occipital\",\"Occipital\",\"Occipital\",\"Occipital\",\"Occipital\",\"Occipital\",\"Occipital\",\"Occipital\",\"Occipital\",\"Occipital\",\"Occipital\",\"Occipital\",\"Occipital\",\"Occipital\",\"Occipital\",\"Occipital\",\"Occipital\",\"Occipital\",\"Occipital\",\"Occipital\",\"Occipital\",\"Occipital\",\"Occipital\",\"Occipital\",\"Occipital\",\"Occipital\",\"Occipital\",\"Occipital\",\"Occipital\",\"Occipital\",\"Occipital\",\"Occipital\",\"Occipital\",\"Occipital\",\"Occipital\",\"Occipital\",\"Occipital\",\"Occipital\",\"Occipital\",\"Occipital\",\"Occipital\",\"Occipital\",\"Occipital\",\"Occipital\",\"Occipital\",\"Occipital\",\"Occipital\",\"Occipital\",\"Occipital\",\"Occipital\",\"Occipital\",\"Occipital\",\"Occipital\",\"Occipital\"],\"y0\":\" \",\"yaxis\":\"y\",\"type\":\"box\"},{\"alignmentgroup\":\"True\",\"hovertemplate\":\"Lobe=%{y}<br>Data=%{x}<extra></extra>\",\"legendgroup\":\"Parietal\",\"marker\":{\"color\":\"#2CA02C\"},\"name\":\"Parietal\",\"notched\":false,\"offsetgroup\":\"Parietal\",\"orientation\":\"h\",\"showlegend\":true,\"x\":[84,85,86,87,88,89,90,91,92,93,94,95,96,97,98,99,100,101,102,103,104,105,106,107,108,109,110,111,112,113,114,115,116,117,118,119,120,121,122,123,124,125,126,127,128,129,130,131,132,133,134,135,136,137,138,139,140,141,142,143,144,145,429,430,431,432,433,434,435,436,437,438,439,440,441,442,443,444,445,446,447,448,449,450,451,452,453,454,455,456,457,458,459,460,461,462,463,464,465,466,467,468,469,470,471,472,473,474,475,476,477,478,479,480,481,482,483,484,485,486,487,488,489,490],\"x0\":\" \",\"xaxis\":\"x\",\"y\":[\"Parietal\",\"Parietal\",\"Parietal\",\"Parietal\",\"Parietal\",\"Parietal\",\"Parietal\",\"Parietal\",\"Parietal\",\"Parietal\",\"Parietal\",\"Parietal\",\"Parietal\",\"Parietal\",\"Parietal\",\"Parietal\",\"Parietal\",\"Parietal\",\"Parietal\",\"Parietal\",\"Parietal\",\"Parietal\",\"Parietal\",\"Parietal\",\"Parietal\",\"Parietal\",\"Parietal\",\"Parietal\",\"Parietal\",\"Parietal\",\"Parietal\",\"Parietal\",\"Parietal\",\"Parietal\",\"Parietal\",\"Parietal\",\"Parietal\",\"Parietal\",\"Parietal\",\"Parietal\",\"Parietal\",\"Parietal\",\"Parietal\",\"Parietal\",\"Parietal\",\"Parietal\",\"Parietal\",\"Parietal\",\"Parietal\",\"Parietal\",\"Parietal\",\"Parietal\",\"Parietal\",\"Parietal\",\"Parietal\",\"Parietal\",\"Parietal\",\"Parietal\",\"Parietal\",\"Parietal\",\"Parietal\",\"Parietal\",\"Parietal\",\"Parietal\",\"Parietal\",\"Parietal\",\"Parietal\",\"Parietal\",\"Parietal\",\"Parietal\",\"Parietal\",\"Parietal\",\"Parietal\",\"Parietal\",\"Parietal\",\"Parietal\",\"Parietal\",\"Parietal\",\"Parietal\",\"Parietal\",\"Parietal\",\"Parietal\",\"Parietal\",\"Parietal\",\"Parietal\",\"Parietal\",\"Parietal\",\"Parietal\",\"Parietal\",\"Parietal\",\"Parietal\",\"Parietal\",\"Parietal\",\"Parietal\",\"Parietal\",\"Parietal\",\"Parietal\",\"Parietal\",\"Parietal\",\"Parietal\",\"Parietal\",\"Parietal\",\"Parietal\",\"Parietal\",\"Parietal\",\"Parietal\",\"Parietal\",\"Parietal\",\"Parietal\",\"Parietal\",\"Parietal\",\"Parietal\",\"Parietal\",\"Parietal\",\"Parietal\",\"Parietal\",\"Parietal\",\"Parietal\",\"Parietal\",\"Parietal\",\"Parietal\",\"Parietal\",\"Parietal\",\"Parietal\"],\"y0\":\" \",\"yaxis\":\"y\",\"type\":\"box\"},{\"alignmentgroup\":\"True\",\"hovertemplate\":\"Lobe=%{y}<br>Data=%{x}<extra></extra>\",\"legendgroup\":\"Frontal\",\"marker\":{\"color\":\"#D62728\"},\"name\":\"Frontal\",\"notched\":false,\"offsetgroup\":\"Frontal\",\"orientation\":\"h\",\"showlegend\":true,\"x\":[146,147,148,149,150,151,152,153,154,155,156,157,158,159,160,161,162,163,164,165,166,167,168,169,170,171,172,173,174,175,176,177,178,179,180,181,182,183,184,185,186,187,188,189,190,191,192,193,194,195,196,197,198,199,200,201,202,203,204,205,206,207,208,209,210,211,212,213,214,215,216,217,218,219,220,221,222,223,224,225,226,227,228,229,230,231,232,233,234,235,236,237,238,239,240,241,242,243,244,245,246,247,248,249,250,251,252,253,254,255,256,257,258,259,260,261,262,263,264,265,266,267,268,269,270,271,272,273,274,275,276,277,278,279,280,304,305,306,307,308,309,310,311,312,313,314,315,316,317,318,319,320,321,322,491,492,493,494,495,496,497,498,499,500,501,502,503,504,505,506,507,508,509,510,511,512,513,514,515,516,517,518,519,520,521,522,523,524,525,526,527,528,529,530,531,532,533,534,535,536,537,538,539,540,541,542,543,544,545,546,547,548,549,550,551,552,553,554,555,556,557,558,559,560,561,562,563,564,565,566,567,568,569,570,571,572,573,574,575,576,577,578,579,580,581,582,583,584,585,586,587,588,589,590,591,592,593,594,595,596,597,598,599,600,601,602,603,604,605,606,607,608,609,610,611,612,613,614,615,616,617,618,619,620,621,622,623,624,625,649,650,651,652,653,654,655,656,657,658,659,660,661,662,663,664,665,666,667],\"x0\":\" \",\"xaxis\":\"x\",\"y\":[\"Frontal\",\"Frontal\",\"Frontal\",\"Frontal\",\"Frontal\",\"Frontal\",\"Frontal\",\"Frontal\",\"Frontal\",\"Frontal\",\"Frontal\",\"Frontal\",\"Frontal\",\"Frontal\",\"Frontal\",\"Frontal\",\"Frontal\",\"Frontal\",\"Frontal\",\"Frontal\",\"Frontal\",\"Frontal\",\"Frontal\",\"Frontal\",\"Frontal\",\"Frontal\",\"Frontal\",\"Frontal\",\"Frontal\",\"Frontal\",\"Frontal\",\"Frontal\",\"Frontal\",\"Frontal\",\"Frontal\",\"Frontal\",\"Frontal\",\"Frontal\",\"Frontal\",\"Frontal\",\"Frontal\",\"Frontal\",\"Frontal\",\"Frontal\",\"Frontal\",\"Frontal\",\"Frontal\",\"Frontal\",\"Frontal\",\"Frontal\",\"Frontal\",\"Frontal\",\"Frontal\",\"Frontal\",\"Frontal\",\"Frontal\",\"Frontal\",\"Frontal\",\"Frontal\",\"Frontal\",\"Frontal\",\"Frontal\",\"Frontal\",\"Frontal\",\"Frontal\",\"Frontal\",\"Frontal\",\"Frontal\",\"Frontal\",\"Frontal\",\"Frontal\",\"Frontal\",\"Frontal\",\"Frontal\",\"Frontal\",\"Frontal\",\"Frontal\",\"Frontal\",\"Frontal\",\"Frontal\",\"Frontal\",\"Frontal\",\"Frontal\",\"Frontal\",\"Frontal\",\"Frontal\",\"Frontal\",\"Frontal\",\"Frontal\",\"Frontal\",\"Frontal\",\"Frontal\",\"Frontal\",\"Frontal\",\"Frontal\",\"Frontal\",\"Frontal\",\"Frontal\",\"Frontal\",\"Frontal\",\"Frontal\",\"Frontal\",\"Frontal\",\"Frontal\",\"Frontal\",\"Frontal\",\"Frontal\",\"Frontal\",\"Frontal\",\"Frontal\",\"Frontal\",\"Frontal\",\"Frontal\",\"Frontal\",\"Frontal\",\"Frontal\",\"Frontal\",\"Frontal\",\"Frontal\",\"Frontal\",\"Frontal\",\"Frontal\",\"Frontal\",\"Frontal\",\"Frontal\",\"Frontal\",\"Frontal\",\"Frontal\",\"Frontal\",\"Frontal\",\"Frontal\",\"Frontal\",\"Frontal\",\"Frontal\",\"Frontal\",\"Frontal\",\"Frontal\",\"Frontal\",\"Frontal\",\"Frontal\",\"Frontal\",\"Frontal\",\"Frontal\",\"Frontal\",\"Frontal\",\"Frontal\",\"Frontal\",\"Frontal\",\"Frontal\",\"Frontal\",\"Frontal\",\"Frontal\",\"Frontal\",\"Frontal\",\"Frontal\",\"Frontal\",\"Frontal\",\"Frontal\",\"Frontal\",\"Frontal\",\"Frontal\",\"Frontal\",\"Frontal\",\"Frontal\",\"Frontal\",\"Frontal\",\"Frontal\",\"Frontal\",\"Frontal\",\"Frontal\",\"Frontal\",\"Frontal\",\"Frontal\",\"Frontal\",\"Frontal\",\"Frontal\",\"Frontal\",\"Frontal\",\"Frontal\",\"Frontal\",\"Frontal\",\"Frontal\",\"Frontal\",\"Frontal\",\"Frontal\",\"Frontal\",\"Frontal\",\"Frontal\",\"Frontal\",\"Frontal\",\"Frontal\",\"Frontal\",\"Frontal\",\"Frontal\",\"Frontal\",\"Frontal\",\"Frontal\",\"Frontal\",\"Frontal\",\"Frontal\",\"Frontal\",\"Frontal\",\"Frontal\",\"Frontal\",\"Frontal\",\"Frontal\",\"Frontal\",\"Frontal\",\"Frontal\",\"Frontal\",\"Frontal\",\"Frontal\",\"Frontal\",\"Frontal\",\"Frontal\",\"Frontal\",\"Frontal\",\"Frontal\",\"Frontal\",\"Frontal\",\"Frontal\",\"Frontal\",\"Frontal\",\"Frontal\",\"Frontal\",\"Frontal\",\"Frontal\",\"Frontal\",\"Frontal\",\"Frontal\",\"Frontal\",\"Frontal\",\"Frontal\",\"Frontal\",\"Frontal\",\"Frontal\",\"Frontal\",\"Frontal\",\"Frontal\",\"Frontal\",\"Frontal\",\"Frontal\",\"Frontal\",\"Frontal\",\"Frontal\",\"Frontal\",\"Frontal\",\"Frontal\",\"Frontal\",\"Frontal\",\"Frontal\",\"Frontal\",\"Frontal\",\"Frontal\",\"Frontal\",\"Frontal\",\"Frontal\",\"Frontal\",\"Frontal\",\"Frontal\",\"Frontal\",\"Frontal\",\"Frontal\",\"Frontal\",\"Frontal\",\"Frontal\",\"Frontal\",\"Frontal\",\"Frontal\",\"Frontal\",\"Frontal\",\"Frontal\",\"Frontal\",\"Frontal\",\"Frontal\",\"Frontal\",\"Frontal\",\"Frontal\",\"Frontal\",\"Frontal\",\"Frontal\",\"Frontal\",\"Frontal\",\"Frontal\",\"Frontal\",\"Frontal\",\"Frontal\",\"Frontal\",\"Frontal\",\"Frontal\",\"Frontal\",\"Frontal\",\"Frontal\",\"Frontal\",\"Frontal\",\"Frontal\",\"Frontal\",\"Frontal\",\"Frontal\",\"Frontal\",\"Frontal\",\"Frontal\",\"Frontal\",\"Frontal\",\"Frontal\",\"Frontal\",\"Frontal\",\"Frontal\"],\"y0\":\" \",\"yaxis\":\"y\",\"type\":\"box\"},{\"alignmentgroup\":\"True\",\"hovertemplate\":\"Lobe=%{y}<br>Data=%{x}<extra></extra>\",\"legendgroup\":\"Insula\",\"marker\":{\"color\":\"#9467BD\"},\"name\":\"Insula\",\"notched\":false,\"offsetgroup\":\"Insula\",\"orientation\":\"h\",\"showlegend\":true,\"x\":[328,329,330,331,332,333,334,335,336,337,338,339,340,341,342,343,344,673,674,675,676,677,678,679,680,681,682,683,684,685,686,687,688,689],\"x0\":\" \",\"xaxis\":\"x\",\"y\":[\"Insula\",\"Insula\",\"Insula\",\"Insula\",\"Insula\",\"Insula\",\"Insula\",\"Insula\",\"Insula\",\"Insula\",\"Insula\",\"Insula\",\"Insula\",\"Insula\",\"Insula\",\"Insula\",\"Insula\",\"Insula\",\"Insula\",\"Insula\",\"Insula\",\"Insula\",\"Insula\",\"Insula\",\"Insula\",\"Insula\",\"Insula\",\"Insula\",\"Insula\",\"Insula\",\"Insula\",\"Insula\",\"Insula\",\"Insula\"],\"y0\":\" \",\"yaxis\":\"y\",\"type\":\"box\"}],                        {\"template\":{\"data\":{\"barpolar\":[{\"marker\":{\"line\":{\"color\":\"white\",\"width\":0.5},\"pattern\":{\"fillmode\":\"overlay\",\"size\":10,\"solidity\":0.2}},\"type\":\"barpolar\"}],\"bar\":[{\"error_x\":{\"color\":\"rgb(36,36,36)\"},\"error_y\":{\"color\":\"rgb(36,36,36)\"},\"marker\":{\"line\":{\"color\":\"white\",\"width\":0.5},\"pattern\":{\"fillmode\":\"overlay\",\"size\":10,\"solidity\":0.2}},\"type\":\"bar\"}],\"carpet\":[{\"aaxis\":{\"endlinecolor\":\"rgb(36,36,36)\",\"gridcolor\":\"white\",\"linecolor\":\"white\",\"minorgridcolor\":\"white\",\"startlinecolor\":\"rgb(36,36,36)\"},\"baxis\":{\"endlinecolor\":\"rgb(36,36,36)\",\"gridcolor\":\"white\",\"linecolor\":\"white\",\"minorgridcolor\":\"white\",\"startlinecolor\":\"rgb(36,36,36)\"},\"type\":\"carpet\"}],\"choropleth\":[{\"colorbar\":{\"outlinewidth\":1,\"tickcolor\":\"rgb(36,36,36)\",\"ticks\":\"outside\"},\"type\":\"choropleth\"}],\"contourcarpet\":[{\"colorbar\":{\"outlinewidth\":1,\"tickcolor\":\"rgb(36,36,36)\",\"ticks\":\"outside\"},\"type\":\"contourcarpet\"}],\"contour\":[{\"colorbar\":{\"outlinewidth\":1,\"tickcolor\":\"rgb(36,36,36)\",\"ticks\":\"outside\"},\"colorscale\":[[0.0,\"#440154\"],[0.1111111111111111,\"#482878\"],[0.2222222222222222,\"#3e4989\"],[0.3333333333333333,\"#31688e\"],[0.4444444444444444,\"#26828e\"],[0.5555555555555556,\"#1f9e89\"],[0.6666666666666666,\"#35b779\"],[0.7777777777777778,\"#6ece58\"],[0.8888888888888888,\"#b5de2b\"],[1.0,\"#fde725\"]],\"type\":\"contour\"}],\"heatmapgl\":[{\"colorbar\":{\"outlinewidth\":1,\"tickcolor\":\"rgb(36,36,36)\",\"ticks\":\"outside\"},\"colorscale\":[[0.0,\"#440154\"],[0.1111111111111111,\"#482878\"],[0.2222222222222222,\"#3e4989\"],[0.3333333333333333,\"#31688e\"],[0.4444444444444444,\"#26828e\"],[0.5555555555555556,\"#1f9e89\"],[0.6666666666666666,\"#35b779\"],[0.7777777777777778,\"#6ece58\"],[0.8888888888888888,\"#b5de2b\"],[1.0,\"#fde725\"]],\"type\":\"heatmapgl\"}],\"heatmap\":[{\"colorbar\":{\"outlinewidth\":1,\"tickcolor\":\"rgb(36,36,36)\",\"ticks\":\"outside\"},\"colorscale\":[[0.0,\"#440154\"],[0.1111111111111111,\"#482878\"],[0.2222222222222222,\"#3e4989\"],[0.3333333333333333,\"#31688e\"],[0.4444444444444444,\"#26828e\"],[0.5555555555555556,\"#1f9e89\"],[0.6666666666666666,\"#35b779\"],[0.7777777777777778,\"#6ece58\"],[0.8888888888888888,\"#b5de2b\"],[1.0,\"#fde725\"]],\"type\":\"heatmap\"}],\"histogram2dcontour\":[{\"colorbar\":{\"outlinewidth\":1,\"tickcolor\":\"rgb(36,36,36)\",\"ticks\":\"outside\"},\"colorscale\":[[0.0,\"#440154\"],[0.1111111111111111,\"#482878\"],[0.2222222222222222,\"#3e4989\"],[0.3333333333333333,\"#31688e\"],[0.4444444444444444,\"#26828e\"],[0.5555555555555556,\"#1f9e89\"],[0.6666666666666666,\"#35b779\"],[0.7777777777777778,\"#6ece58\"],[0.8888888888888888,\"#b5de2b\"],[1.0,\"#fde725\"]],\"type\":\"histogram2dcontour\"}],\"histogram2d\":[{\"colorbar\":{\"outlinewidth\":1,\"tickcolor\":\"rgb(36,36,36)\",\"ticks\":\"outside\"},\"colorscale\":[[0.0,\"#440154\"],[0.1111111111111111,\"#482878\"],[0.2222222222222222,\"#3e4989\"],[0.3333333333333333,\"#31688e\"],[0.4444444444444444,\"#26828e\"],[0.5555555555555556,\"#1f9e89\"],[0.6666666666666666,\"#35b779\"],[0.7777777777777778,\"#6ece58\"],[0.8888888888888888,\"#b5de2b\"],[1.0,\"#fde725\"]],\"type\":\"histogram2d\"}],\"histogram\":[{\"marker\":{\"line\":{\"color\":\"white\",\"width\":0.6}},\"type\":\"histogram\"}],\"mesh3d\":[{\"colorbar\":{\"outlinewidth\":1,\"tickcolor\":\"rgb(36,36,36)\",\"ticks\":\"outside\"},\"type\":\"mesh3d\"}],\"parcoords\":[{\"line\":{\"colorbar\":{\"outlinewidth\":1,\"tickcolor\":\"rgb(36,36,36)\",\"ticks\":\"outside\"}},\"type\":\"parcoords\"}],\"pie\":[{\"automargin\":true,\"type\":\"pie\"}],\"scatter3d\":[{\"line\":{\"colorbar\":{\"outlinewidth\":1,\"tickcolor\":\"rgb(36,36,36)\",\"ticks\":\"outside\"}},\"marker\":{\"colorbar\":{\"outlinewidth\":1,\"tickcolor\":\"rgb(36,36,36)\",\"ticks\":\"outside\"}},\"type\":\"scatter3d\"}],\"scattercarpet\":[{\"marker\":{\"colorbar\":{\"outlinewidth\":1,\"tickcolor\":\"rgb(36,36,36)\",\"ticks\":\"outside\"}},\"type\":\"scattercarpet\"}],\"scattergeo\":[{\"marker\":{\"colorbar\":{\"outlinewidth\":1,\"tickcolor\":\"rgb(36,36,36)\",\"ticks\":\"outside\"}},\"type\":\"scattergeo\"}],\"scattergl\":[{\"marker\":{\"colorbar\":{\"outlinewidth\":1,\"tickcolor\":\"rgb(36,36,36)\",\"ticks\":\"outside\"}},\"type\":\"scattergl\"}],\"scattermapbox\":[{\"marker\":{\"colorbar\":{\"outlinewidth\":1,\"tickcolor\":\"rgb(36,36,36)\",\"ticks\":\"outside\"}},\"type\":\"scattermapbox\"}],\"scatterpolargl\":[{\"marker\":{\"colorbar\":{\"outlinewidth\":1,\"tickcolor\":\"rgb(36,36,36)\",\"ticks\":\"outside\"}},\"type\":\"scatterpolargl\"}],\"scatterpolar\":[{\"marker\":{\"colorbar\":{\"outlinewidth\":1,\"tickcolor\":\"rgb(36,36,36)\",\"ticks\":\"outside\"}},\"type\":\"scatterpolar\"}],\"scatter\":[{\"fillpattern\":{\"fillmode\":\"overlay\",\"size\":10,\"solidity\":0.2},\"type\":\"scatter\"}],\"scatterternary\":[{\"marker\":{\"colorbar\":{\"outlinewidth\":1,\"tickcolor\":\"rgb(36,36,36)\",\"ticks\":\"outside\"}},\"type\":\"scatterternary\"}],\"surface\":[{\"colorbar\":{\"outlinewidth\":1,\"tickcolor\":\"rgb(36,36,36)\",\"ticks\":\"outside\"},\"colorscale\":[[0.0,\"#440154\"],[0.1111111111111111,\"#482878\"],[0.2222222222222222,\"#3e4989\"],[0.3333333333333333,\"#31688e\"],[0.4444444444444444,\"#26828e\"],[0.5555555555555556,\"#1f9e89\"],[0.6666666666666666,\"#35b779\"],[0.7777777777777778,\"#6ece58\"],[0.8888888888888888,\"#b5de2b\"],[1.0,\"#fde725\"]],\"type\":\"surface\"}],\"table\":[{\"cells\":{\"fill\":{\"color\":\"rgb(237,237,237)\"},\"line\":{\"color\":\"white\"}},\"header\":{\"fill\":{\"color\":\"rgb(217,217,217)\"},\"line\":{\"color\":\"white\"}},\"type\":\"table\"}]},\"layout\":{\"annotationdefaults\":{\"arrowhead\":0,\"arrowwidth\":1},\"autotypenumbers\":\"strict\",\"coloraxis\":{\"colorbar\":{\"outlinewidth\":1,\"tickcolor\":\"rgb(36,36,36)\",\"ticks\":\"outside\"}},\"colorscale\":{\"diverging\":[[0.0,\"rgb(103,0,31)\"],[0.1,\"rgb(178,24,43)\"],[0.2,\"rgb(214,96,77)\"],[0.3,\"rgb(244,165,130)\"],[0.4,\"rgb(253,219,199)\"],[0.5,\"rgb(247,247,247)\"],[0.6,\"rgb(209,229,240)\"],[0.7,\"rgb(146,197,222)\"],[0.8,\"rgb(67,147,195)\"],[0.9,\"rgb(33,102,172)\"],[1.0,\"rgb(5,48,97)\"]],\"sequential\":[[0.0,\"#440154\"],[0.1111111111111111,\"#482878\"],[0.2222222222222222,\"#3e4989\"],[0.3333333333333333,\"#31688e\"],[0.4444444444444444,\"#26828e\"],[0.5555555555555556,\"#1f9e89\"],[0.6666666666666666,\"#35b779\"],[0.7777777777777778,\"#6ece58\"],[0.8888888888888888,\"#b5de2b\"],[1.0,\"#fde725\"]],\"sequentialminus\":[[0.0,\"#440154\"],[0.1111111111111111,\"#482878\"],[0.2222222222222222,\"#3e4989\"],[0.3333333333333333,\"#31688e\"],[0.4444444444444444,\"#26828e\"],[0.5555555555555556,\"#1f9e89\"],[0.6666666666666666,\"#35b779\"],[0.7777777777777778,\"#6ece58\"],[0.8888888888888888,\"#b5de2b\"],[1.0,\"#fde725\"]]},\"colorway\":[\"#1F77B4\",\"#FF7F0E\",\"#2CA02C\",\"#D62728\",\"#9467BD\",\"#8C564B\",\"#E377C2\",\"#7F7F7F\",\"#BCBD22\",\"#17BECF\"],\"font\":{\"color\":\"rgb(36,36,36)\"},\"geo\":{\"bgcolor\":\"white\",\"lakecolor\":\"white\",\"landcolor\":\"white\",\"showlakes\":true,\"showland\":true,\"subunitcolor\":\"white\"},\"hoverlabel\":{\"align\":\"left\"},\"hovermode\":\"closest\",\"mapbox\":{\"style\":\"light\"},\"paper_bgcolor\":\"white\",\"plot_bgcolor\":\"white\",\"polar\":{\"angularaxis\":{\"gridcolor\":\"rgb(232,232,232)\",\"linecolor\":\"rgb(36,36,36)\",\"showgrid\":false,\"showline\":true,\"ticks\":\"outside\"},\"bgcolor\":\"white\",\"radialaxis\":{\"gridcolor\":\"rgb(232,232,232)\",\"linecolor\":\"rgb(36,36,36)\",\"showgrid\":false,\"showline\":true,\"ticks\":\"outside\"}},\"scene\":{\"xaxis\":{\"backgroundcolor\":\"white\",\"gridcolor\":\"rgb(232,232,232)\",\"gridwidth\":2,\"linecolor\":\"rgb(36,36,36)\",\"showbackground\":true,\"showgrid\":false,\"showline\":true,\"ticks\":\"outside\",\"zeroline\":false,\"zerolinecolor\":\"rgb(36,36,36)\"},\"yaxis\":{\"backgroundcolor\":\"white\",\"gridcolor\":\"rgb(232,232,232)\",\"gridwidth\":2,\"linecolor\":\"rgb(36,36,36)\",\"showbackground\":true,\"showgrid\":false,\"showline\":true,\"ticks\":\"outside\",\"zeroline\":false,\"zerolinecolor\":\"rgb(36,36,36)\"},\"zaxis\":{\"backgroundcolor\":\"white\",\"gridcolor\":\"rgb(232,232,232)\",\"gridwidth\":2,\"linecolor\":\"rgb(36,36,36)\",\"showbackground\":true,\"showgrid\":false,\"showline\":true,\"ticks\":\"outside\",\"zeroline\":false,\"zerolinecolor\":\"rgb(36,36,36)\"}},\"shapedefaults\":{\"fillcolor\":\"black\",\"line\":{\"width\":0},\"opacity\":0.3},\"ternary\":{\"aaxis\":{\"gridcolor\":\"rgb(232,232,232)\",\"linecolor\":\"rgb(36,36,36)\",\"showgrid\":false,\"showline\":true,\"ticks\":\"outside\"},\"baxis\":{\"gridcolor\":\"rgb(232,232,232)\",\"linecolor\":\"rgb(36,36,36)\",\"showgrid\":false,\"showline\":true,\"ticks\":\"outside\"},\"bgcolor\":\"white\",\"caxis\":{\"gridcolor\":\"rgb(232,232,232)\",\"linecolor\":\"rgb(36,36,36)\",\"showgrid\":false,\"showline\":true,\"ticks\":\"outside\"}},\"title\":{\"x\":0.05},\"xaxis\":{\"automargin\":true,\"gridcolor\":\"rgb(232,232,232)\",\"linecolor\":\"rgb(36,36,36)\",\"showgrid\":false,\"showline\":true,\"ticks\":\"outside\",\"title\":{\"standoff\":15},\"zeroline\":false,\"zerolinecolor\":\"rgb(36,36,36)\"},\"yaxis\":{\"automargin\":true,\"gridcolor\":\"rgb(232,232,232)\",\"linecolor\":\"rgb(36,36,36)\",\"showgrid\":false,\"showline\":true,\"ticks\":\"outside\",\"title\":{\"standoff\":15},\"zeroline\":false,\"zerolinecolor\":\"rgb(36,36,36)\"}}},\"xaxis\":{\"anchor\":\"y\",\"domain\":[0.0,1.0],\"title\":{\"text\":\"Data\"}},\"yaxis\":{\"anchor\":\"x\",\"domain\":[0.0,1.0],\"title\":{\"text\":\"Lobe\"},\"categoryorder\":\"array\",\"categoryarray\":[\"Insula\",\"Frontal\",\"Parietal\",\"Occipital\",\"Temporal\"]},\"legend\":{\"title\":{\"text\":\"Lobe\"},\"tracegroupgap\":0},\"margin\":{\"t\":60},\"boxmode\":\"overlay\"},                        {\"responsive\": true}                    ).then(function(){\n",
       "                            \n",
       "var gd = document.getElementById('5a7e3a04-38ba-49a6-b0a4-ee867e132bdc');\n",
       "var x = new MutationObserver(function (mutations, observer) {{\n",
       "        var display = window.getComputedStyle(gd).display;\n",
       "        if (!display || display === 'none') {{\n",
       "            console.log([gd, 'removed!']);\n",
       "            Plotly.purge(gd);\n",
       "            observer.disconnect();\n",
       "        }}\n",
       "}});\n",
       "\n",
       "// Listen for the removal of the full notebook cells\n",
       "var notebookContainer = gd.closest('#notebook-container');\n",
       "if (notebookContainer) {{\n",
       "    x.observe(notebookContainer, {childList: true});\n",
       "}}\n",
       "\n",
       "// Listen for the clearing of the current output cell\n",
       "var outputEl = gd.closest('.output');\n",
       "if (outputEl) {{\n",
       "    x.observe(outputEl, {childList: true});\n",
       "}}\n",
       "\n",
       "                        })                };                });            </script>        </div>"
      ]
     },
     "metadata": {},
     "output_type": "display_data"
    }
   ],
   "source": [
    "fig = px.box(data_df, x = 'Data', y = 'Lobe', color='Lobe', template='simple_white')\n",
    "fig.show()"
   ]
  },
  {
   "cell_type": "markdown",
   "id": "728b76f4",
   "metadata": {},
   "source": [
    "**Figure 3:** Boxplot with data on x axis and lobes on y axis. *Click on items in the legend to focus on specific subsets of the data.*\n",
    "\n",
    "Using two levels of anatomical classification simultaneously can illuminate interesting trends. This is mostly used to separate the left and right hemispheres to check for lateral asymmetry. With 'y = 'Region'' and 'facet_col = 'Lobe'' in 'px.box()', we can separate datapoints by both lobe and region:"
   ]
  },
  {
   "cell_type": "code",
   "execution_count": 63,
   "id": "41327bb8",
   "metadata": {},
   "outputs": [
    {
     "data": {
      "application/vnd.plotly.v1+json": {
       "config": {
        "plotlyServerURL": "https://plot.ly"
       },
       "data": [
        {
         "alignmentgroup": "True",
         "hovertemplate": "Region=%{y}<br>Lobe=Temporal<br>Data=%{x}<extra></extra>",
         "legendgroup": "Temporal Pole",
         "marker": {
          "color": "#1F77B4"
         },
         "name": "Temporal Pole",
         "notched": false,
         "offsetgroup": "Temporal Pole",
         "orientation": "h",
         "showlegend": true,
         "type": "box",
         "x": [
          0,
          1,
          2,
          3,
          4,
          5,
          6,
          7,
          8,
          9,
          10,
          11,
          12,
          13,
          14,
          15,
          16,
          17,
          345,
          346,
          347,
          348,
          349,
          350,
          351,
          352,
          353,
          354,
          355,
          356,
          357,
          358,
          359,
          360,
          361,
          362
         ],
         "x0": " ",
         "xaxis": "x",
         "y": [
          "Temporal Pole",
          "Temporal Pole",
          "Temporal Pole",
          "Temporal Pole",
          "Temporal Pole",
          "Temporal Pole",
          "Temporal Pole",
          "Temporal Pole",
          "Temporal Pole",
          "Temporal Pole",
          "Temporal Pole",
          "Temporal Pole",
          "Temporal Pole",
          "Temporal Pole",
          "Temporal Pole",
          "Temporal Pole",
          "Temporal Pole",
          "Temporal Pole",
          "Temporal Pole",
          "Temporal Pole",
          "Temporal Pole",
          "Temporal Pole",
          "Temporal Pole",
          "Temporal Pole",
          "Temporal Pole",
          "Temporal Pole",
          "Temporal Pole",
          "Temporal Pole",
          "Temporal Pole",
          "Temporal Pole",
          "Temporal Pole",
          "Temporal Pole",
          "Temporal Pole",
          "Temporal Pole",
          "Temporal Pole",
          "Temporal Pole"
         ],
         "y0": " ",
         "yaxis": "y"
        },
        {
         "alignmentgroup": "True",
         "hovertemplate": "Region=%{y}<br>Lobe=Temporal<br>Data=%{x}<extra></extra>",
         "legendgroup": "Temporal body",
         "marker": {
          "color": "#FF7F0E"
         },
         "name": "Temporal body",
         "notched": false,
         "offsetgroup": "Temporal body",
         "orientation": "h",
         "showlegend": true,
         "type": "box",
         "x": [
          18,
          19,
          20,
          21,
          22,
          23,
          24,
          25,
          26,
          27,
          28,
          29,
          30,
          31,
          32,
          33,
          34,
          35,
          36,
          37,
          38,
          39,
          40,
          41,
          42,
          43,
          44,
          45,
          46,
          47,
          48,
          49,
          363,
          364,
          365,
          366,
          367,
          368,
          369,
          370,
          371,
          372,
          373,
          374,
          375,
          376,
          377,
          378,
          379,
          380,
          381,
          382,
          383,
          384,
          385,
          386,
          387,
          388,
          389,
          390,
          391,
          392,
          393,
          394
         ],
         "x0": " ",
         "xaxis": "x",
         "y": [
          "Temporal body",
          "Temporal body",
          "Temporal body",
          "Temporal body",
          "Temporal body",
          "Temporal body",
          "Temporal body",
          "Temporal body",
          "Temporal body",
          "Temporal body",
          "Temporal body",
          "Temporal body",
          "Temporal body",
          "Temporal body",
          "Temporal body",
          "Temporal body",
          "Temporal body",
          "Temporal body",
          "Temporal body",
          "Temporal body",
          "Temporal body",
          "Temporal body",
          "Temporal body",
          "Temporal body",
          "Temporal body",
          "Temporal body",
          "Temporal body",
          "Temporal body",
          "Temporal body",
          "Temporal body",
          "Temporal body",
          "Temporal body",
          "Temporal body",
          "Temporal body",
          "Temporal body",
          "Temporal body",
          "Temporal body",
          "Temporal body",
          "Temporal body",
          "Temporal body",
          "Temporal body",
          "Temporal body",
          "Temporal body",
          "Temporal body",
          "Temporal body",
          "Temporal body",
          "Temporal body",
          "Temporal body",
          "Temporal body",
          "Temporal body",
          "Temporal body",
          "Temporal body",
          "Temporal body",
          "Temporal body",
          "Temporal body",
          "Temporal body",
          "Temporal body",
          "Temporal body",
          "Temporal body",
          "Temporal body",
          "Temporal body",
          "Temporal body",
          "Temporal body",
          "Temporal body"
         ],
         "y0": " ",
         "yaxis": "y"
        },
        {
         "alignmentgroup": "True",
         "hovertemplate": "Region=%{y}<br>Lobe=Occipital<br>Data=%{x}<extra></extra>",
         "legendgroup": "Occipital",
         "marker": {
          "color": "#2CA02C"
         },
         "name": "Occipital",
         "notched": false,
         "offsetgroup": "Occipital",
         "orientation": "h",
         "showlegend": true,
         "type": "box",
         "x": [
          50,
          51,
          52,
          53,
          54,
          55,
          56,
          57,
          58,
          59,
          60,
          61,
          62,
          63,
          64,
          65,
          66,
          67,
          68,
          69,
          70,
          71,
          72,
          73,
          74,
          75,
          76,
          77,
          78,
          79,
          80,
          81,
          82,
          83,
          395,
          396,
          397,
          398,
          399,
          400,
          401,
          402,
          403,
          404,
          405,
          406,
          407,
          408,
          409,
          410,
          411,
          412,
          413,
          414,
          415,
          416,
          417,
          418,
          419,
          420,
          421,
          422,
          423,
          424,
          425,
          426,
          427,
          428
         ],
         "x0": " ",
         "xaxis": "x2",
         "y": [
          "Occipital",
          "Occipital",
          "Occipital",
          "Occipital",
          "Occipital",
          "Occipital",
          "Occipital",
          "Occipital",
          "Occipital",
          "Occipital",
          "Occipital",
          "Occipital",
          "Occipital",
          "Occipital",
          "Occipital",
          "Occipital",
          "Occipital",
          "Occipital",
          "Occipital",
          "Occipital",
          "Occipital",
          "Occipital",
          "Occipital",
          "Occipital",
          "Occipital",
          "Occipital",
          "Occipital",
          "Occipital",
          "Occipital",
          "Occipital",
          "Occipital",
          "Occipital",
          "Occipital",
          "Occipital",
          "Occipital",
          "Occipital",
          "Occipital",
          "Occipital",
          "Occipital",
          "Occipital",
          "Occipital",
          "Occipital",
          "Occipital",
          "Occipital",
          "Occipital",
          "Occipital",
          "Occipital",
          "Occipital",
          "Occipital",
          "Occipital",
          "Occipital",
          "Occipital",
          "Occipital",
          "Occipital",
          "Occipital",
          "Occipital",
          "Occipital",
          "Occipital",
          "Occipital",
          "Occipital",
          "Occipital",
          "Occipital",
          "Occipital",
          "Occipital",
          "Occipital",
          "Occipital",
          "Occipital",
          "Occipital"
         ],
         "y0": " ",
         "yaxis": "y2"
        },
        {
         "alignmentgroup": "True",
         "hovertemplate": "Region=%{y}<br>Lobe=Parietal<br>Data=%{x}<extra></extra>",
         "legendgroup": "Angular",
         "marker": {
          "color": "#D62728"
         },
         "name": "Angular",
         "notched": false,
         "offsetgroup": "Angular",
         "orientation": "h",
         "showlegend": true,
         "type": "box",
         "x": [
          84,
          85,
          86,
          87,
          88,
          89,
          90,
          429,
          430,
          431,
          432,
          433,
          434,
          435
         ],
         "x0": " ",
         "xaxis": "x3",
         "y": [
          "Angular",
          "Angular",
          "Angular",
          "Angular",
          "Angular",
          "Angular",
          "Angular",
          "Angular",
          "Angular",
          "Angular",
          "Angular",
          "Angular",
          "Angular",
          "Angular"
         ],
         "y0": " ",
         "yaxis": "y3"
        },
        {
         "alignmentgroup": "True",
         "hovertemplate": "Region=%{y}<br>Lobe=Parietal<br>Data=%{x}<extra></extra>",
         "legendgroup": "Supramarginal",
         "marker": {
          "color": "#9467BD"
         },
         "name": "Supramarginal",
         "notched": false,
         "offsetgroup": "Supramarginal",
         "orientation": "h",
         "showlegend": true,
         "type": "box",
         "x": [
          91,
          92,
          93,
          94,
          95,
          96,
          97,
          98,
          99,
          100,
          101,
          102,
          103,
          104,
          105,
          106,
          107,
          108,
          436,
          437,
          438,
          439,
          440,
          441,
          442,
          443,
          444,
          445,
          446,
          447,
          448,
          449,
          450,
          451,
          452,
          453
         ],
         "x0": " ",
         "xaxis": "x3",
         "y": [
          "Supramarginal",
          "Supramarginal",
          "Supramarginal",
          "Supramarginal",
          "Supramarginal",
          "Supramarginal",
          "Supramarginal",
          "Supramarginal",
          "Supramarginal",
          "Supramarginal",
          "Supramarginal",
          "Supramarginal",
          "Supramarginal",
          "Supramarginal",
          "Supramarginal",
          "Supramarginal",
          "Supramarginal",
          "Supramarginal",
          "Supramarginal",
          "Supramarginal",
          "Supramarginal",
          "Supramarginal",
          "Supramarginal",
          "Supramarginal",
          "Supramarginal",
          "Supramarginal",
          "Supramarginal",
          "Supramarginal",
          "Supramarginal",
          "Supramarginal",
          "Supramarginal",
          "Supramarginal",
          "Supramarginal",
          "Supramarginal",
          "Supramarginal",
          "Supramarginal"
         ],
         "y0": " ",
         "yaxis": "y3"
        },
        {
         "alignmentgroup": "True",
         "hovertemplate": "Region=%{y}<br>Lobe=Parietal<br>Data=%{x}<extra></extra>",
         "legendgroup": "Superior parietal",
         "marker": {
          "color": "#8C564B"
         },
         "name": "Superior parietal",
         "notched": false,
         "offsetgroup": "Superior parietal",
         "orientation": "h",
         "showlegend": true,
         "type": "box",
         "x": [
          109,
          110,
          111,
          112,
          113,
          114,
          115,
          116,
          117,
          118,
          119,
          120,
          121,
          122,
          123,
          124,
          125,
          126,
          127,
          128,
          129,
          130,
          131,
          132,
          454,
          455,
          456,
          457,
          458,
          459,
          460,
          461,
          462,
          463,
          464,
          465,
          466,
          467,
          468,
          469,
          470,
          471,
          472,
          473,
          474,
          475,
          476,
          477
         ],
         "x0": " ",
         "xaxis": "x3",
         "y": [
          "Superior parietal",
          "Superior parietal",
          "Superior parietal",
          "Superior parietal",
          "Superior parietal",
          "Superior parietal",
          "Superior parietal",
          "Superior parietal",
          "Superior parietal",
          "Superior parietal",
          "Superior parietal",
          "Superior parietal",
          "Superior parietal",
          "Superior parietal",
          "Superior parietal",
          "Superior parietal",
          "Superior parietal",
          "Superior parietal",
          "Superior parietal",
          "Superior parietal",
          "Superior parietal",
          "Superior parietal",
          "Superior parietal",
          "Superior parietal",
          "Superior parietal",
          "Superior parietal",
          "Superior parietal",
          "Superior parietal",
          "Superior parietal",
          "Superior parietal",
          "Superior parietal",
          "Superior parietal",
          "Superior parietal",
          "Superior parietal",
          "Superior parietal",
          "Superior parietal",
          "Superior parietal",
          "Superior parietal",
          "Superior parietal",
          "Superior parietal",
          "Superior parietal",
          "Superior parietal",
          "Superior parietal",
          "Superior parietal",
          "Superior parietal",
          "Superior parietal",
          "Superior parietal",
          "Superior parietal"
         ],
         "y0": " ",
         "yaxis": "y3"
        },
        {
         "alignmentgroup": "True",
         "hovertemplate": "Region=%{y}<br>Lobe=Parietal<br>Data=%{x}<extra></extra>",
         "legendgroup": "Sensory",
         "marker": {
          "color": "#E377C2"
         },
         "name": "Sensory",
         "notched": false,
         "offsetgroup": "Sensory",
         "orientation": "h",
         "showlegend": true,
         "type": "box",
         "x": [
          133,
          134,
          135,
          136,
          137,
          138,
          139,
          140,
          141,
          142,
          143,
          144,
          145,
          478,
          479,
          480,
          481,
          482,
          483,
          484,
          485,
          486,
          487,
          488,
          489,
          490
         ],
         "x0": " ",
         "xaxis": "x3",
         "y": [
          "Sensory",
          "Sensory",
          "Sensory",
          "Sensory",
          "Sensory",
          "Sensory",
          "Sensory",
          "Sensory",
          "Sensory",
          "Sensory",
          "Sensory",
          "Sensory",
          "Sensory",
          "Sensory",
          "Sensory",
          "Sensory",
          "Sensory",
          "Sensory",
          "Sensory",
          "Sensory",
          "Sensory",
          "Sensory",
          "Sensory",
          "Sensory",
          "Sensory",
          "Sensory"
         ],
         "y0": " ",
         "yaxis": "y3"
        },
        {
         "alignmentgroup": "True",
         "hovertemplate": "Region=%{y}<br>Lobe=Frontal<br>Data=%{x}<extra></extra>",
         "legendgroup": "Motor",
         "marker": {
          "color": "#7F7F7F"
         },
         "name": "Motor",
         "notched": false,
         "offsetgroup": "Motor",
         "orientation": "h",
         "showlegend": true,
         "type": "box",
         "x": [
          146,
          147,
          148,
          149,
          150,
          151,
          152,
          153,
          154,
          155,
          156,
          157,
          158,
          159,
          160,
          491,
          492,
          493,
          494,
          495,
          496,
          497,
          498,
          499,
          500,
          501,
          502,
          503,
          504,
          505
         ],
         "x0": " ",
         "xaxis": "x4",
         "y": [
          "Motor",
          "Motor",
          "Motor",
          "Motor",
          "Motor",
          "Motor",
          "Motor",
          "Motor",
          "Motor",
          "Motor",
          "Motor",
          "Motor",
          "Motor",
          "Motor",
          "Motor",
          "Motor",
          "Motor",
          "Motor",
          "Motor",
          "Motor",
          "Motor",
          "Motor",
          "Motor",
          "Motor",
          "Motor",
          "Motor",
          "Motor",
          "Motor",
          "Motor",
          "Motor"
         ],
         "y0": " ",
         "yaxis": "y4"
        },
        {
         "alignmentgroup": "True",
         "hovertemplate": "Region=%{y}<br>Lobe=Frontal<br>Data=%{x}<extra></extra>",
         "legendgroup": "Superior frontal ",
         "marker": {
          "color": "#BCBD22"
         },
         "name": "Superior frontal ",
         "notched": false,
         "offsetgroup": "Superior frontal ",
         "orientation": "h",
         "showlegend": true,
         "type": "box",
         "x": [
          161,
          162,
          163,
          164,
          165,
          166,
          167,
          168,
          169,
          170,
          171,
          172,
          173,
          174,
          175,
          176,
          177,
          178,
          179,
          180,
          181,
          182,
          183,
          184,
          185,
          186,
          187,
          188,
          189,
          190,
          191,
          192,
          193,
          506,
          507,
          508,
          509,
          510,
          511,
          512,
          513,
          514,
          515,
          516,
          517,
          518,
          519,
          520,
          521,
          522,
          523,
          524,
          525,
          526,
          527,
          528,
          529,
          530,
          531,
          532,
          533,
          534,
          535,
          536,
          537,
          538
         ],
         "x0": " ",
         "xaxis": "x4",
         "y": [
          "Superior frontal ",
          "Superior frontal ",
          "Superior frontal ",
          "Superior frontal ",
          "Superior frontal ",
          "Superior frontal ",
          "Superior frontal ",
          "Superior frontal ",
          "Superior frontal ",
          "Superior frontal ",
          "Superior frontal ",
          "Superior frontal ",
          "Superior frontal ",
          "Superior frontal ",
          "Superior frontal ",
          "Superior frontal ",
          "Superior frontal ",
          "Superior frontal ",
          "Superior frontal ",
          "Superior frontal ",
          "Superior frontal ",
          "Superior frontal ",
          "Superior frontal ",
          "Superior frontal ",
          "Superior frontal ",
          "Superior frontal ",
          "Superior frontal ",
          "Superior frontal ",
          "Superior frontal ",
          "Superior frontal ",
          "Superior frontal ",
          "Superior frontal ",
          "Superior frontal ",
          "Superior frontal ",
          "Superior frontal ",
          "Superior frontal ",
          "Superior frontal ",
          "Superior frontal ",
          "Superior frontal ",
          "Superior frontal ",
          "Superior frontal ",
          "Superior frontal ",
          "Superior frontal ",
          "Superior frontal ",
          "Superior frontal ",
          "Superior frontal ",
          "Superior frontal ",
          "Superior frontal ",
          "Superior frontal ",
          "Superior frontal ",
          "Superior frontal ",
          "Superior frontal ",
          "Superior frontal ",
          "Superior frontal ",
          "Superior frontal ",
          "Superior frontal ",
          "Superior frontal ",
          "Superior frontal ",
          "Superior frontal ",
          "Superior frontal ",
          "Superior frontal ",
          "Superior frontal ",
          "Superior frontal ",
          "Superior frontal ",
          "Superior frontal ",
          "Superior frontal "
         ],
         "y0": " ",
         "yaxis": "y4"
        },
        {
         "alignmentgroup": "True",
         "hovertemplate": "Region=%{y}<br>Lobe=Frontal<br>Data=%{x}<extra></extra>",
         "legendgroup": "Middle frontal",
         "marker": {
          "color": "#17BECF"
         },
         "name": "Middle frontal",
         "notched": false,
         "offsetgroup": "Middle frontal",
         "orientation": "h",
         "showlegend": true,
         "type": "box",
         "x": [
          194,
          195,
          196,
          197,
          198,
          199,
          200,
          201,
          202,
          203,
          204,
          205,
          206,
          207,
          208,
          209,
          210,
          211,
          212,
          213,
          214,
          215,
          216,
          217,
          218,
          539,
          540,
          541,
          542,
          543,
          544,
          545,
          546,
          547,
          548,
          549,
          550,
          551,
          552,
          553,
          554,
          555,
          556,
          557,
          558,
          559,
          560,
          561,
          562,
          563
         ],
         "x0": " ",
         "xaxis": "x4",
         "y": [
          "Middle frontal",
          "Middle frontal",
          "Middle frontal",
          "Middle frontal",
          "Middle frontal",
          "Middle frontal",
          "Middle frontal",
          "Middle frontal",
          "Middle frontal",
          "Middle frontal",
          "Middle frontal",
          "Middle frontal",
          "Middle frontal",
          "Middle frontal",
          "Middle frontal",
          "Middle frontal",
          "Middle frontal",
          "Middle frontal",
          "Middle frontal",
          "Middle frontal",
          "Middle frontal",
          "Middle frontal",
          "Middle frontal",
          "Middle frontal",
          "Middle frontal",
          "Middle frontal",
          "Middle frontal",
          "Middle frontal",
          "Middle frontal",
          "Middle frontal",
          "Middle frontal",
          "Middle frontal",
          "Middle frontal",
          "Middle frontal",
          "Middle frontal",
          "Middle frontal",
          "Middle frontal",
          "Middle frontal",
          "Middle frontal",
          "Middle frontal",
          "Middle frontal",
          "Middle frontal",
          "Middle frontal",
          "Middle frontal",
          "Middle frontal",
          "Middle frontal",
          "Middle frontal",
          "Middle frontal",
          "Middle frontal",
          "Middle frontal"
         ],
         "y0": " ",
         "yaxis": "y4"
        },
        {
         "alignmentgroup": "True",
         "hovertemplate": "Region=%{y}<br>Lobe=Frontal<br>Data=%{x}<extra></extra>",
         "legendgroup": "Inferior frontal",
         "marker": {
          "color": "#1F77B4"
         },
         "name": "Inferior frontal",
         "notched": false,
         "offsetgroup": "Inferior frontal",
         "orientation": "h",
         "showlegend": true,
         "type": "box",
         "x": [
          219,
          220,
          221,
          222,
          223,
          224,
          225,
          226,
          227,
          228,
          229,
          230,
          564,
          565,
          566,
          567,
          568,
          569,
          570,
          571,
          572,
          573,
          574,
          575
         ],
         "x0": " ",
         "xaxis": "x4",
         "y": [
          "Inferior frontal",
          "Inferior frontal",
          "Inferior frontal",
          "Inferior frontal",
          "Inferior frontal",
          "Inferior frontal",
          "Inferior frontal",
          "Inferior frontal",
          "Inferior frontal",
          "Inferior frontal",
          "Inferior frontal",
          "Inferior frontal",
          "Inferior frontal",
          "Inferior frontal",
          "Inferior frontal",
          "Inferior frontal",
          "Inferior frontal",
          "Inferior frontal",
          "Inferior frontal",
          "Inferior frontal",
          "Inferior frontal",
          "Inferior frontal",
          "Inferior frontal",
          "Inferior frontal"
         ],
         "y0": " ",
         "yaxis": "y4"
        },
        {
         "alignmentgroup": "True",
         "hovertemplate": "Region=%{y}<br>Lobe=Frontal<br>Data=%{x}<extra></extra>",
         "legendgroup": "Frontal pole",
         "marker": {
          "color": "#FF7F0E"
         },
         "name": "Frontal pole",
         "notched": false,
         "offsetgroup": "Frontal pole",
         "orientation": "h",
         "showlegend": true,
         "type": "box",
         "x": [
          231,
          232,
          233,
          234,
          235,
          236,
          237,
          238,
          239,
          240,
          241,
          242,
          243,
          244,
          245,
          246,
          247,
          248,
          249,
          250,
          251,
          252,
          253,
          254,
          255,
          576,
          577,
          578,
          579,
          580,
          581,
          582,
          583,
          584,
          585,
          586,
          587,
          588,
          589,
          590,
          591,
          592,
          593,
          594,
          595,
          596,
          597,
          598,
          599,
          600
         ],
         "x0": " ",
         "xaxis": "x4",
         "y": [
          "Frontal pole",
          "Frontal pole",
          "Frontal pole",
          "Frontal pole",
          "Frontal pole",
          "Frontal pole",
          "Frontal pole",
          "Frontal pole",
          "Frontal pole",
          "Frontal pole",
          "Frontal pole",
          "Frontal pole",
          "Frontal pole",
          "Frontal pole",
          "Frontal pole",
          "Frontal pole",
          "Frontal pole",
          "Frontal pole",
          "Frontal pole",
          "Frontal pole",
          "Frontal pole",
          "Frontal pole",
          "Frontal pole",
          "Frontal pole",
          "Frontal pole",
          "Frontal pole",
          "Frontal pole",
          "Frontal pole",
          "Frontal pole",
          "Frontal pole",
          "Frontal pole",
          "Frontal pole",
          "Frontal pole",
          "Frontal pole",
          "Frontal pole",
          "Frontal pole",
          "Frontal pole",
          "Frontal pole",
          "Frontal pole",
          "Frontal pole",
          "Frontal pole",
          "Frontal pole",
          "Frontal pole",
          "Frontal pole",
          "Frontal pole",
          "Frontal pole",
          "Frontal pole",
          "Frontal pole",
          "Frontal pole",
          "Frontal pole"
         ],
         "y0": " ",
         "yaxis": "y4"
        },
        {
         "alignmentgroup": "True",
         "hovertemplate": "Region=%{y}<br>Lobe=Frontal<br>Data=%{x}<extra></extra>",
         "legendgroup": "Orbital frontal",
         "marker": {
          "color": "#2CA02C"
         },
         "name": "Orbital frontal",
         "notched": false,
         "offsetgroup": "Orbital frontal",
         "orientation": "h",
         "showlegend": true,
         "type": "box",
         "x": [
          256,
          257,
          258,
          259,
          260,
          261,
          262,
          263,
          264,
          265,
          266,
          267,
          268,
          269,
          270,
          271,
          272,
          273,
          274,
          275,
          276,
          277,
          278,
          279,
          280,
          601,
          602,
          603,
          604,
          605,
          606,
          607,
          608,
          609,
          610,
          611,
          612,
          613,
          614,
          615,
          616,
          617,
          618,
          619,
          620,
          621,
          622,
          623,
          624,
          625
         ],
         "x0": " ",
         "xaxis": "x4",
         "y": [
          "Orbital frontal",
          "Orbital frontal",
          "Orbital frontal",
          "Orbital frontal",
          "Orbital frontal",
          "Orbital frontal",
          "Orbital frontal",
          "Orbital frontal",
          "Orbital frontal",
          "Orbital frontal",
          "Orbital frontal",
          "Orbital frontal",
          "Orbital frontal",
          "Orbital frontal",
          "Orbital frontal",
          "Orbital frontal",
          "Orbital frontal",
          "Orbital frontal",
          "Orbital frontal",
          "Orbital frontal",
          "Orbital frontal",
          "Orbital frontal",
          "Orbital frontal",
          "Orbital frontal",
          "Orbital frontal",
          "Orbital frontal",
          "Orbital frontal",
          "Orbital frontal",
          "Orbital frontal",
          "Orbital frontal",
          "Orbital frontal",
          "Orbital frontal",
          "Orbital frontal",
          "Orbital frontal",
          "Orbital frontal",
          "Orbital frontal",
          "Orbital frontal",
          "Orbital frontal",
          "Orbital frontal",
          "Orbital frontal",
          "Orbital frontal",
          "Orbital frontal",
          "Orbital frontal",
          "Orbital frontal",
          "Orbital frontal",
          "Orbital frontal",
          "Orbital frontal",
          "Orbital frontal",
          "Orbital frontal",
          "Orbital frontal"
         ],
         "y0": " ",
         "yaxis": "y4"
        },
        {
         "alignmentgroup": "True",
         "hovertemplate": "Region=%{y}<br>Lobe=Temporal<br>Data=%{x}<extra></extra>",
         "legendgroup": "Inferior temporal-occipital ",
         "marker": {
          "color": "#D62728"
         },
         "name": "Inferior temporal-occipital ",
         "notched": false,
         "offsetgroup": "Inferior temporal-occipital ",
         "orientation": "h",
         "showlegend": true,
         "type": "box",
         "x": [
          281,
          282,
          283,
          284,
          285,
          286,
          287,
          288,
          289,
          290,
          291,
          292,
          293,
          294,
          295,
          296,
          297,
          298,
          299,
          300,
          626,
          627,
          628,
          629,
          630,
          631,
          632,
          633,
          634,
          635,
          636,
          637,
          638,
          639,
          640,
          641,
          642,
          643,
          644,
          645
         ],
         "x0": " ",
         "xaxis": "x",
         "y": [
          "Inferior temporal-occipital ",
          "Inferior temporal-occipital ",
          "Inferior temporal-occipital ",
          "Inferior temporal-occipital ",
          "Inferior temporal-occipital ",
          "Inferior temporal-occipital ",
          "Inferior temporal-occipital ",
          "Inferior temporal-occipital ",
          "Inferior temporal-occipital ",
          "Inferior temporal-occipital ",
          "Inferior temporal-occipital ",
          "Inferior temporal-occipital ",
          "Inferior temporal-occipital ",
          "Inferior temporal-occipital ",
          "Inferior temporal-occipital ",
          "Inferior temporal-occipital ",
          "Inferior temporal-occipital ",
          "Inferior temporal-occipital ",
          "Inferior temporal-occipital ",
          "Inferior temporal-occipital ",
          "Inferior temporal-occipital ",
          "Inferior temporal-occipital ",
          "Inferior temporal-occipital ",
          "Inferior temporal-occipital ",
          "Inferior temporal-occipital ",
          "Inferior temporal-occipital ",
          "Inferior temporal-occipital ",
          "Inferior temporal-occipital ",
          "Inferior temporal-occipital ",
          "Inferior temporal-occipital ",
          "Inferior temporal-occipital ",
          "Inferior temporal-occipital ",
          "Inferior temporal-occipital ",
          "Inferior temporal-occipital ",
          "Inferior temporal-occipital ",
          "Inferior temporal-occipital ",
          "Inferior temporal-occipital ",
          "Inferior temporal-occipital ",
          "Inferior temporal-occipital ",
          "Inferior temporal-occipital "
         ],
         "y0": " ",
         "yaxis": "y"
        },
        {
         "alignmentgroup": "True",
         "hovertemplate": "Region=%{y}<br>Lobe=Occipital<br>Data=%{x}<extra></extra>",
         "legendgroup": "Inferior temporal-occipital ",
         "marker": {
          "color": "#D62728"
         },
         "name": "Inferior temporal-occipital ",
         "notched": false,
         "offsetgroup": "Inferior temporal-occipital ",
         "orientation": "h",
         "showlegend": false,
         "type": "box",
         "x": [
          301,
          302,
          303,
          646,
          647,
          648
         ],
         "x0": " ",
         "xaxis": "x2",
         "y": [
          "Inferior temporal-occipital ",
          "Inferior temporal-occipital ",
          "Inferior temporal-occipital ",
          "Inferior temporal-occipital ",
          "Inferior temporal-occipital ",
          "Inferior temporal-occipital "
         ],
         "y0": " ",
         "yaxis": "y2"
        },
        {
         "alignmentgroup": "True",
         "hovertemplate": "Region=%{y}<br>Lobe=Frontal<br>Data=%{x}<extra></extra>",
         "legendgroup": "Cingulate",
         "marker": {
          "color": "#9467BD"
         },
         "name": "Cingulate",
         "notched": false,
         "offsetgroup": "Cingulate",
         "orientation": "h",
         "showlegend": true,
         "type": "box",
         "x": [
          304,
          305,
          306,
          307,
          308,
          309,
          310,
          311,
          312,
          313,
          314,
          315,
          316,
          317,
          318,
          319,
          320,
          321,
          322,
          649,
          650,
          651,
          652,
          653,
          654,
          655,
          656,
          657,
          658,
          659,
          660,
          661,
          662,
          663,
          664,
          665,
          666,
          667
         ],
         "x0": " ",
         "xaxis": "x4",
         "y": [
          "Cingulate",
          "Cingulate",
          "Cingulate",
          "Cingulate",
          "Cingulate",
          "Cingulate",
          "Cingulate",
          "Cingulate",
          "Cingulate",
          "Cingulate",
          "Cingulate",
          "Cingulate",
          "Cingulate",
          "Cingulate",
          "Cingulate",
          "Cingulate",
          "Cingulate",
          "Cingulate",
          "Cingulate",
          "Cingulate",
          "Cingulate",
          "Cingulate",
          "Cingulate",
          "Cingulate",
          "Cingulate",
          "Cingulate",
          "Cingulate",
          "Cingulate",
          "Cingulate",
          "Cingulate",
          "Cingulate",
          "Cingulate",
          "Cingulate",
          "Cingulate",
          "Cingulate",
          "Cingulate",
          "Cingulate",
          "Cingulate"
         ],
         "y0": " ",
         "yaxis": "y4"
        },
        {
         "alignmentgroup": "True",
         "hovertemplate": "Region=%{y}<br>Lobe=Temporal<br>Data=%{x}<extra></extra>",
         "legendgroup": "Mesial temporal",
         "marker": {
          "color": "#8C564B"
         },
         "name": "Mesial temporal",
         "notched": false,
         "offsetgroup": "Mesial temporal",
         "orientation": "h",
         "showlegend": true,
         "type": "box",
         "x": [
          323,
          324,
          325,
          326,
          327,
          668,
          669,
          670,
          671,
          672
         ],
         "x0": " ",
         "xaxis": "x",
         "y": [
          "Mesial temporal",
          "Mesial temporal",
          "Mesial temporal",
          "Mesial temporal",
          "Mesial temporal",
          "Mesial temporal",
          "Mesial temporal",
          "Mesial temporal",
          "Mesial temporal",
          "Mesial temporal"
         ],
         "y0": " ",
         "yaxis": "y"
        },
        {
         "alignmentgroup": "True",
         "hovertemplate": "Region=%{y}<br>Lobe=Insula<br>Data=%{x}<extra></extra>",
         "legendgroup": "Insula",
         "marker": {
          "color": "#E377C2"
         },
         "name": "Insula",
         "notched": false,
         "offsetgroup": "Insula",
         "orientation": "h",
         "showlegend": true,
         "type": "box",
         "x": [
          328,
          329,
          330,
          331,
          332,
          333,
          334,
          335,
          336,
          337,
          338,
          339,
          340,
          341,
          342,
          343,
          344,
          673,
          674,
          675,
          676,
          677,
          678,
          679,
          680,
          681,
          682,
          683,
          684,
          685,
          686,
          687,
          688,
          689
         ],
         "x0": " ",
         "xaxis": "x5",
         "y": [
          "Insula",
          "Insula",
          "Insula",
          "Insula",
          "Insula",
          "Insula",
          "Insula",
          "Insula",
          "Insula",
          "Insula",
          "Insula",
          "Insula",
          "Insula",
          "Insula",
          "Insula",
          "Insula",
          "Insula",
          "Insula",
          "Insula",
          "Insula",
          "Insula",
          "Insula",
          "Insula",
          "Insula",
          "Insula",
          "Insula",
          "Insula",
          "Insula",
          "Insula",
          "Insula",
          "Insula",
          "Insula",
          "Insula",
          "Insula"
         ],
         "y0": " ",
         "yaxis": "y5"
        }
       ],
       "layout": {
        "annotations": [
         {
          "font": {},
          "showarrow": false,
          "text": "Lobe=Temporal",
          "x": 0.09200000000000001,
          "xanchor": "center",
          "xref": "paper",
          "y": 1,
          "yanchor": "bottom",
          "yref": "paper"
         },
         {
          "font": {},
          "showarrow": false,
          "text": "Lobe=Occipital",
          "x": 0.29600000000000004,
          "xanchor": "center",
          "xref": "paper",
          "y": 1,
          "yanchor": "bottom",
          "yref": "paper"
         },
         {
          "font": {},
          "showarrow": false,
          "text": "Lobe=Parietal",
          "x": 0.5,
          "xanchor": "center",
          "xref": "paper",
          "y": 1,
          "yanchor": "bottom",
          "yref": "paper"
         },
         {
          "font": {},
          "showarrow": false,
          "text": "Lobe=Frontal",
          "x": 0.7040000000000002,
          "xanchor": "center",
          "xref": "paper",
          "y": 1,
          "yanchor": "bottom",
          "yref": "paper"
         },
         {
          "font": {},
          "showarrow": false,
          "text": "Lobe=Insula",
          "x": 0.908,
          "xanchor": "center",
          "xref": "paper",
          "y": 1,
          "yanchor": "bottom",
          "yref": "paper"
         }
        ],
        "boxmode": "overlay",
        "legend": {
         "title": {
          "text": "Region"
         },
         "tracegroupgap": 0
        },
        "margin": {
         "t": 60
        },
        "template": {
         "data": {
          "bar": [
           {
            "error_x": {
             "color": "rgb(36,36,36)"
            },
            "error_y": {
             "color": "rgb(36,36,36)"
            },
            "marker": {
             "line": {
              "color": "white",
              "width": 0.5
             },
             "pattern": {
              "fillmode": "overlay",
              "size": 10,
              "solidity": 0.2
             }
            },
            "type": "bar"
           }
          ],
          "barpolar": [
           {
            "marker": {
             "line": {
              "color": "white",
              "width": 0.5
             },
             "pattern": {
              "fillmode": "overlay",
              "size": 10,
              "solidity": 0.2
             }
            },
            "type": "barpolar"
           }
          ],
          "carpet": [
           {
            "aaxis": {
             "endlinecolor": "rgb(36,36,36)",
             "gridcolor": "white",
             "linecolor": "white",
             "minorgridcolor": "white",
             "startlinecolor": "rgb(36,36,36)"
            },
            "baxis": {
             "endlinecolor": "rgb(36,36,36)",
             "gridcolor": "white",
             "linecolor": "white",
             "minorgridcolor": "white",
             "startlinecolor": "rgb(36,36,36)"
            },
            "type": "carpet"
           }
          ],
          "choropleth": [
           {
            "colorbar": {
             "outlinewidth": 1,
             "tickcolor": "rgb(36,36,36)",
             "ticks": "outside"
            },
            "type": "choropleth"
           }
          ],
          "contour": [
           {
            "colorbar": {
             "outlinewidth": 1,
             "tickcolor": "rgb(36,36,36)",
             "ticks": "outside"
            },
            "colorscale": [
             [
              0,
              "#440154"
             ],
             [
              0.1111111111111111,
              "#482878"
             ],
             [
              0.2222222222222222,
              "#3e4989"
             ],
             [
              0.3333333333333333,
              "#31688e"
             ],
             [
              0.4444444444444444,
              "#26828e"
             ],
             [
              0.5555555555555556,
              "#1f9e89"
             ],
             [
              0.6666666666666666,
              "#35b779"
             ],
             [
              0.7777777777777778,
              "#6ece58"
             ],
             [
              0.8888888888888888,
              "#b5de2b"
             ],
             [
              1,
              "#fde725"
             ]
            ],
            "type": "contour"
           }
          ],
          "contourcarpet": [
           {
            "colorbar": {
             "outlinewidth": 1,
             "tickcolor": "rgb(36,36,36)",
             "ticks": "outside"
            },
            "type": "contourcarpet"
           }
          ],
          "heatmap": [
           {
            "colorbar": {
             "outlinewidth": 1,
             "tickcolor": "rgb(36,36,36)",
             "ticks": "outside"
            },
            "colorscale": [
             [
              0,
              "#440154"
             ],
             [
              0.1111111111111111,
              "#482878"
             ],
             [
              0.2222222222222222,
              "#3e4989"
             ],
             [
              0.3333333333333333,
              "#31688e"
             ],
             [
              0.4444444444444444,
              "#26828e"
             ],
             [
              0.5555555555555556,
              "#1f9e89"
             ],
             [
              0.6666666666666666,
              "#35b779"
             ],
             [
              0.7777777777777778,
              "#6ece58"
             ],
             [
              0.8888888888888888,
              "#b5de2b"
             ],
             [
              1,
              "#fde725"
             ]
            ],
            "type": "heatmap"
           }
          ],
          "heatmapgl": [
           {
            "colorbar": {
             "outlinewidth": 1,
             "tickcolor": "rgb(36,36,36)",
             "ticks": "outside"
            },
            "colorscale": [
             [
              0,
              "#440154"
             ],
             [
              0.1111111111111111,
              "#482878"
             ],
             [
              0.2222222222222222,
              "#3e4989"
             ],
             [
              0.3333333333333333,
              "#31688e"
             ],
             [
              0.4444444444444444,
              "#26828e"
             ],
             [
              0.5555555555555556,
              "#1f9e89"
             ],
             [
              0.6666666666666666,
              "#35b779"
             ],
             [
              0.7777777777777778,
              "#6ece58"
             ],
             [
              0.8888888888888888,
              "#b5de2b"
             ],
             [
              1,
              "#fde725"
             ]
            ],
            "type": "heatmapgl"
           }
          ],
          "histogram": [
           {
            "marker": {
             "line": {
              "color": "white",
              "width": 0.6
             }
            },
            "type": "histogram"
           }
          ],
          "histogram2d": [
           {
            "colorbar": {
             "outlinewidth": 1,
             "tickcolor": "rgb(36,36,36)",
             "ticks": "outside"
            },
            "colorscale": [
             [
              0,
              "#440154"
             ],
             [
              0.1111111111111111,
              "#482878"
             ],
             [
              0.2222222222222222,
              "#3e4989"
             ],
             [
              0.3333333333333333,
              "#31688e"
             ],
             [
              0.4444444444444444,
              "#26828e"
             ],
             [
              0.5555555555555556,
              "#1f9e89"
             ],
             [
              0.6666666666666666,
              "#35b779"
             ],
             [
              0.7777777777777778,
              "#6ece58"
             ],
             [
              0.8888888888888888,
              "#b5de2b"
             ],
             [
              1,
              "#fde725"
             ]
            ],
            "type": "histogram2d"
           }
          ],
          "histogram2dcontour": [
           {
            "colorbar": {
             "outlinewidth": 1,
             "tickcolor": "rgb(36,36,36)",
             "ticks": "outside"
            },
            "colorscale": [
             [
              0,
              "#440154"
             ],
             [
              0.1111111111111111,
              "#482878"
             ],
             [
              0.2222222222222222,
              "#3e4989"
             ],
             [
              0.3333333333333333,
              "#31688e"
             ],
             [
              0.4444444444444444,
              "#26828e"
             ],
             [
              0.5555555555555556,
              "#1f9e89"
             ],
             [
              0.6666666666666666,
              "#35b779"
             ],
             [
              0.7777777777777778,
              "#6ece58"
             ],
             [
              0.8888888888888888,
              "#b5de2b"
             ],
             [
              1,
              "#fde725"
             ]
            ],
            "type": "histogram2dcontour"
           }
          ],
          "mesh3d": [
           {
            "colorbar": {
             "outlinewidth": 1,
             "tickcolor": "rgb(36,36,36)",
             "ticks": "outside"
            },
            "type": "mesh3d"
           }
          ],
          "parcoords": [
           {
            "line": {
             "colorbar": {
              "outlinewidth": 1,
              "tickcolor": "rgb(36,36,36)",
              "ticks": "outside"
             }
            },
            "type": "parcoords"
           }
          ],
          "pie": [
           {
            "automargin": true,
            "type": "pie"
           }
          ],
          "scatter": [
           {
            "fillpattern": {
             "fillmode": "overlay",
             "size": 10,
             "solidity": 0.2
            },
            "type": "scatter"
           }
          ],
          "scatter3d": [
           {
            "line": {
             "colorbar": {
              "outlinewidth": 1,
              "tickcolor": "rgb(36,36,36)",
              "ticks": "outside"
             }
            },
            "marker": {
             "colorbar": {
              "outlinewidth": 1,
              "tickcolor": "rgb(36,36,36)",
              "ticks": "outside"
             }
            },
            "type": "scatter3d"
           }
          ],
          "scattercarpet": [
           {
            "marker": {
             "colorbar": {
              "outlinewidth": 1,
              "tickcolor": "rgb(36,36,36)",
              "ticks": "outside"
             }
            },
            "type": "scattercarpet"
           }
          ],
          "scattergeo": [
           {
            "marker": {
             "colorbar": {
              "outlinewidth": 1,
              "tickcolor": "rgb(36,36,36)",
              "ticks": "outside"
             }
            },
            "type": "scattergeo"
           }
          ],
          "scattergl": [
           {
            "marker": {
             "colorbar": {
              "outlinewidth": 1,
              "tickcolor": "rgb(36,36,36)",
              "ticks": "outside"
             }
            },
            "type": "scattergl"
           }
          ],
          "scattermapbox": [
           {
            "marker": {
             "colorbar": {
              "outlinewidth": 1,
              "tickcolor": "rgb(36,36,36)",
              "ticks": "outside"
             }
            },
            "type": "scattermapbox"
           }
          ],
          "scatterpolar": [
           {
            "marker": {
             "colorbar": {
              "outlinewidth": 1,
              "tickcolor": "rgb(36,36,36)",
              "ticks": "outside"
             }
            },
            "type": "scatterpolar"
           }
          ],
          "scatterpolargl": [
           {
            "marker": {
             "colorbar": {
              "outlinewidth": 1,
              "tickcolor": "rgb(36,36,36)",
              "ticks": "outside"
             }
            },
            "type": "scatterpolargl"
           }
          ],
          "scatterternary": [
           {
            "marker": {
             "colorbar": {
              "outlinewidth": 1,
              "tickcolor": "rgb(36,36,36)",
              "ticks": "outside"
             }
            },
            "type": "scatterternary"
           }
          ],
          "surface": [
           {
            "colorbar": {
             "outlinewidth": 1,
             "tickcolor": "rgb(36,36,36)",
             "ticks": "outside"
            },
            "colorscale": [
             [
              0,
              "#440154"
             ],
             [
              0.1111111111111111,
              "#482878"
             ],
             [
              0.2222222222222222,
              "#3e4989"
             ],
             [
              0.3333333333333333,
              "#31688e"
             ],
             [
              0.4444444444444444,
              "#26828e"
             ],
             [
              0.5555555555555556,
              "#1f9e89"
             ],
             [
              0.6666666666666666,
              "#35b779"
             ],
             [
              0.7777777777777778,
              "#6ece58"
             ],
             [
              0.8888888888888888,
              "#b5de2b"
             ],
             [
              1,
              "#fde725"
             ]
            ],
            "type": "surface"
           }
          ],
          "table": [
           {
            "cells": {
             "fill": {
              "color": "rgb(237,237,237)"
             },
             "line": {
              "color": "white"
             }
            },
            "header": {
             "fill": {
              "color": "rgb(217,217,217)"
             },
             "line": {
              "color": "white"
             }
            },
            "type": "table"
           }
          ]
         },
         "layout": {
          "annotationdefaults": {
           "arrowhead": 0,
           "arrowwidth": 1
          },
          "autotypenumbers": "strict",
          "coloraxis": {
           "colorbar": {
            "outlinewidth": 1,
            "tickcolor": "rgb(36,36,36)",
            "ticks": "outside"
           }
          },
          "colorscale": {
           "diverging": [
            [
             0,
             "rgb(103,0,31)"
            ],
            [
             0.1,
             "rgb(178,24,43)"
            ],
            [
             0.2,
             "rgb(214,96,77)"
            ],
            [
             0.3,
             "rgb(244,165,130)"
            ],
            [
             0.4,
             "rgb(253,219,199)"
            ],
            [
             0.5,
             "rgb(247,247,247)"
            ],
            [
             0.6,
             "rgb(209,229,240)"
            ],
            [
             0.7,
             "rgb(146,197,222)"
            ],
            [
             0.8,
             "rgb(67,147,195)"
            ],
            [
             0.9,
             "rgb(33,102,172)"
            ],
            [
             1,
             "rgb(5,48,97)"
            ]
           ],
           "sequential": [
            [
             0,
             "#440154"
            ],
            [
             0.1111111111111111,
             "#482878"
            ],
            [
             0.2222222222222222,
             "#3e4989"
            ],
            [
             0.3333333333333333,
             "#31688e"
            ],
            [
             0.4444444444444444,
             "#26828e"
            ],
            [
             0.5555555555555556,
             "#1f9e89"
            ],
            [
             0.6666666666666666,
             "#35b779"
            ],
            [
             0.7777777777777778,
             "#6ece58"
            ],
            [
             0.8888888888888888,
             "#b5de2b"
            ],
            [
             1,
             "#fde725"
            ]
           ],
           "sequentialminus": [
            [
             0,
             "#440154"
            ],
            [
             0.1111111111111111,
             "#482878"
            ],
            [
             0.2222222222222222,
             "#3e4989"
            ],
            [
             0.3333333333333333,
             "#31688e"
            ],
            [
             0.4444444444444444,
             "#26828e"
            ],
            [
             0.5555555555555556,
             "#1f9e89"
            ],
            [
             0.6666666666666666,
             "#35b779"
            ],
            [
             0.7777777777777778,
             "#6ece58"
            ],
            [
             0.8888888888888888,
             "#b5de2b"
            ],
            [
             1,
             "#fde725"
            ]
           ]
          },
          "colorway": [
           "#1F77B4",
           "#FF7F0E",
           "#2CA02C",
           "#D62728",
           "#9467BD",
           "#8C564B",
           "#E377C2",
           "#7F7F7F",
           "#BCBD22",
           "#17BECF"
          ],
          "font": {
           "color": "rgb(36,36,36)"
          },
          "geo": {
           "bgcolor": "white",
           "lakecolor": "white",
           "landcolor": "white",
           "showlakes": true,
           "showland": true,
           "subunitcolor": "white"
          },
          "hoverlabel": {
           "align": "left"
          },
          "hovermode": "closest",
          "mapbox": {
           "style": "light"
          },
          "paper_bgcolor": "white",
          "plot_bgcolor": "white",
          "polar": {
           "angularaxis": {
            "gridcolor": "rgb(232,232,232)",
            "linecolor": "rgb(36,36,36)",
            "showgrid": false,
            "showline": true,
            "ticks": "outside"
           },
           "bgcolor": "white",
           "radialaxis": {
            "gridcolor": "rgb(232,232,232)",
            "linecolor": "rgb(36,36,36)",
            "showgrid": false,
            "showline": true,
            "ticks": "outside"
           }
          },
          "scene": {
           "xaxis": {
            "backgroundcolor": "white",
            "gridcolor": "rgb(232,232,232)",
            "gridwidth": 2,
            "linecolor": "rgb(36,36,36)",
            "showbackground": true,
            "showgrid": false,
            "showline": true,
            "ticks": "outside",
            "zeroline": false,
            "zerolinecolor": "rgb(36,36,36)"
           },
           "yaxis": {
            "backgroundcolor": "white",
            "gridcolor": "rgb(232,232,232)",
            "gridwidth": 2,
            "linecolor": "rgb(36,36,36)",
            "showbackground": true,
            "showgrid": false,
            "showline": true,
            "ticks": "outside",
            "zeroline": false,
            "zerolinecolor": "rgb(36,36,36)"
           },
           "zaxis": {
            "backgroundcolor": "white",
            "gridcolor": "rgb(232,232,232)",
            "gridwidth": 2,
            "linecolor": "rgb(36,36,36)",
            "showbackground": true,
            "showgrid": false,
            "showline": true,
            "ticks": "outside",
            "zeroline": false,
            "zerolinecolor": "rgb(36,36,36)"
           }
          },
          "shapedefaults": {
           "fillcolor": "black",
           "line": {
            "width": 0
           },
           "opacity": 0.3
          },
          "ternary": {
           "aaxis": {
            "gridcolor": "rgb(232,232,232)",
            "linecolor": "rgb(36,36,36)",
            "showgrid": false,
            "showline": true,
            "ticks": "outside"
           },
           "baxis": {
            "gridcolor": "rgb(232,232,232)",
            "linecolor": "rgb(36,36,36)",
            "showgrid": false,
            "showline": true,
            "ticks": "outside"
           },
           "bgcolor": "white",
           "caxis": {
            "gridcolor": "rgb(232,232,232)",
            "linecolor": "rgb(36,36,36)",
            "showgrid": false,
            "showline": true,
            "ticks": "outside"
           }
          },
          "title": {
           "x": 0.05
          },
          "xaxis": {
           "automargin": true,
           "gridcolor": "rgb(232,232,232)",
           "linecolor": "rgb(36,36,36)",
           "showgrid": false,
           "showline": true,
           "ticks": "outside",
           "title": {
            "standoff": 15
           },
           "zeroline": false,
           "zerolinecolor": "rgb(36,36,36)"
          },
          "yaxis": {
           "automargin": true,
           "gridcolor": "rgb(232,232,232)",
           "linecolor": "rgb(36,36,36)",
           "showgrid": false,
           "showline": true,
           "ticks": "outside",
           "title": {
            "standoff": 15
           },
           "zeroline": false,
           "zerolinecolor": "rgb(36,36,36)"
          }
         }
        },
        "xaxis": {
         "anchor": "y",
         "domain": [
          0,
          0.18400000000000002
         ],
         "title": {
          "text": "Data"
         }
        },
        "xaxis2": {
         "anchor": "y2",
         "domain": [
          0.20400000000000001,
          0.388
         ],
         "matches": "x",
         "title": {
          "text": "Data"
         }
        },
        "xaxis3": {
         "anchor": "y3",
         "domain": [
          0.40800000000000003,
          0.5920000000000001
         ],
         "matches": "x",
         "title": {
          "text": "Data"
         }
        },
        "xaxis4": {
         "anchor": "y4",
         "domain": [
          0.6120000000000001,
          0.7960000000000002
         ],
         "matches": "x",
         "title": {
          "text": "Data"
         }
        },
        "xaxis5": {
         "anchor": "y5",
         "domain": [
          0.8160000000000001,
          1
         ],
         "matches": "x",
         "title": {
          "text": "Data"
         }
        },
        "yaxis": {
         "anchor": "x",
         "categoryarray": [
          "Insula",
          "Mesial temporal",
          "Cingulate",
          "Inferior temporal-occipital ",
          "Orbital frontal",
          "Frontal pole",
          "Inferior frontal",
          "Middle frontal",
          "Superior frontal ",
          "Motor",
          "Sensory",
          "Superior parietal",
          "Supramarginal",
          "Angular",
          "Occipital",
          "Temporal body",
          "Temporal Pole"
         ],
         "categoryorder": "array",
         "domain": [
          0,
          1
         ],
         "title": {
          "text": "Region"
         }
        },
        "yaxis2": {
         "anchor": "x2",
         "domain": [
          0,
          1
         ],
         "matches": "y",
         "showticklabels": false
        },
        "yaxis3": {
         "anchor": "x3",
         "domain": [
          0,
          1
         ],
         "matches": "y",
         "showticklabels": false
        },
        "yaxis4": {
         "anchor": "x4",
         "domain": [
          0,
          1
         ],
         "matches": "y",
         "showticklabels": false
        },
        "yaxis5": {
         "anchor": "x5",
         "domain": [
          0,
          1
         ],
         "matches": "y",
         "showticklabels": false
        }
       }
      },
      "text/html": [
       "<div>                            <div id=\"01e063cc-883a-4849-912c-664193813257\" class=\"plotly-graph-div\" style=\"height:525px; width:100%;\"></div>            <script type=\"text/javascript\">                require([\"plotly\"], function(Plotly) {                    window.PLOTLYENV=window.PLOTLYENV || {};                                    if (document.getElementById(\"01e063cc-883a-4849-912c-664193813257\")) {                    Plotly.newPlot(                        \"01e063cc-883a-4849-912c-664193813257\",                        [{\"alignmentgroup\":\"True\",\"hovertemplate\":\"Region=%{y}<br>Lobe=Temporal<br>Data=%{x}<extra></extra>\",\"legendgroup\":\"Temporal Pole\",\"marker\":{\"color\":\"#1F77B4\"},\"name\":\"Temporal Pole\",\"notched\":false,\"offsetgroup\":\"Temporal Pole\",\"orientation\":\"h\",\"showlegend\":true,\"x\":[0,1,2,3,4,5,6,7,8,9,10,11,12,13,14,15,16,17,345,346,347,348,349,350,351,352,353,354,355,356,357,358,359,360,361,362],\"x0\":\" \",\"xaxis\":\"x\",\"y\":[\"Temporal Pole\",\"Temporal Pole\",\"Temporal Pole\",\"Temporal Pole\",\"Temporal Pole\",\"Temporal Pole\",\"Temporal Pole\",\"Temporal Pole\",\"Temporal Pole\",\"Temporal Pole\",\"Temporal Pole\",\"Temporal Pole\",\"Temporal Pole\",\"Temporal Pole\",\"Temporal Pole\",\"Temporal Pole\",\"Temporal Pole\",\"Temporal Pole\",\"Temporal Pole\",\"Temporal Pole\",\"Temporal Pole\",\"Temporal Pole\",\"Temporal Pole\",\"Temporal Pole\",\"Temporal Pole\",\"Temporal Pole\",\"Temporal Pole\",\"Temporal Pole\",\"Temporal Pole\",\"Temporal Pole\",\"Temporal Pole\",\"Temporal Pole\",\"Temporal Pole\",\"Temporal Pole\",\"Temporal Pole\",\"Temporal Pole\"],\"y0\":\" \",\"yaxis\":\"y\",\"type\":\"box\"},{\"alignmentgroup\":\"True\",\"hovertemplate\":\"Region=%{y}<br>Lobe=Temporal<br>Data=%{x}<extra></extra>\",\"legendgroup\":\"Temporal body\",\"marker\":{\"color\":\"#FF7F0E\"},\"name\":\"Temporal body\",\"notched\":false,\"offsetgroup\":\"Temporal body\",\"orientation\":\"h\",\"showlegend\":true,\"x\":[18,19,20,21,22,23,24,25,26,27,28,29,30,31,32,33,34,35,36,37,38,39,40,41,42,43,44,45,46,47,48,49,363,364,365,366,367,368,369,370,371,372,373,374,375,376,377,378,379,380,381,382,383,384,385,386,387,388,389,390,391,392,393,394],\"x0\":\" \",\"xaxis\":\"x\",\"y\":[\"Temporal body\",\"Temporal body\",\"Temporal body\",\"Temporal body\",\"Temporal body\",\"Temporal body\",\"Temporal body\",\"Temporal body\",\"Temporal body\",\"Temporal body\",\"Temporal body\",\"Temporal body\",\"Temporal body\",\"Temporal body\",\"Temporal body\",\"Temporal body\",\"Temporal body\",\"Temporal body\",\"Temporal body\",\"Temporal body\",\"Temporal body\",\"Temporal body\",\"Temporal body\",\"Temporal body\",\"Temporal body\",\"Temporal body\",\"Temporal body\",\"Temporal body\",\"Temporal body\",\"Temporal body\",\"Temporal body\",\"Temporal body\",\"Temporal body\",\"Temporal body\",\"Temporal body\",\"Temporal body\",\"Temporal body\",\"Temporal body\",\"Temporal body\",\"Temporal body\",\"Temporal body\",\"Temporal body\",\"Temporal body\",\"Temporal body\",\"Temporal body\",\"Temporal body\",\"Temporal body\",\"Temporal body\",\"Temporal body\",\"Temporal body\",\"Temporal body\",\"Temporal body\",\"Temporal body\",\"Temporal body\",\"Temporal body\",\"Temporal body\",\"Temporal body\",\"Temporal body\",\"Temporal body\",\"Temporal body\",\"Temporal body\",\"Temporal body\",\"Temporal body\",\"Temporal body\"],\"y0\":\" \",\"yaxis\":\"y\",\"type\":\"box\"},{\"alignmentgroup\":\"True\",\"hovertemplate\":\"Region=%{y}<br>Lobe=Occipital<br>Data=%{x}<extra></extra>\",\"legendgroup\":\"Occipital\",\"marker\":{\"color\":\"#2CA02C\"},\"name\":\"Occipital\",\"notched\":false,\"offsetgroup\":\"Occipital\",\"orientation\":\"h\",\"showlegend\":true,\"x\":[50,51,52,53,54,55,56,57,58,59,60,61,62,63,64,65,66,67,68,69,70,71,72,73,74,75,76,77,78,79,80,81,82,83,395,396,397,398,399,400,401,402,403,404,405,406,407,408,409,410,411,412,413,414,415,416,417,418,419,420,421,422,423,424,425,426,427,428],\"x0\":\" \",\"xaxis\":\"x2\",\"y\":[\"Occipital\",\"Occipital\",\"Occipital\",\"Occipital\",\"Occipital\",\"Occipital\",\"Occipital\",\"Occipital\",\"Occipital\",\"Occipital\",\"Occipital\",\"Occipital\",\"Occipital\",\"Occipital\",\"Occipital\",\"Occipital\",\"Occipital\",\"Occipital\",\"Occipital\",\"Occipital\",\"Occipital\",\"Occipital\",\"Occipital\",\"Occipital\",\"Occipital\",\"Occipital\",\"Occipital\",\"Occipital\",\"Occipital\",\"Occipital\",\"Occipital\",\"Occipital\",\"Occipital\",\"Occipital\",\"Occipital\",\"Occipital\",\"Occipital\",\"Occipital\",\"Occipital\",\"Occipital\",\"Occipital\",\"Occipital\",\"Occipital\",\"Occipital\",\"Occipital\",\"Occipital\",\"Occipital\",\"Occipital\",\"Occipital\",\"Occipital\",\"Occipital\",\"Occipital\",\"Occipital\",\"Occipital\",\"Occipital\",\"Occipital\",\"Occipital\",\"Occipital\",\"Occipital\",\"Occipital\",\"Occipital\",\"Occipital\",\"Occipital\",\"Occipital\",\"Occipital\",\"Occipital\",\"Occipital\",\"Occipital\"],\"y0\":\" \",\"yaxis\":\"y2\",\"type\":\"box\"},{\"alignmentgroup\":\"True\",\"hovertemplate\":\"Region=%{y}<br>Lobe=Parietal<br>Data=%{x}<extra></extra>\",\"legendgroup\":\"Angular\",\"marker\":{\"color\":\"#D62728\"},\"name\":\"Angular\",\"notched\":false,\"offsetgroup\":\"Angular\",\"orientation\":\"h\",\"showlegend\":true,\"x\":[84,85,86,87,88,89,90,429,430,431,432,433,434,435],\"x0\":\" \",\"xaxis\":\"x3\",\"y\":[\"Angular\",\"Angular\",\"Angular\",\"Angular\",\"Angular\",\"Angular\",\"Angular\",\"Angular\",\"Angular\",\"Angular\",\"Angular\",\"Angular\",\"Angular\",\"Angular\"],\"y0\":\" \",\"yaxis\":\"y3\",\"type\":\"box\"},{\"alignmentgroup\":\"True\",\"hovertemplate\":\"Region=%{y}<br>Lobe=Parietal<br>Data=%{x}<extra></extra>\",\"legendgroup\":\"Supramarginal\",\"marker\":{\"color\":\"#9467BD\"},\"name\":\"Supramarginal\",\"notched\":false,\"offsetgroup\":\"Supramarginal\",\"orientation\":\"h\",\"showlegend\":true,\"x\":[91,92,93,94,95,96,97,98,99,100,101,102,103,104,105,106,107,108,436,437,438,439,440,441,442,443,444,445,446,447,448,449,450,451,452,453],\"x0\":\" \",\"xaxis\":\"x3\",\"y\":[\"Supramarginal\",\"Supramarginal\",\"Supramarginal\",\"Supramarginal\",\"Supramarginal\",\"Supramarginal\",\"Supramarginal\",\"Supramarginal\",\"Supramarginal\",\"Supramarginal\",\"Supramarginal\",\"Supramarginal\",\"Supramarginal\",\"Supramarginal\",\"Supramarginal\",\"Supramarginal\",\"Supramarginal\",\"Supramarginal\",\"Supramarginal\",\"Supramarginal\",\"Supramarginal\",\"Supramarginal\",\"Supramarginal\",\"Supramarginal\",\"Supramarginal\",\"Supramarginal\",\"Supramarginal\",\"Supramarginal\",\"Supramarginal\",\"Supramarginal\",\"Supramarginal\",\"Supramarginal\",\"Supramarginal\",\"Supramarginal\",\"Supramarginal\",\"Supramarginal\"],\"y0\":\" \",\"yaxis\":\"y3\",\"type\":\"box\"},{\"alignmentgroup\":\"True\",\"hovertemplate\":\"Region=%{y}<br>Lobe=Parietal<br>Data=%{x}<extra></extra>\",\"legendgroup\":\"Superior parietal\",\"marker\":{\"color\":\"#8C564B\"},\"name\":\"Superior parietal\",\"notched\":false,\"offsetgroup\":\"Superior parietal\",\"orientation\":\"h\",\"showlegend\":true,\"x\":[109,110,111,112,113,114,115,116,117,118,119,120,121,122,123,124,125,126,127,128,129,130,131,132,454,455,456,457,458,459,460,461,462,463,464,465,466,467,468,469,470,471,472,473,474,475,476,477],\"x0\":\" \",\"xaxis\":\"x3\",\"y\":[\"Superior parietal\",\"Superior parietal\",\"Superior parietal\",\"Superior parietal\",\"Superior parietal\",\"Superior parietal\",\"Superior parietal\",\"Superior parietal\",\"Superior parietal\",\"Superior parietal\",\"Superior parietal\",\"Superior parietal\",\"Superior parietal\",\"Superior parietal\",\"Superior parietal\",\"Superior parietal\",\"Superior parietal\",\"Superior parietal\",\"Superior parietal\",\"Superior parietal\",\"Superior parietal\",\"Superior parietal\",\"Superior parietal\",\"Superior parietal\",\"Superior parietal\",\"Superior parietal\",\"Superior parietal\",\"Superior parietal\",\"Superior parietal\",\"Superior parietal\",\"Superior parietal\",\"Superior parietal\",\"Superior parietal\",\"Superior parietal\",\"Superior parietal\",\"Superior parietal\",\"Superior parietal\",\"Superior parietal\",\"Superior parietal\",\"Superior parietal\",\"Superior parietal\",\"Superior parietal\",\"Superior parietal\",\"Superior parietal\",\"Superior parietal\",\"Superior parietal\",\"Superior parietal\",\"Superior parietal\"],\"y0\":\" \",\"yaxis\":\"y3\",\"type\":\"box\"},{\"alignmentgroup\":\"True\",\"hovertemplate\":\"Region=%{y}<br>Lobe=Parietal<br>Data=%{x}<extra></extra>\",\"legendgroup\":\"Sensory\",\"marker\":{\"color\":\"#E377C2\"},\"name\":\"Sensory\",\"notched\":false,\"offsetgroup\":\"Sensory\",\"orientation\":\"h\",\"showlegend\":true,\"x\":[133,134,135,136,137,138,139,140,141,142,143,144,145,478,479,480,481,482,483,484,485,486,487,488,489,490],\"x0\":\" \",\"xaxis\":\"x3\",\"y\":[\"Sensory\",\"Sensory\",\"Sensory\",\"Sensory\",\"Sensory\",\"Sensory\",\"Sensory\",\"Sensory\",\"Sensory\",\"Sensory\",\"Sensory\",\"Sensory\",\"Sensory\",\"Sensory\",\"Sensory\",\"Sensory\",\"Sensory\",\"Sensory\",\"Sensory\",\"Sensory\",\"Sensory\",\"Sensory\",\"Sensory\",\"Sensory\",\"Sensory\",\"Sensory\"],\"y0\":\" \",\"yaxis\":\"y3\",\"type\":\"box\"},{\"alignmentgroup\":\"True\",\"hovertemplate\":\"Region=%{y}<br>Lobe=Frontal<br>Data=%{x}<extra></extra>\",\"legendgroup\":\"Motor\",\"marker\":{\"color\":\"#7F7F7F\"},\"name\":\"Motor\",\"notched\":false,\"offsetgroup\":\"Motor\",\"orientation\":\"h\",\"showlegend\":true,\"x\":[146,147,148,149,150,151,152,153,154,155,156,157,158,159,160,491,492,493,494,495,496,497,498,499,500,501,502,503,504,505],\"x0\":\" \",\"xaxis\":\"x4\",\"y\":[\"Motor\",\"Motor\",\"Motor\",\"Motor\",\"Motor\",\"Motor\",\"Motor\",\"Motor\",\"Motor\",\"Motor\",\"Motor\",\"Motor\",\"Motor\",\"Motor\",\"Motor\",\"Motor\",\"Motor\",\"Motor\",\"Motor\",\"Motor\",\"Motor\",\"Motor\",\"Motor\",\"Motor\",\"Motor\",\"Motor\",\"Motor\",\"Motor\",\"Motor\",\"Motor\"],\"y0\":\" \",\"yaxis\":\"y4\",\"type\":\"box\"},{\"alignmentgroup\":\"True\",\"hovertemplate\":\"Region=%{y}<br>Lobe=Frontal<br>Data=%{x}<extra></extra>\",\"legendgroup\":\"Superior frontal \",\"marker\":{\"color\":\"#BCBD22\"},\"name\":\"Superior frontal \",\"notched\":false,\"offsetgroup\":\"Superior frontal \",\"orientation\":\"h\",\"showlegend\":true,\"x\":[161,162,163,164,165,166,167,168,169,170,171,172,173,174,175,176,177,178,179,180,181,182,183,184,185,186,187,188,189,190,191,192,193,506,507,508,509,510,511,512,513,514,515,516,517,518,519,520,521,522,523,524,525,526,527,528,529,530,531,532,533,534,535,536,537,538],\"x0\":\" \",\"xaxis\":\"x4\",\"y\":[\"Superior frontal \",\"Superior frontal \",\"Superior frontal \",\"Superior frontal \",\"Superior frontal \",\"Superior frontal \",\"Superior frontal \",\"Superior frontal \",\"Superior frontal \",\"Superior frontal \",\"Superior frontal \",\"Superior frontal \",\"Superior frontal \",\"Superior frontal \",\"Superior frontal \",\"Superior frontal \",\"Superior frontal \",\"Superior frontal \",\"Superior frontal \",\"Superior frontal \",\"Superior frontal \",\"Superior frontal \",\"Superior frontal \",\"Superior frontal \",\"Superior frontal \",\"Superior frontal \",\"Superior frontal \",\"Superior frontal \",\"Superior frontal \",\"Superior frontal \",\"Superior frontal \",\"Superior frontal \",\"Superior frontal \",\"Superior frontal \",\"Superior frontal \",\"Superior frontal \",\"Superior frontal \",\"Superior frontal \",\"Superior frontal \",\"Superior frontal \",\"Superior frontal \",\"Superior frontal \",\"Superior frontal \",\"Superior frontal \",\"Superior frontal \",\"Superior frontal \",\"Superior frontal \",\"Superior frontal \",\"Superior frontal \",\"Superior frontal \",\"Superior frontal \",\"Superior frontal \",\"Superior frontal \",\"Superior frontal \",\"Superior frontal \",\"Superior frontal \",\"Superior frontal \",\"Superior frontal \",\"Superior frontal \",\"Superior frontal \",\"Superior frontal \",\"Superior frontal \",\"Superior frontal \",\"Superior frontal \",\"Superior frontal \",\"Superior frontal \"],\"y0\":\" \",\"yaxis\":\"y4\",\"type\":\"box\"},{\"alignmentgroup\":\"True\",\"hovertemplate\":\"Region=%{y}<br>Lobe=Frontal<br>Data=%{x}<extra></extra>\",\"legendgroup\":\"Middle frontal\",\"marker\":{\"color\":\"#17BECF\"},\"name\":\"Middle frontal\",\"notched\":false,\"offsetgroup\":\"Middle frontal\",\"orientation\":\"h\",\"showlegend\":true,\"x\":[194,195,196,197,198,199,200,201,202,203,204,205,206,207,208,209,210,211,212,213,214,215,216,217,218,539,540,541,542,543,544,545,546,547,548,549,550,551,552,553,554,555,556,557,558,559,560,561,562,563],\"x0\":\" \",\"xaxis\":\"x4\",\"y\":[\"Middle frontal\",\"Middle frontal\",\"Middle frontal\",\"Middle frontal\",\"Middle frontal\",\"Middle frontal\",\"Middle frontal\",\"Middle frontal\",\"Middle frontal\",\"Middle frontal\",\"Middle frontal\",\"Middle frontal\",\"Middle frontal\",\"Middle frontal\",\"Middle frontal\",\"Middle frontal\",\"Middle frontal\",\"Middle frontal\",\"Middle frontal\",\"Middle frontal\",\"Middle frontal\",\"Middle frontal\",\"Middle frontal\",\"Middle frontal\",\"Middle frontal\",\"Middle frontal\",\"Middle frontal\",\"Middle frontal\",\"Middle frontal\",\"Middle frontal\",\"Middle frontal\",\"Middle frontal\",\"Middle frontal\",\"Middle frontal\",\"Middle frontal\",\"Middle frontal\",\"Middle frontal\",\"Middle frontal\",\"Middle frontal\",\"Middle frontal\",\"Middle frontal\",\"Middle frontal\",\"Middle frontal\",\"Middle frontal\",\"Middle frontal\",\"Middle frontal\",\"Middle frontal\",\"Middle frontal\",\"Middle frontal\",\"Middle frontal\"],\"y0\":\" \",\"yaxis\":\"y4\",\"type\":\"box\"},{\"alignmentgroup\":\"True\",\"hovertemplate\":\"Region=%{y}<br>Lobe=Frontal<br>Data=%{x}<extra></extra>\",\"legendgroup\":\"Inferior frontal\",\"marker\":{\"color\":\"#1F77B4\"},\"name\":\"Inferior frontal\",\"notched\":false,\"offsetgroup\":\"Inferior frontal\",\"orientation\":\"h\",\"showlegend\":true,\"x\":[219,220,221,222,223,224,225,226,227,228,229,230,564,565,566,567,568,569,570,571,572,573,574,575],\"x0\":\" \",\"xaxis\":\"x4\",\"y\":[\"Inferior frontal\",\"Inferior frontal\",\"Inferior frontal\",\"Inferior frontal\",\"Inferior frontal\",\"Inferior frontal\",\"Inferior frontal\",\"Inferior frontal\",\"Inferior frontal\",\"Inferior frontal\",\"Inferior frontal\",\"Inferior frontal\",\"Inferior frontal\",\"Inferior frontal\",\"Inferior frontal\",\"Inferior frontal\",\"Inferior frontal\",\"Inferior frontal\",\"Inferior frontal\",\"Inferior frontal\",\"Inferior frontal\",\"Inferior frontal\",\"Inferior frontal\",\"Inferior frontal\"],\"y0\":\" \",\"yaxis\":\"y4\",\"type\":\"box\"},{\"alignmentgroup\":\"True\",\"hovertemplate\":\"Region=%{y}<br>Lobe=Frontal<br>Data=%{x}<extra></extra>\",\"legendgroup\":\"Frontal pole\",\"marker\":{\"color\":\"#FF7F0E\"},\"name\":\"Frontal pole\",\"notched\":false,\"offsetgroup\":\"Frontal pole\",\"orientation\":\"h\",\"showlegend\":true,\"x\":[231,232,233,234,235,236,237,238,239,240,241,242,243,244,245,246,247,248,249,250,251,252,253,254,255,576,577,578,579,580,581,582,583,584,585,586,587,588,589,590,591,592,593,594,595,596,597,598,599,600],\"x0\":\" \",\"xaxis\":\"x4\",\"y\":[\"Frontal pole\",\"Frontal pole\",\"Frontal pole\",\"Frontal pole\",\"Frontal pole\",\"Frontal pole\",\"Frontal pole\",\"Frontal pole\",\"Frontal pole\",\"Frontal pole\",\"Frontal pole\",\"Frontal pole\",\"Frontal pole\",\"Frontal pole\",\"Frontal pole\",\"Frontal pole\",\"Frontal pole\",\"Frontal pole\",\"Frontal pole\",\"Frontal pole\",\"Frontal pole\",\"Frontal pole\",\"Frontal pole\",\"Frontal pole\",\"Frontal pole\",\"Frontal pole\",\"Frontal pole\",\"Frontal pole\",\"Frontal pole\",\"Frontal pole\",\"Frontal pole\",\"Frontal pole\",\"Frontal pole\",\"Frontal pole\",\"Frontal pole\",\"Frontal pole\",\"Frontal pole\",\"Frontal pole\",\"Frontal pole\",\"Frontal pole\",\"Frontal pole\",\"Frontal pole\",\"Frontal pole\",\"Frontal pole\",\"Frontal pole\",\"Frontal pole\",\"Frontal pole\",\"Frontal pole\",\"Frontal pole\",\"Frontal pole\"],\"y0\":\" \",\"yaxis\":\"y4\",\"type\":\"box\"},{\"alignmentgroup\":\"True\",\"hovertemplate\":\"Region=%{y}<br>Lobe=Frontal<br>Data=%{x}<extra></extra>\",\"legendgroup\":\"Orbital frontal\",\"marker\":{\"color\":\"#2CA02C\"},\"name\":\"Orbital frontal\",\"notched\":false,\"offsetgroup\":\"Orbital frontal\",\"orientation\":\"h\",\"showlegend\":true,\"x\":[256,257,258,259,260,261,262,263,264,265,266,267,268,269,270,271,272,273,274,275,276,277,278,279,280,601,602,603,604,605,606,607,608,609,610,611,612,613,614,615,616,617,618,619,620,621,622,623,624,625],\"x0\":\" \",\"xaxis\":\"x4\",\"y\":[\"Orbital frontal\",\"Orbital frontal\",\"Orbital frontal\",\"Orbital frontal\",\"Orbital frontal\",\"Orbital frontal\",\"Orbital frontal\",\"Orbital frontal\",\"Orbital frontal\",\"Orbital frontal\",\"Orbital frontal\",\"Orbital frontal\",\"Orbital frontal\",\"Orbital frontal\",\"Orbital frontal\",\"Orbital frontal\",\"Orbital frontal\",\"Orbital frontal\",\"Orbital frontal\",\"Orbital frontal\",\"Orbital frontal\",\"Orbital frontal\",\"Orbital frontal\",\"Orbital frontal\",\"Orbital frontal\",\"Orbital frontal\",\"Orbital frontal\",\"Orbital frontal\",\"Orbital frontal\",\"Orbital frontal\",\"Orbital frontal\",\"Orbital frontal\",\"Orbital frontal\",\"Orbital frontal\",\"Orbital frontal\",\"Orbital frontal\",\"Orbital frontal\",\"Orbital frontal\",\"Orbital frontal\",\"Orbital frontal\",\"Orbital frontal\",\"Orbital frontal\",\"Orbital frontal\",\"Orbital frontal\",\"Orbital frontal\",\"Orbital frontal\",\"Orbital frontal\",\"Orbital frontal\",\"Orbital frontal\",\"Orbital frontal\"],\"y0\":\" \",\"yaxis\":\"y4\",\"type\":\"box\"},{\"alignmentgroup\":\"True\",\"hovertemplate\":\"Region=%{y}<br>Lobe=Temporal<br>Data=%{x}<extra></extra>\",\"legendgroup\":\"Inferior temporal-occipital \",\"marker\":{\"color\":\"#D62728\"},\"name\":\"Inferior temporal-occipital \",\"notched\":false,\"offsetgroup\":\"Inferior temporal-occipital \",\"orientation\":\"h\",\"showlegend\":true,\"x\":[281,282,283,284,285,286,287,288,289,290,291,292,293,294,295,296,297,298,299,300,626,627,628,629,630,631,632,633,634,635,636,637,638,639,640,641,642,643,644,645],\"x0\":\" \",\"xaxis\":\"x\",\"y\":[\"Inferior temporal-occipital \",\"Inferior temporal-occipital \",\"Inferior temporal-occipital \",\"Inferior temporal-occipital \",\"Inferior temporal-occipital \",\"Inferior temporal-occipital \",\"Inferior temporal-occipital \",\"Inferior temporal-occipital \",\"Inferior temporal-occipital \",\"Inferior temporal-occipital \",\"Inferior temporal-occipital \",\"Inferior temporal-occipital \",\"Inferior temporal-occipital \",\"Inferior temporal-occipital \",\"Inferior temporal-occipital \",\"Inferior temporal-occipital \",\"Inferior temporal-occipital \",\"Inferior temporal-occipital \",\"Inferior temporal-occipital \",\"Inferior temporal-occipital \",\"Inferior temporal-occipital \",\"Inferior temporal-occipital \",\"Inferior temporal-occipital \",\"Inferior temporal-occipital \",\"Inferior temporal-occipital \",\"Inferior temporal-occipital \",\"Inferior temporal-occipital \",\"Inferior temporal-occipital \",\"Inferior temporal-occipital \",\"Inferior temporal-occipital \",\"Inferior temporal-occipital \",\"Inferior temporal-occipital \",\"Inferior temporal-occipital \",\"Inferior temporal-occipital \",\"Inferior temporal-occipital \",\"Inferior temporal-occipital \",\"Inferior temporal-occipital \",\"Inferior temporal-occipital \",\"Inferior temporal-occipital \",\"Inferior temporal-occipital \"],\"y0\":\" \",\"yaxis\":\"y\",\"type\":\"box\"},{\"alignmentgroup\":\"True\",\"hovertemplate\":\"Region=%{y}<br>Lobe=Occipital<br>Data=%{x}<extra></extra>\",\"legendgroup\":\"Inferior temporal-occipital \",\"marker\":{\"color\":\"#D62728\"},\"name\":\"Inferior temporal-occipital \",\"notched\":false,\"offsetgroup\":\"Inferior temporal-occipital \",\"orientation\":\"h\",\"showlegend\":false,\"x\":[301,302,303,646,647,648],\"x0\":\" \",\"xaxis\":\"x2\",\"y\":[\"Inferior temporal-occipital \",\"Inferior temporal-occipital \",\"Inferior temporal-occipital \",\"Inferior temporal-occipital \",\"Inferior temporal-occipital \",\"Inferior temporal-occipital \"],\"y0\":\" \",\"yaxis\":\"y2\",\"type\":\"box\"},{\"alignmentgroup\":\"True\",\"hovertemplate\":\"Region=%{y}<br>Lobe=Frontal<br>Data=%{x}<extra></extra>\",\"legendgroup\":\"Cingulate\",\"marker\":{\"color\":\"#9467BD\"},\"name\":\"Cingulate\",\"notched\":false,\"offsetgroup\":\"Cingulate\",\"orientation\":\"h\",\"showlegend\":true,\"x\":[304,305,306,307,308,309,310,311,312,313,314,315,316,317,318,319,320,321,322,649,650,651,652,653,654,655,656,657,658,659,660,661,662,663,664,665,666,667],\"x0\":\" \",\"xaxis\":\"x4\",\"y\":[\"Cingulate\",\"Cingulate\",\"Cingulate\",\"Cingulate\",\"Cingulate\",\"Cingulate\",\"Cingulate\",\"Cingulate\",\"Cingulate\",\"Cingulate\",\"Cingulate\",\"Cingulate\",\"Cingulate\",\"Cingulate\",\"Cingulate\",\"Cingulate\",\"Cingulate\",\"Cingulate\",\"Cingulate\",\"Cingulate\",\"Cingulate\",\"Cingulate\",\"Cingulate\",\"Cingulate\",\"Cingulate\",\"Cingulate\",\"Cingulate\",\"Cingulate\",\"Cingulate\",\"Cingulate\",\"Cingulate\",\"Cingulate\",\"Cingulate\",\"Cingulate\",\"Cingulate\",\"Cingulate\",\"Cingulate\",\"Cingulate\"],\"y0\":\" \",\"yaxis\":\"y4\",\"type\":\"box\"},{\"alignmentgroup\":\"True\",\"hovertemplate\":\"Region=%{y}<br>Lobe=Temporal<br>Data=%{x}<extra></extra>\",\"legendgroup\":\"Mesial temporal\",\"marker\":{\"color\":\"#8C564B\"},\"name\":\"Mesial temporal\",\"notched\":false,\"offsetgroup\":\"Mesial temporal\",\"orientation\":\"h\",\"showlegend\":true,\"x\":[323,324,325,326,327,668,669,670,671,672],\"x0\":\" \",\"xaxis\":\"x\",\"y\":[\"Mesial temporal\",\"Mesial temporal\",\"Mesial temporal\",\"Mesial temporal\",\"Mesial temporal\",\"Mesial temporal\",\"Mesial temporal\",\"Mesial temporal\",\"Mesial temporal\",\"Mesial temporal\"],\"y0\":\" \",\"yaxis\":\"y\",\"type\":\"box\"},{\"alignmentgroup\":\"True\",\"hovertemplate\":\"Region=%{y}<br>Lobe=Insula<br>Data=%{x}<extra></extra>\",\"legendgroup\":\"Insula\",\"marker\":{\"color\":\"#E377C2\"},\"name\":\"Insula\",\"notched\":false,\"offsetgroup\":\"Insula\",\"orientation\":\"h\",\"showlegend\":true,\"x\":[328,329,330,331,332,333,334,335,336,337,338,339,340,341,342,343,344,673,674,675,676,677,678,679,680,681,682,683,684,685,686,687,688,689],\"x0\":\" \",\"xaxis\":\"x5\",\"y\":[\"Insula\",\"Insula\",\"Insula\",\"Insula\",\"Insula\",\"Insula\",\"Insula\",\"Insula\",\"Insula\",\"Insula\",\"Insula\",\"Insula\",\"Insula\",\"Insula\",\"Insula\",\"Insula\",\"Insula\",\"Insula\",\"Insula\",\"Insula\",\"Insula\",\"Insula\",\"Insula\",\"Insula\",\"Insula\",\"Insula\",\"Insula\",\"Insula\",\"Insula\",\"Insula\",\"Insula\",\"Insula\",\"Insula\",\"Insula\"],\"y0\":\" \",\"yaxis\":\"y5\",\"type\":\"box\"}],                        {\"template\":{\"data\":{\"barpolar\":[{\"marker\":{\"line\":{\"color\":\"white\",\"width\":0.5},\"pattern\":{\"fillmode\":\"overlay\",\"size\":10,\"solidity\":0.2}},\"type\":\"barpolar\"}],\"bar\":[{\"error_x\":{\"color\":\"rgb(36,36,36)\"},\"error_y\":{\"color\":\"rgb(36,36,36)\"},\"marker\":{\"line\":{\"color\":\"white\",\"width\":0.5},\"pattern\":{\"fillmode\":\"overlay\",\"size\":10,\"solidity\":0.2}},\"type\":\"bar\"}],\"carpet\":[{\"aaxis\":{\"endlinecolor\":\"rgb(36,36,36)\",\"gridcolor\":\"white\",\"linecolor\":\"white\",\"minorgridcolor\":\"white\",\"startlinecolor\":\"rgb(36,36,36)\"},\"baxis\":{\"endlinecolor\":\"rgb(36,36,36)\",\"gridcolor\":\"white\",\"linecolor\":\"white\",\"minorgridcolor\":\"white\",\"startlinecolor\":\"rgb(36,36,36)\"},\"type\":\"carpet\"}],\"choropleth\":[{\"colorbar\":{\"outlinewidth\":1,\"tickcolor\":\"rgb(36,36,36)\",\"ticks\":\"outside\"},\"type\":\"choropleth\"}],\"contourcarpet\":[{\"colorbar\":{\"outlinewidth\":1,\"tickcolor\":\"rgb(36,36,36)\",\"ticks\":\"outside\"},\"type\":\"contourcarpet\"}],\"contour\":[{\"colorbar\":{\"outlinewidth\":1,\"tickcolor\":\"rgb(36,36,36)\",\"ticks\":\"outside\"},\"colorscale\":[[0.0,\"#440154\"],[0.1111111111111111,\"#482878\"],[0.2222222222222222,\"#3e4989\"],[0.3333333333333333,\"#31688e\"],[0.4444444444444444,\"#26828e\"],[0.5555555555555556,\"#1f9e89\"],[0.6666666666666666,\"#35b779\"],[0.7777777777777778,\"#6ece58\"],[0.8888888888888888,\"#b5de2b\"],[1.0,\"#fde725\"]],\"type\":\"contour\"}],\"heatmapgl\":[{\"colorbar\":{\"outlinewidth\":1,\"tickcolor\":\"rgb(36,36,36)\",\"ticks\":\"outside\"},\"colorscale\":[[0.0,\"#440154\"],[0.1111111111111111,\"#482878\"],[0.2222222222222222,\"#3e4989\"],[0.3333333333333333,\"#31688e\"],[0.4444444444444444,\"#26828e\"],[0.5555555555555556,\"#1f9e89\"],[0.6666666666666666,\"#35b779\"],[0.7777777777777778,\"#6ece58\"],[0.8888888888888888,\"#b5de2b\"],[1.0,\"#fde725\"]],\"type\":\"heatmapgl\"}],\"heatmap\":[{\"colorbar\":{\"outlinewidth\":1,\"tickcolor\":\"rgb(36,36,36)\",\"ticks\":\"outside\"},\"colorscale\":[[0.0,\"#440154\"],[0.1111111111111111,\"#482878\"],[0.2222222222222222,\"#3e4989\"],[0.3333333333333333,\"#31688e\"],[0.4444444444444444,\"#26828e\"],[0.5555555555555556,\"#1f9e89\"],[0.6666666666666666,\"#35b779\"],[0.7777777777777778,\"#6ece58\"],[0.8888888888888888,\"#b5de2b\"],[1.0,\"#fde725\"]],\"type\":\"heatmap\"}],\"histogram2dcontour\":[{\"colorbar\":{\"outlinewidth\":1,\"tickcolor\":\"rgb(36,36,36)\",\"ticks\":\"outside\"},\"colorscale\":[[0.0,\"#440154\"],[0.1111111111111111,\"#482878\"],[0.2222222222222222,\"#3e4989\"],[0.3333333333333333,\"#31688e\"],[0.4444444444444444,\"#26828e\"],[0.5555555555555556,\"#1f9e89\"],[0.6666666666666666,\"#35b779\"],[0.7777777777777778,\"#6ece58\"],[0.8888888888888888,\"#b5de2b\"],[1.0,\"#fde725\"]],\"type\":\"histogram2dcontour\"}],\"histogram2d\":[{\"colorbar\":{\"outlinewidth\":1,\"tickcolor\":\"rgb(36,36,36)\",\"ticks\":\"outside\"},\"colorscale\":[[0.0,\"#440154\"],[0.1111111111111111,\"#482878\"],[0.2222222222222222,\"#3e4989\"],[0.3333333333333333,\"#31688e\"],[0.4444444444444444,\"#26828e\"],[0.5555555555555556,\"#1f9e89\"],[0.6666666666666666,\"#35b779\"],[0.7777777777777778,\"#6ece58\"],[0.8888888888888888,\"#b5de2b\"],[1.0,\"#fde725\"]],\"type\":\"histogram2d\"}],\"histogram\":[{\"marker\":{\"line\":{\"color\":\"white\",\"width\":0.6}},\"type\":\"histogram\"}],\"mesh3d\":[{\"colorbar\":{\"outlinewidth\":1,\"tickcolor\":\"rgb(36,36,36)\",\"ticks\":\"outside\"},\"type\":\"mesh3d\"}],\"parcoords\":[{\"line\":{\"colorbar\":{\"outlinewidth\":1,\"tickcolor\":\"rgb(36,36,36)\",\"ticks\":\"outside\"}},\"type\":\"parcoords\"}],\"pie\":[{\"automargin\":true,\"type\":\"pie\"}],\"scatter3d\":[{\"line\":{\"colorbar\":{\"outlinewidth\":1,\"tickcolor\":\"rgb(36,36,36)\",\"ticks\":\"outside\"}},\"marker\":{\"colorbar\":{\"outlinewidth\":1,\"tickcolor\":\"rgb(36,36,36)\",\"ticks\":\"outside\"}},\"type\":\"scatter3d\"}],\"scattercarpet\":[{\"marker\":{\"colorbar\":{\"outlinewidth\":1,\"tickcolor\":\"rgb(36,36,36)\",\"ticks\":\"outside\"}},\"type\":\"scattercarpet\"}],\"scattergeo\":[{\"marker\":{\"colorbar\":{\"outlinewidth\":1,\"tickcolor\":\"rgb(36,36,36)\",\"ticks\":\"outside\"}},\"type\":\"scattergeo\"}],\"scattergl\":[{\"marker\":{\"colorbar\":{\"outlinewidth\":1,\"tickcolor\":\"rgb(36,36,36)\",\"ticks\":\"outside\"}},\"type\":\"scattergl\"}],\"scattermapbox\":[{\"marker\":{\"colorbar\":{\"outlinewidth\":1,\"tickcolor\":\"rgb(36,36,36)\",\"ticks\":\"outside\"}},\"type\":\"scattermapbox\"}],\"scatterpolargl\":[{\"marker\":{\"colorbar\":{\"outlinewidth\":1,\"tickcolor\":\"rgb(36,36,36)\",\"ticks\":\"outside\"}},\"type\":\"scatterpolargl\"}],\"scatterpolar\":[{\"marker\":{\"colorbar\":{\"outlinewidth\":1,\"tickcolor\":\"rgb(36,36,36)\",\"ticks\":\"outside\"}},\"type\":\"scatterpolar\"}],\"scatter\":[{\"fillpattern\":{\"fillmode\":\"overlay\",\"size\":10,\"solidity\":0.2},\"type\":\"scatter\"}],\"scatterternary\":[{\"marker\":{\"colorbar\":{\"outlinewidth\":1,\"tickcolor\":\"rgb(36,36,36)\",\"ticks\":\"outside\"}},\"type\":\"scatterternary\"}],\"surface\":[{\"colorbar\":{\"outlinewidth\":1,\"tickcolor\":\"rgb(36,36,36)\",\"ticks\":\"outside\"},\"colorscale\":[[0.0,\"#440154\"],[0.1111111111111111,\"#482878\"],[0.2222222222222222,\"#3e4989\"],[0.3333333333333333,\"#31688e\"],[0.4444444444444444,\"#26828e\"],[0.5555555555555556,\"#1f9e89\"],[0.6666666666666666,\"#35b779\"],[0.7777777777777778,\"#6ece58\"],[0.8888888888888888,\"#b5de2b\"],[1.0,\"#fde725\"]],\"type\":\"surface\"}],\"table\":[{\"cells\":{\"fill\":{\"color\":\"rgb(237,237,237)\"},\"line\":{\"color\":\"white\"}},\"header\":{\"fill\":{\"color\":\"rgb(217,217,217)\"},\"line\":{\"color\":\"white\"}},\"type\":\"table\"}]},\"layout\":{\"annotationdefaults\":{\"arrowhead\":0,\"arrowwidth\":1},\"autotypenumbers\":\"strict\",\"coloraxis\":{\"colorbar\":{\"outlinewidth\":1,\"tickcolor\":\"rgb(36,36,36)\",\"ticks\":\"outside\"}},\"colorscale\":{\"diverging\":[[0.0,\"rgb(103,0,31)\"],[0.1,\"rgb(178,24,43)\"],[0.2,\"rgb(214,96,77)\"],[0.3,\"rgb(244,165,130)\"],[0.4,\"rgb(253,219,199)\"],[0.5,\"rgb(247,247,247)\"],[0.6,\"rgb(209,229,240)\"],[0.7,\"rgb(146,197,222)\"],[0.8,\"rgb(67,147,195)\"],[0.9,\"rgb(33,102,172)\"],[1.0,\"rgb(5,48,97)\"]],\"sequential\":[[0.0,\"#440154\"],[0.1111111111111111,\"#482878\"],[0.2222222222222222,\"#3e4989\"],[0.3333333333333333,\"#31688e\"],[0.4444444444444444,\"#26828e\"],[0.5555555555555556,\"#1f9e89\"],[0.6666666666666666,\"#35b779\"],[0.7777777777777778,\"#6ece58\"],[0.8888888888888888,\"#b5de2b\"],[1.0,\"#fde725\"]],\"sequentialminus\":[[0.0,\"#440154\"],[0.1111111111111111,\"#482878\"],[0.2222222222222222,\"#3e4989\"],[0.3333333333333333,\"#31688e\"],[0.4444444444444444,\"#26828e\"],[0.5555555555555556,\"#1f9e89\"],[0.6666666666666666,\"#35b779\"],[0.7777777777777778,\"#6ece58\"],[0.8888888888888888,\"#b5de2b\"],[1.0,\"#fde725\"]]},\"colorway\":[\"#1F77B4\",\"#FF7F0E\",\"#2CA02C\",\"#D62728\",\"#9467BD\",\"#8C564B\",\"#E377C2\",\"#7F7F7F\",\"#BCBD22\",\"#17BECF\"],\"font\":{\"color\":\"rgb(36,36,36)\"},\"geo\":{\"bgcolor\":\"white\",\"lakecolor\":\"white\",\"landcolor\":\"white\",\"showlakes\":true,\"showland\":true,\"subunitcolor\":\"white\"},\"hoverlabel\":{\"align\":\"left\"},\"hovermode\":\"closest\",\"mapbox\":{\"style\":\"light\"},\"paper_bgcolor\":\"white\",\"plot_bgcolor\":\"white\",\"polar\":{\"angularaxis\":{\"gridcolor\":\"rgb(232,232,232)\",\"linecolor\":\"rgb(36,36,36)\",\"showgrid\":false,\"showline\":true,\"ticks\":\"outside\"},\"bgcolor\":\"white\",\"radialaxis\":{\"gridcolor\":\"rgb(232,232,232)\",\"linecolor\":\"rgb(36,36,36)\",\"showgrid\":false,\"showline\":true,\"ticks\":\"outside\"}},\"scene\":{\"xaxis\":{\"backgroundcolor\":\"white\",\"gridcolor\":\"rgb(232,232,232)\",\"gridwidth\":2,\"linecolor\":\"rgb(36,36,36)\",\"showbackground\":true,\"showgrid\":false,\"showline\":true,\"ticks\":\"outside\",\"zeroline\":false,\"zerolinecolor\":\"rgb(36,36,36)\"},\"yaxis\":{\"backgroundcolor\":\"white\",\"gridcolor\":\"rgb(232,232,232)\",\"gridwidth\":2,\"linecolor\":\"rgb(36,36,36)\",\"showbackground\":true,\"showgrid\":false,\"showline\":true,\"ticks\":\"outside\",\"zeroline\":false,\"zerolinecolor\":\"rgb(36,36,36)\"},\"zaxis\":{\"backgroundcolor\":\"white\",\"gridcolor\":\"rgb(232,232,232)\",\"gridwidth\":2,\"linecolor\":\"rgb(36,36,36)\",\"showbackground\":true,\"showgrid\":false,\"showline\":true,\"ticks\":\"outside\",\"zeroline\":false,\"zerolinecolor\":\"rgb(36,36,36)\"}},\"shapedefaults\":{\"fillcolor\":\"black\",\"line\":{\"width\":0},\"opacity\":0.3},\"ternary\":{\"aaxis\":{\"gridcolor\":\"rgb(232,232,232)\",\"linecolor\":\"rgb(36,36,36)\",\"showgrid\":false,\"showline\":true,\"ticks\":\"outside\"},\"baxis\":{\"gridcolor\":\"rgb(232,232,232)\",\"linecolor\":\"rgb(36,36,36)\",\"showgrid\":false,\"showline\":true,\"ticks\":\"outside\"},\"bgcolor\":\"white\",\"caxis\":{\"gridcolor\":\"rgb(232,232,232)\",\"linecolor\":\"rgb(36,36,36)\",\"showgrid\":false,\"showline\":true,\"ticks\":\"outside\"}},\"title\":{\"x\":0.05},\"xaxis\":{\"automargin\":true,\"gridcolor\":\"rgb(232,232,232)\",\"linecolor\":\"rgb(36,36,36)\",\"showgrid\":false,\"showline\":true,\"ticks\":\"outside\",\"title\":{\"standoff\":15},\"zeroline\":false,\"zerolinecolor\":\"rgb(36,36,36)\"},\"yaxis\":{\"automargin\":true,\"gridcolor\":\"rgb(232,232,232)\",\"linecolor\":\"rgb(36,36,36)\",\"showgrid\":false,\"showline\":true,\"ticks\":\"outside\",\"title\":{\"standoff\":15},\"zeroline\":false,\"zerolinecolor\":\"rgb(36,36,36)\"}}},\"xaxis\":{\"anchor\":\"y\",\"domain\":[0.0,0.18400000000000002],\"title\":{\"text\":\"Data\"}},\"yaxis\":{\"anchor\":\"x\",\"domain\":[0.0,1.0],\"title\":{\"text\":\"Region\"},\"categoryorder\":\"array\",\"categoryarray\":[\"Insula\",\"Mesial temporal\",\"Cingulate\",\"Inferior temporal-occipital \",\"Orbital frontal\",\"Frontal pole\",\"Inferior frontal\",\"Middle frontal\",\"Superior frontal \",\"Motor\",\"Sensory\",\"Superior parietal\",\"Supramarginal\",\"Angular\",\"Occipital\",\"Temporal body\",\"Temporal Pole\"]},\"xaxis2\":{\"anchor\":\"y2\",\"domain\":[0.20400000000000001,0.388],\"matches\":\"x\",\"title\":{\"text\":\"Data\"}},\"yaxis2\":{\"anchor\":\"x2\",\"domain\":[0.0,1.0],\"matches\":\"y\",\"showticklabels\":false},\"xaxis3\":{\"anchor\":\"y3\",\"domain\":[0.40800000000000003,0.5920000000000001],\"matches\":\"x\",\"title\":{\"text\":\"Data\"}},\"yaxis3\":{\"anchor\":\"x3\",\"domain\":[0.0,1.0],\"matches\":\"y\",\"showticklabels\":false},\"xaxis4\":{\"anchor\":\"y4\",\"domain\":[0.6120000000000001,0.7960000000000002],\"matches\":\"x\",\"title\":{\"text\":\"Data\"}},\"yaxis4\":{\"anchor\":\"x4\",\"domain\":[0.0,1.0],\"matches\":\"y\",\"showticklabels\":false},\"xaxis5\":{\"anchor\":\"y5\",\"domain\":[0.8160000000000001,1.0],\"matches\":\"x\",\"title\":{\"text\":\"Data\"}},\"yaxis5\":{\"anchor\":\"x5\",\"domain\":[0.0,1.0],\"matches\":\"y\",\"showticklabels\":false},\"annotations\":[{\"font\":{},\"showarrow\":false,\"text\":\"Lobe=Temporal\",\"x\":0.09200000000000001,\"xanchor\":\"center\",\"xref\":\"paper\",\"y\":1.0,\"yanchor\":\"bottom\",\"yref\":\"paper\"},{\"font\":{},\"showarrow\":false,\"text\":\"Lobe=Occipital\",\"x\":0.29600000000000004,\"xanchor\":\"center\",\"xref\":\"paper\",\"y\":1.0,\"yanchor\":\"bottom\",\"yref\":\"paper\"},{\"font\":{},\"showarrow\":false,\"text\":\"Lobe=Parietal\",\"x\":0.5,\"xanchor\":\"center\",\"xref\":\"paper\",\"y\":1.0,\"yanchor\":\"bottom\",\"yref\":\"paper\"},{\"font\":{},\"showarrow\":false,\"text\":\"Lobe=Frontal\",\"x\":0.7040000000000002,\"xanchor\":\"center\",\"xref\":\"paper\",\"y\":1.0,\"yanchor\":\"bottom\",\"yref\":\"paper\"},{\"font\":{},\"showarrow\":false,\"text\":\"Lobe=Insula\",\"x\":0.908,\"xanchor\":\"center\",\"xref\":\"paper\",\"y\":1.0,\"yanchor\":\"bottom\",\"yref\":\"paper\"}],\"legend\":{\"title\":{\"text\":\"Region\"},\"tracegroupgap\":0},\"margin\":{\"t\":60},\"boxmode\":\"overlay\"},                        {\"responsive\": true}                    ).then(function(){\n",
       "                            \n",
       "var gd = document.getElementById('01e063cc-883a-4849-912c-664193813257');\n",
       "var x = new MutationObserver(function (mutations, observer) {{\n",
       "        var display = window.getComputedStyle(gd).display;\n",
       "        if (!display || display === 'none') {{\n",
       "            console.log([gd, 'removed!']);\n",
       "            Plotly.purge(gd);\n",
       "            observer.disconnect();\n",
       "        }}\n",
       "}});\n",
       "\n",
       "// Listen for the removal of the full notebook cells\n",
       "var notebookContainer = gd.closest('#notebook-container');\n",
       "if (notebookContainer) {{\n",
       "    x.observe(notebookContainer, {childList: true});\n",
       "}}\n",
       "\n",
       "// Listen for the clearing of the current output cell\n",
       "var outputEl = gd.closest('.output');\n",
       "if (outputEl) {{\n",
       "    x.observe(outputEl, {childList: true});\n",
       "}}\n",
       "\n",
       "                        })                };                });            </script>        </div>"
      ]
     },
     "metadata": {},
     "output_type": "display_data"
    }
   ],
   "source": [
    "fig = px.box(data_df, x = 'Data', y = 'Region', color='Region', facet_col = 'Lobe', template='simple_white')\n",
    "fig.show()"
   ]
  },
  {
   "cell_type": "markdown",
   "id": "19c4e9c9",
   "metadata": {},
   "source": [
    "While simple plots such as the ones above suffice for initial data exploration, the demonstrations below may be helpful for further work:"
   ]
  },
  {
   "cell_type": "code",
   "execution_count": 66,
   "id": "b8a62cfd",
   "metadata": {},
   "outputs": [
    {
     "data": {
      "application/vnd.plotly.v1+json": {
       "config": {
        "plotlyServerURL": "https://plot.ly"
       },
       "data": [
        {
         "box": {
          "visible": true
         },
         "fillcolor": "rgb(0.850980392156863, 0.850980392156863, 0.0)",
         "hovertext": [
          "L_O1_A",
          "L_O1_B",
          "L_O1_C",
          "L_O1_D",
          "L_O1_E",
          "L_O2.1_A",
          "L_O2.1_B",
          "L_O2.1_C",
          "L_O2.1_D",
          "L_O2.1_E",
          "L_O2.2_A",
          "L_O2.2_B",
          "L_O2.2_C",
          "L_O2.2_D",
          "L_O2.2_E",
          "L_O2.2_F",
          "L_O2.2_G",
          "L_O2.2_H",
          "L_O2.2_I",
          "L_O2.2_J",
          "L_O2.2_K",
          "L_O3_A",
          "L_O3_B",
          "L_O3_C.1",
          "L_O3_C.2",
          "L_O3_D.1",
          "L_O3_D.2",
          "L_O3_E",
          "L_O3_F",
          "L_O3_G",
          "L_O3_H",
          "L_O3_I",
          "L_O4_A",
          "L_O4_B",
          "L_L_A",
          "L_L_B",
          "L_L_C",
          "R_O1_A",
          "R_O1_B",
          "R_O1_C",
          "R_O1_D",
          "R_O1_E",
          "R_O2.1_A",
          "R_O2.1_B",
          "R_O2.1_C",
          "R_O2.1_D",
          "R_O2.1_E",
          "R_O2.2_A",
          "R_O2.2_B",
          "R_O2.2_C",
          "R_O2.2_D",
          "R_O2.2_E",
          "R_O2.2_F",
          "R_O2.2_G",
          "R_O2.2_H",
          "R_O2.2_I",
          "R_O2.2_J",
          "R_O2.2_K",
          "R_O3_A",
          "R_O3_B",
          "R_O3_C.1",
          "R_O3_C.2",
          "R_O3_D.1",
          "R_O3_D.2",
          "R_O3_E",
          "R_O3_F",
          "R_O3_G",
          "R_O3_H",
          "R_O3_I",
          "R_O4_A",
          "R_O4_B",
          "R_L_A",
          "R_L_B",
          "R_L_C"
         ],
         "jitter": 0.3,
         "line": {
          "color": "black"
         },
         "meanline": {
          "visible": true
         },
         "name": "Occipital",
         "pointpos": -1.8,
         "points": "all",
         "type": "violin",
         "x": [
          50,
          51,
          52,
          53,
          54,
          55,
          56,
          57,
          58,
          59,
          60,
          61,
          62,
          63,
          64,
          65,
          66,
          67,
          68,
          69,
          70,
          71,
          72,
          73,
          74,
          75,
          76,
          77,
          78,
          79,
          80,
          81,
          82,
          83,
          301,
          302,
          303,
          395,
          396,
          397,
          398,
          399,
          400,
          401,
          402,
          403,
          404,
          405,
          406,
          407,
          408,
          409,
          410,
          411,
          412,
          413,
          414,
          415,
          416,
          417,
          418,
          419,
          420,
          421,
          422,
          423,
          424,
          425,
          426,
          427,
          428,
          646,
          647,
          648
         ]
        },
        {
         "box": {
          "visible": true
         },
         "fillcolor": "rgb(0.450980392156863, 1.0, 0.498039215686275)",
         "hovertext": [
          "L_AN1_A",
          "L_AN1_B",
          "L_AN1_C",
          "L_AN2_A",
          "L_AN2_B",
          "L_AN2_C",
          "L_AN2_D",
          "L_SM1_A",
          "L_SM1_B",
          "L_SM1_C",
          "L_SM1_D",
          "L_SM1_E",
          "L_SM2_A",
          "L_SM2_B",
          "L_SM3_A",
          "L_SM3_B",
          "L_SM3_C",
          "L_SM4_A",
          "L_SM4_B",
          "L_SM4_C",
          "L_SM5_A",
          "L_SM5_B",
          "L_SM5_C",
          "L_SM5_D",
          "L_SM5_E",
          "L_P1_A",
          "L_P1_B",
          "L_P1_C",
          "L_P1_D",
          "L_P1_E",
          "L_P1_F",
          "L_P1_G",
          "L_P2_A",
          "L_P2_B",
          "L_P2_C",
          "L_P2_D",
          "L_P3_A",
          "L_P3_B",
          "L_P3_C",
          "L_P3_D",
          "L_P3_E",
          "L_P3_F",
          "L_P4_A",
          "L_P4_B",
          "L_P4_C",
          "L_P4_D",
          "L_P4_E",
          "L_P4_F",
          "L_P4_G",
          "L_S_A",
          "L_S_B",
          "L_S_C",
          "L_S_D",
          "L_S_E",
          "L_S_F",
          "L_S_G",
          "L_S_H",
          "L_S_I",
          "L_S_J",
          "L_S_K",
          "L_S_L",
          "L_S_M",
          "R_AN1_A",
          "R_AN1_B",
          "R_AN1_C",
          "R_AN2_A",
          "R_AN2_B",
          "R_AN2_C",
          "R_AN2_D",
          "R_SM1_A",
          "R_SM1_B",
          "R_SM1_C",
          "R_SM1_D",
          "R_SM1_E",
          "R_SM2_A",
          "R_SM2_B",
          "R_SM3_A",
          "R_SM3_B",
          "R_SM3_C",
          "R_SM4_A",
          "R_SM4_B",
          "R_SM4_C",
          "R_SM5_A",
          "R_SM5_B",
          "R_SM5_C",
          "R_SM5_D",
          "R_SM5_E",
          "R_P1_A",
          "R_P1_B",
          "R_P1_C",
          "R_P1_D",
          "R_P1_E",
          "R_P1_F",
          "R_P1_G",
          "R_P2_A",
          "R_P2_B",
          "R_P2_C",
          "R_P2_D",
          "R_P3_A",
          "R_P3_B",
          "R_P3_C",
          "R_P3_D",
          "R_P3_E",
          "R_P3_F",
          "R_P4_A",
          "R_P4_B",
          "R_P4_C",
          "R_P4_D",
          "R_P4_E",
          "R_P4_F",
          "R_P4_G",
          "R_S_A",
          "R_S_B",
          "R_S_C",
          "R_S_D",
          "R_S_E",
          "R_S_F",
          "R_S_G",
          "R_S_H",
          "R_S_I",
          "R_S_J",
          "R_S_K",
          "R_S_L",
          "R_S_M"
         ],
         "jitter": 0.3,
         "line": {
          "color": "black"
         },
         "meanline": {
          "visible": true
         },
         "name": "Parietal",
         "pointpos": -1.8,
         "points": "all",
         "type": "violin",
         "x": [
          84,
          85,
          86,
          87,
          88,
          89,
          90,
          91,
          92,
          93,
          94,
          95,
          96,
          97,
          98,
          99,
          100,
          101,
          102,
          103,
          104,
          105,
          106,
          107,
          108,
          109,
          110,
          111,
          112,
          113,
          114,
          115,
          116,
          117,
          118,
          119,
          120,
          121,
          122,
          123,
          124,
          125,
          126,
          127,
          128,
          129,
          130,
          131,
          132,
          133,
          134,
          135,
          136,
          137,
          138,
          139,
          140,
          141,
          142,
          143,
          144,
          145,
          429,
          430,
          431,
          432,
          433,
          434,
          435,
          436,
          437,
          438,
          439,
          440,
          441,
          442,
          443,
          444,
          445,
          446,
          447,
          448,
          449,
          450,
          451,
          452,
          453,
          454,
          455,
          456,
          457,
          458,
          459,
          460,
          461,
          462,
          463,
          464,
          465,
          466,
          467,
          468,
          469,
          470,
          471,
          472,
          473,
          474,
          475,
          476,
          477,
          478,
          479,
          480,
          481,
          482,
          483,
          484,
          485,
          486,
          487,
          488,
          489,
          490
         ]
        },
        {
         "box": {
          "visible": true
         },
         "fillcolor": "rgb(0.0, 0.450980392156863, 0.901960784313726)",
         "hovertext": [
          "L_TP1_A",
          "L_TP1_B",
          "L_TP1_C",
          "L_TP1_D",
          "L_TP1_E",
          "L_TP1_F",
          "L_TP2.1_A",
          "L_TP2.1_B",
          "L_TP2.1_C",
          "L_TP2.1_D",
          "L_TP2.2_A",
          "L_TP2.2_B",
          "L_TP2.2_C",
          "L_TP2.2_D",
          "L_TP3_A",
          "L_TP3_B",
          "L_TP3_C",
          "L_TP3_D",
          "L_T1_A",
          "L_T1_B",
          "L_T1_C",
          "L_T1_D",
          "L_T1_E",
          "L_T1_F",
          "L_T1_G",
          "L_T2.1_A",
          "L_T2.1_B",
          "L_T2.1_C",
          "L_T2.1_D",
          "L_T2.1_E",
          "L_T2.1_F",
          "L_T2.1_G",
          "L_T2.2_A",
          "L_T2.2_B",
          "L_T2.2_C",
          "L_T2.2_D",
          "L_T2.2_E",
          "L_T2.2_F",
          "L_T2.2_G",
          "L_T3.1_A",
          "L_T3.1_B",
          "L_T3.1_C",
          "L_T3.1_D",
          "L_T3.1_E",
          "L_T3.1_F",
          "L_T3.2_A",
          "L_T3.2_B",
          "L_T3.2_C",
          "L_T3.2_D",
          "L_T3.2_E",
          "L_LOT_A",
          "L_LOT_B",
          "L_LOT_C",
          "L_LOT_D",
          "L_LOT_E",
          "L_MOT_A",
          "L_MOT_B",
          "L_MOT_C",
          "L_MOT_D",
          "L_MOT_E",
          "L_MOT_F",
          "L_MOT_G",
          "L_MOT_H",
          "L_PH_A",
          "L_PH_B",
          "L_PH_C",
          "L_PH_D",
          "L_PH_E",
          "L_PH_F",
          "L_PH_G",
          "L_H_A",
          "L_H_B",
          "L_H_C",
          "L_A_A",
          "L_A_B",
          "R_TP1_A",
          "R_TP1_B",
          "R_TP1_C",
          "R_TP1_D",
          "R_TP1_E",
          "R_TP1_F",
          "R_TP2.1_A",
          "R_TP2.1_B",
          "R_TP2.1_C",
          "R_TP2.1_D",
          "R_TP2.2_A",
          "R_TP2.2_B",
          "R_TP2.2_C",
          "R_TP2.2_D",
          "R_TP3_A",
          "R_TP3_B",
          "R_TP3_C",
          "R_TP3_D",
          "R_T1_A",
          "R_T1_B",
          "R_T1_C",
          "R_T1_D",
          "R_T1_E",
          "R_T1_F",
          "R_T1_G",
          "R_T2.1_A",
          "R_T2.1_B",
          "R_T2.1_C",
          "R_T2.1_D",
          "R_T2.1_E",
          "R_T2.1_F",
          "R_T2.1_G",
          "R_T2.2_A",
          "R_T2.2_B",
          "R_T2.2_C",
          "R_T2.2_D",
          "R_T2.2_E",
          "R_T2.2_F",
          "R_T2.2_G",
          "R_T3.1_A",
          "R_T3.1_B",
          "R_T3.1_C",
          "R_T3.1_D",
          "R_T3.1_E",
          "R_T3.1_F",
          "R_T3.2_A",
          "R_T3.2_B",
          "R_T3.2_C",
          "R_T3.2_D",
          "R_T3.2_E",
          "R_LOT_A",
          "R_LOT_B",
          "R_LOT_C",
          "R_LOT_D",
          "R_LOT_E",
          "R_MOT_A",
          "R_MOT_B",
          "R_MOT_C",
          "R_MOT_D",
          "R_MOT_E",
          "R_MOT_F",
          "R_MOT_G",
          "R_MOT_H",
          "R_PH_A",
          "R_PH_B",
          "R_PH_C",
          "R_PH_D",
          "R_PH_E",
          "R_PH_F",
          "R_PH_G",
          "R_H_A",
          "R_H_B",
          "R_H_C",
          "R_A_A",
          "R_A_B"
         ],
         "jitter": 0.3,
         "line": {
          "color": "black"
         },
         "meanline": {
          "visible": true
         },
         "name": "Temporal",
         "pointpos": -1.8,
         "points": "all",
         "type": "violin",
         "x": [
          0,
          1,
          2,
          3,
          4,
          5,
          6,
          7,
          8,
          9,
          10,
          11,
          12,
          13,
          14,
          15,
          16,
          17,
          18,
          19,
          20,
          21,
          22,
          23,
          24,
          25,
          26,
          27,
          28,
          29,
          30,
          31,
          32,
          33,
          34,
          35,
          36,
          37,
          38,
          39,
          40,
          41,
          42,
          43,
          44,
          45,
          46,
          47,
          48,
          49,
          281,
          282,
          283,
          284,
          285,
          286,
          287,
          288,
          289,
          290,
          291,
          292,
          293,
          294,
          295,
          296,
          297,
          298,
          299,
          300,
          323,
          324,
          325,
          326,
          327,
          345,
          346,
          347,
          348,
          349,
          350,
          351,
          352,
          353,
          354,
          355,
          356,
          357,
          358,
          359,
          360,
          361,
          362,
          363,
          364,
          365,
          366,
          367,
          368,
          369,
          370,
          371,
          372,
          373,
          374,
          375,
          376,
          377,
          378,
          379,
          380,
          381,
          382,
          383,
          384,
          385,
          386,
          387,
          388,
          389,
          390,
          391,
          392,
          393,
          394,
          626,
          627,
          628,
          629,
          630,
          631,
          632,
          633,
          634,
          635,
          636,
          637,
          638,
          639,
          640,
          641,
          642,
          643,
          644,
          645,
          668,
          669,
          670,
          671,
          672
         ]
        },
        {
         "box": {
          "visible": true
         },
         "fillcolor": "rgb(0.784313725490196, 0.0, 0.0)",
         "hovertext": [
          "L_M1_A",
          "L_M1_B",
          "L_M1_C",
          "L_M1_D",
          "L_M2_A",
          "L_M2_B",
          "L_M2_C",
          "L_M2_D",
          "L_M2_E",
          "L_M2_F",
          "L_M2_G",
          "L_M2_H",
          "L_M2_I",
          "L_M2_J",
          "L_M2_K",
          "L_SF1_A",
          "L_SF1_B",
          "L_SF1_C",
          "L_SF1_D",
          "L_SF2_A",
          "L_SF2_B",
          "L_SF2_C",
          "L_SF2_D",
          "L_SF3_A",
          "L_SF3_B",
          "L_SF3_C",
          "L_SF3_D",
          "L_SF4_A",
          "L_SF4_B",
          "L_SF4_C",
          "L_SF4_D",
          "L_SF5_A",
          "L_SF5_B",
          "L_SF5_C",
          "L_SF5_D",
          "L_SF6_A",
          "L_SF6_B",
          "L_SF6_C",
          "L_SF6_D",
          "L_SF7_A",
          "L_SF7_B",
          "L_SF7_C",
          "L_SF7_D",
          "L_SF7_E",
          "L_SF8_A",
          "L_SF8_B",
          "L_SF8_C",
          "L_SF8_D",
          "L_MF1_A",
          "L_MF1_B",
          "L_MF1_C",
          "L_MF2_A",
          "L_MF2_B",
          "L_MF2_C",
          "L_MF2_D",
          "L_MF3_A",
          "L_MF3_B",
          "L_MF3_C",
          "L_MF3_D",
          "L_MF4_A",
          "L_MF4_B",
          "L_MF4_C",
          "L_MF4_D",
          "L_MF5_A",
          "L_MF5_B",
          "L_MF5_C",
          "L_MF6_A",
          "L_MF6_B",
          "L_MF6_C",
          "L_MF7_A",
          "L_MF7_B",
          "L_MF7_C",
          "L_MF8_A",
          "L_OP_A",
          "L_OP_B",
          "L_OP_C",
          "L_TR1_A",
          "L_TR1_B",
          "L_TR2_A",
          "L_TR2_B",
          "L_TR3_A",
          "L_TR3_B",
          "L_OR_A",
          "L_OR_B",
          "L_OR_C",
          "L_FP1_A",
          "L_FP1_B",
          "L_FP1_C",
          "L_FP1_D",
          "L_FP1_E",
          "L_FP1_F",
          "L_FP1_G",
          "L_FP1_H",
          "L_FP2_A",
          "L_FP2_B",
          "L_FP2_C",
          "L_FP2_D",
          "L_FP3_A",
          "L_FP3_B",
          "L_FP3_C",
          "L_FP3_D",
          "L_FP3_E",
          "L_FP3_F",
          "L_FP3_G",
          "L_FP4_A",
          "L_FP4_B",
          "L_FP4_C",
          "L_FP4_D",
          "L_FP4_E",
          "L_FP4_F",
          "L_FO1_A",
          "L_FO1_B",
          "L_FO1_C",
          "L_FO1_D",
          "L_FO2_A",
          "L_FO2_B",
          "L_FO2_C",
          "L_FO2_D",
          "L_FO2_E",
          "L_FO3_A",
          "L_FO3_B",
          "L_FO3_C",
          "L_FO3_D",
          "L_FO4_A",
          "L_FO4_B",
          "L_FO4_C",
          "L_FO4_D",
          "L_FO5_A",
          "L_FO5_B",
          "L_FO5_C",
          "L_FO5_D",
          "L_FO5_E",
          "L_FO6_A",
          "L_FO6_B",
          "L_FO6_C",
          "L_CG_A",
          "L_CG_B",
          "L_CG_C",
          "L_CG_D",
          "L_CG_E",
          "L_CG_F",
          "L_CG_G",
          "L_CG_H",
          "L_CG_I",
          "L_CG_J",
          "L_CG_K",
          "L_CG_L",
          "L_CG_M",
          "L_CG_N.1",
          "L_CG_N.2",
          "L_CG_O",
          "L_CG_P",
          "L_CG_Q",
          "L_CG_R",
          "R_M1_A",
          "R_M1_B",
          "R_M1_C",
          "R_M1_D",
          "R_M2_A",
          "R_M2_B",
          "R_M2_C",
          "R_M2_D",
          "R_M2_E",
          "R_M2_F",
          "R_M2_G",
          "R_M2_H",
          "R_M2_I",
          "R_M2_J",
          "R_M2_K",
          "R_SF1_A",
          "R_SF1_B",
          "R_SF1_C",
          "R_SF1_D",
          "R_SF2_A",
          "R_SF2_B",
          "R_SF2_C",
          "R_SF2_D",
          "R_SF3_A",
          "R_SF3_B",
          "R_SF3_C",
          "R_SF3_D",
          "R_SF4_A",
          "R_SF4_B",
          "R_SF4_C",
          "R_SF4_D",
          "R_SF5_A",
          "R_SF5_B",
          "R_SF5_C",
          "R_SF5_D",
          "R_SF6_A",
          "R_SF6_B",
          "R_SF6_C",
          "R_SF6_D",
          "R_SF7_A",
          "R_SF7_B",
          "R_SF7_C",
          "R_SF7_D",
          "R_SF7_E",
          "R_SF8_A",
          "R_SF8_B",
          "R_SF8_C",
          "R_SF8_D",
          "R_MF1_A",
          "R_MF1_B",
          "R_MF1_C",
          "R_MF2_A",
          "R_MF2_B",
          "R_MF2_C",
          "R_MF2_D",
          "R_MF3_A",
          "R_MF3_B",
          "R_MF3_C",
          "R_MF3_D",
          "R_MF4_A",
          "R_MF4_B",
          "R_MF4_C",
          "R_MF4_D",
          "R_MF5_A",
          "R_MF5_B",
          "R_MF5_C",
          "R_MF6_A",
          "R_MF6_B",
          "R_MF6_C",
          "R_MF7_A",
          "R_MF7_B",
          "R_MF7_C",
          "R_MF8_A",
          "R_OP_A",
          "R_OP_B",
          "R_OP_C",
          "R_TR1_A",
          "R_TR1_B",
          "R_TR2_A",
          "R_TR2_B",
          "R_TR3_A",
          "R_TR3_B",
          "R_OR_A",
          "R_OR_B",
          "R_OR_C",
          "R_FP1_A",
          "R_FP1_B",
          "R_FP1_C",
          "R_FP1_D",
          "R_FP1_E",
          "R_FP1_F",
          "R_FP1_G",
          "R_FP1_H",
          "R_FP2_A",
          "R_FP2_B",
          "R_FP2_C",
          "R_FP2_D",
          "R_FP3_A",
          "R_FP3_B",
          "R_FP3_C",
          "R_FP3_D",
          "R_FP3_E",
          "R_FP3_F",
          "R_FP3_G",
          "R_FP4_A",
          "R_FP4_B",
          "R_FP4_C",
          "R_FP4_D",
          "R_FP4_E",
          "R_FP4_F",
          "R_FO1_A",
          "R_FO1_B",
          "R_FO1_C",
          "R_FO1_D",
          "R_FO2_A",
          "R_FO2_B",
          "R_FO2_C",
          "R_FO2_D",
          "R_FO2_E",
          "R_FO3_A",
          "R_FO3_B",
          "R_FO3_C",
          "R_FO3_D",
          "R_FO4_A",
          "R_FO4_B",
          "R_FO4_C",
          "R_FO4_D",
          "R_FO5_A",
          "R_FO5_B",
          "R_FO5_C",
          "R_FO5_D",
          "R_FO5_E",
          "R_FO6_A",
          "R_FO6_B",
          "R_FO6_C",
          "R_CG_A",
          "R_CG_B",
          "R_CG_C",
          "R_CG_D",
          "R_CG_E",
          "R_CG_F",
          "R_CG_G",
          "R_CG_H",
          "R_CG_I",
          "R_CG_J",
          "R_CG_K",
          "R_CG_L",
          "R_CG_M",
          "R_CG_N.1",
          "R_CG_N.2",
          "R_CG_O",
          "R_CG_P",
          "R_CG_Q",
          "R_CG_R"
         ],
         "jitter": 0.3,
         "line": {
          "color": "black"
         },
         "meanline": {
          "visible": true
         },
         "name": "Frontal",
         "pointpos": -1.8,
         "points": "all",
         "type": "violin",
         "x": [
          146,
          147,
          148,
          149,
          150,
          151,
          152,
          153,
          154,
          155,
          156,
          157,
          158,
          159,
          160,
          161,
          162,
          163,
          164,
          165,
          166,
          167,
          168,
          169,
          170,
          171,
          172,
          173,
          174,
          175,
          176,
          177,
          178,
          179,
          180,
          181,
          182,
          183,
          184,
          185,
          186,
          187,
          188,
          189,
          190,
          191,
          192,
          193,
          194,
          195,
          196,
          197,
          198,
          199,
          200,
          201,
          202,
          203,
          204,
          205,
          206,
          207,
          208,
          209,
          210,
          211,
          212,
          213,
          214,
          215,
          216,
          217,
          218,
          219,
          220,
          221,
          222,
          223,
          224,
          225,
          226,
          227,
          228,
          229,
          230,
          231,
          232,
          233,
          234,
          235,
          236,
          237,
          238,
          239,
          240,
          241,
          242,
          243,
          244,
          245,
          246,
          247,
          248,
          249,
          250,
          251,
          252,
          253,
          254,
          255,
          256,
          257,
          258,
          259,
          260,
          261,
          262,
          263,
          264,
          265,
          266,
          267,
          268,
          269,
          270,
          271,
          272,
          273,
          274,
          275,
          276,
          277,
          278,
          279,
          280,
          304,
          305,
          306,
          307,
          308,
          309,
          310,
          311,
          312,
          313,
          314,
          315,
          316,
          317,
          318,
          319,
          320,
          321,
          322,
          491,
          492,
          493,
          494,
          495,
          496,
          497,
          498,
          499,
          500,
          501,
          502,
          503,
          504,
          505,
          506,
          507,
          508,
          509,
          510,
          511,
          512,
          513,
          514,
          515,
          516,
          517,
          518,
          519,
          520,
          521,
          522,
          523,
          524,
          525,
          526,
          527,
          528,
          529,
          530,
          531,
          532,
          533,
          534,
          535,
          536,
          537,
          538,
          539,
          540,
          541,
          542,
          543,
          544,
          545,
          546,
          547,
          548,
          549,
          550,
          551,
          552,
          553,
          554,
          555,
          556,
          557,
          558,
          559,
          560,
          561,
          562,
          563,
          564,
          565,
          566,
          567,
          568,
          569,
          570,
          571,
          572,
          573,
          574,
          575,
          576,
          577,
          578,
          579,
          580,
          581,
          582,
          583,
          584,
          585,
          586,
          587,
          588,
          589,
          590,
          591,
          592,
          593,
          594,
          595,
          596,
          597,
          598,
          599,
          600,
          601,
          602,
          603,
          604,
          605,
          606,
          607,
          608,
          609,
          610,
          611,
          612,
          613,
          614,
          615,
          616,
          617,
          618,
          619,
          620,
          621,
          622,
          623,
          624,
          625,
          649,
          650,
          651,
          652,
          653,
          654,
          655,
          656,
          657,
          658,
          659,
          660,
          661,
          662,
          663,
          664,
          665,
          666,
          667
         ]
        },
        {
         "box": {
          "visible": true
         },
         "fillcolor": "rgb(0.419607843137255, 0.0, 0.584313725490196)",
         "hovertext": [
          "L_I1_A",
          "L_I1_B",
          "L_I1_C",
          "L_I2_A",
          "L_I2_B",
          "L_I2_C",
          "L_I3_A",
          "L_I3_B",
          "L_I3_C",
          "L_I4_A",
          "L_I4_B",
          "L_I4_C",
          "L_I4_D",
          "L_I5_A",
          "L_I5_B",
          "L_I5_C",
          "L_I5_D",
          "R_I1_A",
          "R_I1_B",
          "R_I1_C",
          "R_I2_A",
          "R_I2_B",
          "R_I2_C",
          "R_I3_A",
          "R_I3_B",
          "R_I3_C",
          "R_I4_A",
          "R_I4_B",
          "R_I4_C",
          "R_I4_D",
          "R_I5_A",
          "R_I5_B",
          "R_I5_C",
          "R_I5_D"
         ],
         "jitter": 0.3,
         "line": {
          "color": "black"
         },
         "meanline": {
          "visible": true
         },
         "name": "Insula",
         "pointpos": -1.8,
         "points": "all",
         "type": "violin",
         "x": [
          328,
          329,
          330,
          331,
          332,
          333,
          334,
          335,
          336,
          337,
          338,
          339,
          340,
          341,
          342,
          343,
          344,
          673,
          674,
          675,
          676,
          677,
          678,
          679,
          680,
          681,
          682,
          683,
          684,
          685,
          686,
          687,
          688,
          689
         ]
        }
       ],
       "layout": {
        "height": 1000,
        "showlegend": true,
        "template": {
         "data": {
          "bar": [
           {
            "error_x": {
             "color": "rgb(36,36,36)"
            },
            "error_y": {
             "color": "rgb(36,36,36)"
            },
            "marker": {
             "line": {
              "color": "white",
              "width": 0.5
             },
             "pattern": {
              "fillmode": "overlay",
              "size": 10,
              "solidity": 0.2
             }
            },
            "type": "bar"
           }
          ],
          "barpolar": [
           {
            "marker": {
             "line": {
              "color": "white",
              "width": 0.5
             },
             "pattern": {
              "fillmode": "overlay",
              "size": 10,
              "solidity": 0.2
             }
            },
            "type": "barpolar"
           }
          ],
          "carpet": [
           {
            "aaxis": {
             "endlinecolor": "rgb(36,36,36)",
             "gridcolor": "white",
             "linecolor": "white",
             "minorgridcolor": "white",
             "startlinecolor": "rgb(36,36,36)"
            },
            "baxis": {
             "endlinecolor": "rgb(36,36,36)",
             "gridcolor": "white",
             "linecolor": "white",
             "minorgridcolor": "white",
             "startlinecolor": "rgb(36,36,36)"
            },
            "type": "carpet"
           }
          ],
          "choropleth": [
           {
            "colorbar": {
             "outlinewidth": 1,
             "tickcolor": "rgb(36,36,36)",
             "ticks": "outside"
            },
            "type": "choropleth"
           }
          ],
          "contour": [
           {
            "colorbar": {
             "outlinewidth": 1,
             "tickcolor": "rgb(36,36,36)",
             "ticks": "outside"
            },
            "colorscale": [
             [
              0,
              "#440154"
             ],
             [
              0.1111111111111111,
              "#482878"
             ],
             [
              0.2222222222222222,
              "#3e4989"
             ],
             [
              0.3333333333333333,
              "#31688e"
             ],
             [
              0.4444444444444444,
              "#26828e"
             ],
             [
              0.5555555555555556,
              "#1f9e89"
             ],
             [
              0.6666666666666666,
              "#35b779"
             ],
             [
              0.7777777777777778,
              "#6ece58"
             ],
             [
              0.8888888888888888,
              "#b5de2b"
             ],
             [
              1,
              "#fde725"
             ]
            ],
            "type": "contour"
           }
          ],
          "contourcarpet": [
           {
            "colorbar": {
             "outlinewidth": 1,
             "tickcolor": "rgb(36,36,36)",
             "ticks": "outside"
            },
            "type": "contourcarpet"
           }
          ],
          "heatmap": [
           {
            "colorbar": {
             "outlinewidth": 1,
             "tickcolor": "rgb(36,36,36)",
             "ticks": "outside"
            },
            "colorscale": [
             [
              0,
              "#440154"
             ],
             [
              0.1111111111111111,
              "#482878"
             ],
             [
              0.2222222222222222,
              "#3e4989"
             ],
             [
              0.3333333333333333,
              "#31688e"
             ],
             [
              0.4444444444444444,
              "#26828e"
             ],
             [
              0.5555555555555556,
              "#1f9e89"
             ],
             [
              0.6666666666666666,
              "#35b779"
             ],
             [
              0.7777777777777778,
              "#6ece58"
             ],
             [
              0.8888888888888888,
              "#b5de2b"
             ],
             [
              1,
              "#fde725"
             ]
            ],
            "type": "heatmap"
           }
          ],
          "heatmapgl": [
           {
            "colorbar": {
             "outlinewidth": 1,
             "tickcolor": "rgb(36,36,36)",
             "ticks": "outside"
            },
            "colorscale": [
             [
              0,
              "#440154"
             ],
             [
              0.1111111111111111,
              "#482878"
             ],
             [
              0.2222222222222222,
              "#3e4989"
             ],
             [
              0.3333333333333333,
              "#31688e"
             ],
             [
              0.4444444444444444,
              "#26828e"
             ],
             [
              0.5555555555555556,
              "#1f9e89"
             ],
             [
              0.6666666666666666,
              "#35b779"
             ],
             [
              0.7777777777777778,
              "#6ece58"
             ],
             [
              0.8888888888888888,
              "#b5de2b"
             ],
             [
              1,
              "#fde725"
             ]
            ],
            "type": "heatmapgl"
           }
          ],
          "histogram": [
           {
            "marker": {
             "line": {
              "color": "white",
              "width": 0.6
             }
            },
            "type": "histogram"
           }
          ],
          "histogram2d": [
           {
            "colorbar": {
             "outlinewidth": 1,
             "tickcolor": "rgb(36,36,36)",
             "ticks": "outside"
            },
            "colorscale": [
             [
              0,
              "#440154"
             ],
             [
              0.1111111111111111,
              "#482878"
             ],
             [
              0.2222222222222222,
              "#3e4989"
             ],
             [
              0.3333333333333333,
              "#31688e"
             ],
             [
              0.4444444444444444,
              "#26828e"
             ],
             [
              0.5555555555555556,
              "#1f9e89"
             ],
             [
              0.6666666666666666,
              "#35b779"
             ],
             [
              0.7777777777777778,
              "#6ece58"
             ],
             [
              0.8888888888888888,
              "#b5de2b"
             ],
             [
              1,
              "#fde725"
             ]
            ],
            "type": "histogram2d"
           }
          ],
          "histogram2dcontour": [
           {
            "colorbar": {
             "outlinewidth": 1,
             "tickcolor": "rgb(36,36,36)",
             "ticks": "outside"
            },
            "colorscale": [
             [
              0,
              "#440154"
             ],
             [
              0.1111111111111111,
              "#482878"
             ],
             [
              0.2222222222222222,
              "#3e4989"
             ],
             [
              0.3333333333333333,
              "#31688e"
             ],
             [
              0.4444444444444444,
              "#26828e"
             ],
             [
              0.5555555555555556,
              "#1f9e89"
             ],
             [
              0.6666666666666666,
              "#35b779"
             ],
             [
              0.7777777777777778,
              "#6ece58"
             ],
             [
              0.8888888888888888,
              "#b5de2b"
             ],
             [
              1,
              "#fde725"
             ]
            ],
            "type": "histogram2dcontour"
           }
          ],
          "mesh3d": [
           {
            "colorbar": {
             "outlinewidth": 1,
             "tickcolor": "rgb(36,36,36)",
             "ticks": "outside"
            },
            "type": "mesh3d"
           }
          ],
          "parcoords": [
           {
            "line": {
             "colorbar": {
              "outlinewidth": 1,
              "tickcolor": "rgb(36,36,36)",
              "ticks": "outside"
             }
            },
            "type": "parcoords"
           }
          ],
          "pie": [
           {
            "automargin": true,
            "type": "pie"
           }
          ],
          "scatter": [
           {
            "fillpattern": {
             "fillmode": "overlay",
             "size": 10,
             "solidity": 0.2
            },
            "type": "scatter"
           }
          ],
          "scatter3d": [
           {
            "line": {
             "colorbar": {
              "outlinewidth": 1,
              "tickcolor": "rgb(36,36,36)",
              "ticks": "outside"
             }
            },
            "marker": {
             "colorbar": {
              "outlinewidth": 1,
              "tickcolor": "rgb(36,36,36)",
              "ticks": "outside"
             }
            },
            "type": "scatter3d"
           }
          ],
          "scattercarpet": [
           {
            "marker": {
             "colorbar": {
              "outlinewidth": 1,
              "tickcolor": "rgb(36,36,36)",
              "ticks": "outside"
             }
            },
            "type": "scattercarpet"
           }
          ],
          "scattergeo": [
           {
            "marker": {
             "colorbar": {
              "outlinewidth": 1,
              "tickcolor": "rgb(36,36,36)",
              "ticks": "outside"
             }
            },
            "type": "scattergeo"
           }
          ],
          "scattergl": [
           {
            "marker": {
             "colorbar": {
              "outlinewidth": 1,
              "tickcolor": "rgb(36,36,36)",
              "ticks": "outside"
             }
            },
            "type": "scattergl"
           }
          ],
          "scattermapbox": [
           {
            "marker": {
             "colorbar": {
              "outlinewidth": 1,
              "tickcolor": "rgb(36,36,36)",
              "ticks": "outside"
             }
            },
            "type": "scattermapbox"
           }
          ],
          "scatterpolar": [
           {
            "marker": {
             "colorbar": {
              "outlinewidth": 1,
              "tickcolor": "rgb(36,36,36)",
              "ticks": "outside"
             }
            },
            "type": "scatterpolar"
           }
          ],
          "scatterpolargl": [
           {
            "marker": {
             "colorbar": {
              "outlinewidth": 1,
              "tickcolor": "rgb(36,36,36)",
              "ticks": "outside"
             }
            },
            "type": "scatterpolargl"
           }
          ],
          "scatterternary": [
           {
            "marker": {
             "colorbar": {
              "outlinewidth": 1,
              "tickcolor": "rgb(36,36,36)",
              "ticks": "outside"
             }
            },
            "type": "scatterternary"
           }
          ],
          "surface": [
           {
            "colorbar": {
             "outlinewidth": 1,
             "tickcolor": "rgb(36,36,36)",
             "ticks": "outside"
            },
            "colorscale": [
             [
              0,
              "#440154"
             ],
             [
              0.1111111111111111,
              "#482878"
             ],
             [
              0.2222222222222222,
              "#3e4989"
             ],
             [
              0.3333333333333333,
              "#31688e"
             ],
             [
              0.4444444444444444,
              "#26828e"
             ],
             [
              0.5555555555555556,
              "#1f9e89"
             ],
             [
              0.6666666666666666,
              "#35b779"
             ],
             [
              0.7777777777777778,
              "#6ece58"
             ],
             [
              0.8888888888888888,
              "#b5de2b"
             ],
             [
              1,
              "#fde725"
             ]
            ],
            "type": "surface"
           }
          ],
          "table": [
           {
            "cells": {
             "fill": {
              "color": "rgb(237,237,237)"
             },
             "line": {
              "color": "white"
             }
            },
            "header": {
             "fill": {
              "color": "rgb(217,217,217)"
             },
             "line": {
              "color": "white"
             }
            },
            "type": "table"
           }
          ]
         },
         "layout": {
          "annotationdefaults": {
           "arrowhead": 0,
           "arrowwidth": 1
          },
          "autotypenumbers": "strict",
          "coloraxis": {
           "colorbar": {
            "outlinewidth": 1,
            "tickcolor": "rgb(36,36,36)",
            "ticks": "outside"
           }
          },
          "colorscale": {
           "diverging": [
            [
             0,
             "rgb(103,0,31)"
            ],
            [
             0.1,
             "rgb(178,24,43)"
            ],
            [
             0.2,
             "rgb(214,96,77)"
            ],
            [
             0.3,
             "rgb(244,165,130)"
            ],
            [
             0.4,
             "rgb(253,219,199)"
            ],
            [
             0.5,
             "rgb(247,247,247)"
            ],
            [
             0.6,
             "rgb(209,229,240)"
            ],
            [
             0.7,
             "rgb(146,197,222)"
            ],
            [
             0.8,
             "rgb(67,147,195)"
            ],
            [
             0.9,
             "rgb(33,102,172)"
            ],
            [
             1,
             "rgb(5,48,97)"
            ]
           ],
           "sequential": [
            [
             0,
             "#440154"
            ],
            [
             0.1111111111111111,
             "#482878"
            ],
            [
             0.2222222222222222,
             "#3e4989"
            ],
            [
             0.3333333333333333,
             "#31688e"
            ],
            [
             0.4444444444444444,
             "#26828e"
            ],
            [
             0.5555555555555556,
             "#1f9e89"
            ],
            [
             0.6666666666666666,
             "#35b779"
            ],
            [
             0.7777777777777778,
             "#6ece58"
            ],
            [
             0.8888888888888888,
             "#b5de2b"
            ],
            [
             1,
             "#fde725"
            ]
           ],
           "sequentialminus": [
            [
             0,
             "#440154"
            ],
            [
             0.1111111111111111,
             "#482878"
            ],
            [
             0.2222222222222222,
             "#3e4989"
            ],
            [
             0.3333333333333333,
             "#31688e"
            ],
            [
             0.4444444444444444,
             "#26828e"
            ],
            [
             0.5555555555555556,
             "#1f9e89"
            ],
            [
             0.6666666666666666,
             "#35b779"
            ],
            [
             0.7777777777777778,
             "#6ece58"
            ],
            [
             0.8888888888888888,
             "#b5de2b"
            ],
            [
             1,
             "#fde725"
            ]
           ]
          },
          "colorway": [
           "#1F77B4",
           "#FF7F0E",
           "#2CA02C",
           "#D62728",
           "#9467BD",
           "#8C564B",
           "#E377C2",
           "#7F7F7F",
           "#BCBD22",
           "#17BECF"
          ],
          "font": {
           "color": "rgb(36,36,36)"
          },
          "geo": {
           "bgcolor": "white",
           "lakecolor": "white",
           "landcolor": "white",
           "showlakes": true,
           "showland": true,
           "subunitcolor": "white"
          },
          "hoverlabel": {
           "align": "left"
          },
          "hovermode": "closest",
          "mapbox": {
           "style": "light"
          },
          "paper_bgcolor": "white",
          "plot_bgcolor": "white",
          "polar": {
           "angularaxis": {
            "gridcolor": "rgb(232,232,232)",
            "linecolor": "rgb(36,36,36)",
            "showgrid": false,
            "showline": true,
            "ticks": "outside"
           },
           "bgcolor": "white",
           "radialaxis": {
            "gridcolor": "rgb(232,232,232)",
            "linecolor": "rgb(36,36,36)",
            "showgrid": false,
            "showline": true,
            "ticks": "outside"
           }
          },
          "scene": {
           "xaxis": {
            "backgroundcolor": "white",
            "gridcolor": "rgb(232,232,232)",
            "gridwidth": 2,
            "linecolor": "rgb(36,36,36)",
            "showbackground": true,
            "showgrid": false,
            "showline": true,
            "ticks": "outside",
            "zeroline": false,
            "zerolinecolor": "rgb(36,36,36)"
           },
           "yaxis": {
            "backgroundcolor": "white",
            "gridcolor": "rgb(232,232,232)",
            "gridwidth": 2,
            "linecolor": "rgb(36,36,36)",
            "showbackground": true,
            "showgrid": false,
            "showline": true,
            "ticks": "outside",
            "zeroline": false,
            "zerolinecolor": "rgb(36,36,36)"
           },
           "zaxis": {
            "backgroundcolor": "white",
            "gridcolor": "rgb(232,232,232)",
            "gridwidth": 2,
            "linecolor": "rgb(36,36,36)",
            "showbackground": true,
            "showgrid": false,
            "showline": true,
            "ticks": "outside",
            "zeroline": false,
            "zerolinecolor": "rgb(36,36,36)"
           }
          },
          "shapedefaults": {
           "fillcolor": "black",
           "line": {
            "width": 0
           },
           "opacity": 0.3
          },
          "ternary": {
           "aaxis": {
            "gridcolor": "rgb(232,232,232)",
            "linecolor": "rgb(36,36,36)",
            "showgrid": false,
            "showline": true,
            "ticks": "outside"
           },
           "baxis": {
            "gridcolor": "rgb(232,232,232)",
            "linecolor": "rgb(36,36,36)",
            "showgrid": false,
            "showline": true,
            "ticks": "outside"
           },
           "bgcolor": "white",
           "caxis": {
            "gridcolor": "rgb(232,232,232)",
            "linecolor": "rgb(36,36,36)",
            "showgrid": false,
            "showline": true,
            "ticks": "outside"
           }
          },
          "title": {
           "x": 0.05
          },
          "xaxis": {
           "automargin": true,
           "gridcolor": "rgb(232,232,232)",
           "linecolor": "rgb(36,36,36)",
           "showgrid": false,
           "showline": true,
           "ticks": "outside",
           "title": {
            "standoff": 15
           },
           "zeroline": false,
           "zerolinecolor": "rgb(36,36,36)"
          },
          "yaxis": {
           "automargin": true,
           "gridcolor": "rgb(232,232,232)",
           "linecolor": "rgb(36,36,36)",
           "showgrid": false,
           "showline": true,
           "ticks": "outside",
           "title": {
            "standoff": 15
           },
           "zeroline": false,
           "zerolinecolor": "rgb(36,36,36)"
          }
         }
        },
        "title": {
         "text": "Data by Lobe",
         "x": 0.5
        },
        "width": 1000,
        "xaxis": {
         "title": {
          "text": "Data"
         }
        }
       }
      },
      "text/html": [
       "<div>                            <div id=\"b271d3d8-f7cd-4e70-9d1f-f496778818f5\" class=\"plotly-graph-div\" style=\"height:1000px; width:1000px;\"></div>            <script type=\"text/javascript\">                require([\"plotly\"], function(Plotly) {                    window.PLOTLYENV=window.PLOTLYENV || {};                                    if (document.getElementById(\"b271d3d8-f7cd-4e70-9d1f-f496778818f5\")) {                    Plotly.newPlot(                        \"b271d3d8-f7cd-4e70-9d1f-f496778818f5\",                        [{\"box\":{\"visible\":true},\"fillcolor\":\"rgb(0.850980392156863, 0.850980392156863, 0.0)\",\"hovertext\":[\"L_O1_A\",\"L_O1_B\",\"L_O1_C\",\"L_O1_D\",\"L_O1_E\",\"L_O2.1_A\",\"L_O2.1_B\",\"L_O2.1_C\",\"L_O2.1_D\",\"L_O2.1_E\",\"L_O2.2_A\",\"L_O2.2_B\",\"L_O2.2_C\",\"L_O2.2_D\",\"L_O2.2_E\",\"L_O2.2_F\",\"L_O2.2_G\",\"L_O2.2_H\",\"L_O2.2_I\",\"L_O2.2_J\",\"L_O2.2_K\",\"L_O3_A\",\"L_O3_B\",\"L_O3_C.1\",\"L_O3_C.2\",\"L_O3_D.1\",\"L_O3_D.2\",\"L_O3_E\",\"L_O3_F\",\"L_O3_G\",\"L_O3_H\",\"L_O3_I\",\"L_O4_A\",\"L_O4_B\",\"L_L_A\",\"L_L_B\",\"L_L_C\",\"R_O1_A\",\"R_O1_B\",\"R_O1_C\",\"R_O1_D\",\"R_O1_E\",\"R_O2.1_A\",\"R_O2.1_B\",\"R_O2.1_C\",\"R_O2.1_D\",\"R_O2.1_E\",\"R_O2.2_A\",\"R_O2.2_B\",\"R_O2.2_C\",\"R_O2.2_D\",\"R_O2.2_E\",\"R_O2.2_F\",\"R_O2.2_G\",\"R_O2.2_H\",\"R_O2.2_I\",\"R_O2.2_J\",\"R_O2.2_K\",\"R_O3_A\",\"R_O3_B\",\"R_O3_C.1\",\"R_O3_C.2\",\"R_O3_D.1\",\"R_O3_D.2\",\"R_O3_E\",\"R_O3_F\",\"R_O3_G\",\"R_O3_H\",\"R_O3_I\",\"R_O4_A\",\"R_O4_B\",\"R_L_A\",\"R_L_B\",\"R_L_C\"],\"jitter\":0.3,\"line\":{\"color\":\"black\"},\"meanline\":{\"visible\":true},\"name\":\"Occipital\",\"pointpos\":-1.8,\"points\":\"all\",\"x\":[50,51,52,53,54,55,56,57,58,59,60,61,62,63,64,65,66,67,68,69,70,71,72,73,74,75,76,77,78,79,80,81,82,83,301,302,303,395,396,397,398,399,400,401,402,403,404,405,406,407,408,409,410,411,412,413,414,415,416,417,418,419,420,421,422,423,424,425,426,427,428,646,647,648],\"type\":\"violin\"},{\"box\":{\"visible\":true},\"fillcolor\":\"rgb(0.450980392156863, 1.0, 0.498039215686275)\",\"hovertext\":[\"L_AN1_A\",\"L_AN1_B\",\"L_AN1_C\",\"L_AN2_A\",\"L_AN2_B\",\"L_AN2_C\",\"L_AN2_D\",\"L_SM1_A\",\"L_SM1_B\",\"L_SM1_C\",\"L_SM1_D\",\"L_SM1_E\",\"L_SM2_A\",\"L_SM2_B\",\"L_SM3_A\",\"L_SM3_B\",\"L_SM3_C\",\"L_SM4_A\",\"L_SM4_B\",\"L_SM4_C\",\"L_SM5_A\",\"L_SM5_B\",\"L_SM5_C\",\"L_SM5_D\",\"L_SM5_E\",\"L_P1_A\",\"L_P1_B\",\"L_P1_C\",\"L_P1_D\",\"L_P1_E\",\"L_P1_F\",\"L_P1_G\",\"L_P2_A\",\"L_P2_B\",\"L_P2_C\",\"L_P2_D\",\"L_P3_A\",\"L_P3_B\",\"L_P3_C\",\"L_P3_D\",\"L_P3_E\",\"L_P3_F\",\"L_P4_A\",\"L_P4_B\",\"L_P4_C\",\"L_P4_D\",\"L_P4_E\",\"L_P4_F\",\"L_P4_G\",\"L_S_A\",\"L_S_B\",\"L_S_C\",\"L_S_D\",\"L_S_E\",\"L_S_F\",\"L_S_G\",\"L_S_H\",\"L_S_I\",\"L_S_J\",\"L_S_K\",\"L_S_L\",\"L_S_M\",\"R_AN1_A\",\"R_AN1_B\",\"R_AN1_C\",\"R_AN2_A\",\"R_AN2_B\",\"R_AN2_C\",\"R_AN2_D\",\"R_SM1_A\",\"R_SM1_B\",\"R_SM1_C\",\"R_SM1_D\",\"R_SM1_E\",\"R_SM2_A\",\"R_SM2_B\",\"R_SM3_A\",\"R_SM3_B\",\"R_SM3_C\",\"R_SM4_A\",\"R_SM4_B\",\"R_SM4_C\",\"R_SM5_A\",\"R_SM5_B\",\"R_SM5_C\",\"R_SM5_D\",\"R_SM5_E\",\"R_P1_A\",\"R_P1_B\",\"R_P1_C\",\"R_P1_D\",\"R_P1_E\",\"R_P1_F\",\"R_P1_G\",\"R_P2_A\",\"R_P2_B\",\"R_P2_C\",\"R_P2_D\",\"R_P3_A\",\"R_P3_B\",\"R_P3_C\",\"R_P3_D\",\"R_P3_E\",\"R_P3_F\",\"R_P4_A\",\"R_P4_B\",\"R_P4_C\",\"R_P4_D\",\"R_P4_E\",\"R_P4_F\",\"R_P4_G\",\"R_S_A\",\"R_S_B\",\"R_S_C\",\"R_S_D\",\"R_S_E\",\"R_S_F\",\"R_S_G\",\"R_S_H\",\"R_S_I\",\"R_S_J\",\"R_S_K\",\"R_S_L\",\"R_S_M\"],\"jitter\":0.3,\"line\":{\"color\":\"black\"},\"meanline\":{\"visible\":true},\"name\":\"Parietal\",\"pointpos\":-1.8,\"points\":\"all\",\"x\":[84,85,86,87,88,89,90,91,92,93,94,95,96,97,98,99,100,101,102,103,104,105,106,107,108,109,110,111,112,113,114,115,116,117,118,119,120,121,122,123,124,125,126,127,128,129,130,131,132,133,134,135,136,137,138,139,140,141,142,143,144,145,429,430,431,432,433,434,435,436,437,438,439,440,441,442,443,444,445,446,447,448,449,450,451,452,453,454,455,456,457,458,459,460,461,462,463,464,465,466,467,468,469,470,471,472,473,474,475,476,477,478,479,480,481,482,483,484,485,486,487,488,489,490],\"type\":\"violin\"},{\"box\":{\"visible\":true},\"fillcolor\":\"rgb(0.0, 0.450980392156863, 0.901960784313726)\",\"hovertext\":[\"L_TP1_A\",\"L_TP1_B\",\"L_TP1_C\",\"L_TP1_D\",\"L_TP1_E\",\"L_TP1_F\",\"L_TP2.1_A\",\"L_TP2.1_B\",\"L_TP2.1_C\",\"L_TP2.1_D\",\"L_TP2.2_A\",\"L_TP2.2_B\",\"L_TP2.2_C\",\"L_TP2.2_D\",\"L_TP3_A\",\"L_TP3_B\",\"L_TP3_C\",\"L_TP3_D\",\"L_T1_A\",\"L_T1_B\",\"L_T1_C\",\"L_T1_D\",\"L_T1_E\",\"L_T1_F\",\"L_T1_G\",\"L_T2.1_A\",\"L_T2.1_B\",\"L_T2.1_C\",\"L_T2.1_D\",\"L_T2.1_E\",\"L_T2.1_F\",\"L_T2.1_G\",\"L_T2.2_A\",\"L_T2.2_B\",\"L_T2.2_C\",\"L_T2.2_D\",\"L_T2.2_E\",\"L_T2.2_F\",\"L_T2.2_G\",\"L_T3.1_A\",\"L_T3.1_B\",\"L_T3.1_C\",\"L_T3.1_D\",\"L_T3.1_E\",\"L_T3.1_F\",\"L_T3.2_A\",\"L_T3.2_B\",\"L_T3.2_C\",\"L_T3.2_D\",\"L_T3.2_E\",\"L_LOT_A\",\"L_LOT_B\",\"L_LOT_C\",\"L_LOT_D\",\"L_LOT_E\",\"L_MOT_A\",\"L_MOT_B\",\"L_MOT_C\",\"L_MOT_D\",\"L_MOT_E\",\"L_MOT_F\",\"L_MOT_G\",\"L_MOT_H\",\"L_PH_A\",\"L_PH_B\",\"L_PH_C\",\"L_PH_D\",\"L_PH_E\",\"L_PH_F\",\"L_PH_G\",\"L_H_A\",\"L_H_B\",\"L_H_C\",\"L_A_A\",\"L_A_B\",\"R_TP1_A\",\"R_TP1_B\",\"R_TP1_C\",\"R_TP1_D\",\"R_TP1_E\",\"R_TP1_F\",\"R_TP2.1_A\",\"R_TP2.1_B\",\"R_TP2.1_C\",\"R_TP2.1_D\",\"R_TP2.2_A\",\"R_TP2.2_B\",\"R_TP2.2_C\",\"R_TP2.2_D\",\"R_TP3_A\",\"R_TP3_B\",\"R_TP3_C\",\"R_TP3_D\",\"R_T1_A\",\"R_T1_B\",\"R_T1_C\",\"R_T1_D\",\"R_T1_E\",\"R_T1_F\",\"R_T1_G\",\"R_T2.1_A\",\"R_T2.1_B\",\"R_T2.1_C\",\"R_T2.1_D\",\"R_T2.1_E\",\"R_T2.1_F\",\"R_T2.1_G\",\"R_T2.2_A\",\"R_T2.2_B\",\"R_T2.2_C\",\"R_T2.2_D\",\"R_T2.2_E\",\"R_T2.2_F\",\"R_T2.2_G\",\"R_T3.1_A\",\"R_T3.1_B\",\"R_T3.1_C\",\"R_T3.1_D\",\"R_T3.1_E\",\"R_T3.1_F\",\"R_T3.2_A\",\"R_T3.2_B\",\"R_T3.2_C\",\"R_T3.2_D\",\"R_T3.2_E\",\"R_LOT_A\",\"R_LOT_B\",\"R_LOT_C\",\"R_LOT_D\",\"R_LOT_E\",\"R_MOT_A\",\"R_MOT_B\",\"R_MOT_C\",\"R_MOT_D\",\"R_MOT_E\",\"R_MOT_F\",\"R_MOT_G\",\"R_MOT_H\",\"R_PH_A\",\"R_PH_B\",\"R_PH_C\",\"R_PH_D\",\"R_PH_E\",\"R_PH_F\",\"R_PH_G\",\"R_H_A\",\"R_H_B\",\"R_H_C\",\"R_A_A\",\"R_A_B\"],\"jitter\":0.3,\"line\":{\"color\":\"black\"},\"meanline\":{\"visible\":true},\"name\":\"Temporal\",\"pointpos\":-1.8,\"points\":\"all\",\"x\":[0,1,2,3,4,5,6,7,8,9,10,11,12,13,14,15,16,17,18,19,20,21,22,23,24,25,26,27,28,29,30,31,32,33,34,35,36,37,38,39,40,41,42,43,44,45,46,47,48,49,281,282,283,284,285,286,287,288,289,290,291,292,293,294,295,296,297,298,299,300,323,324,325,326,327,345,346,347,348,349,350,351,352,353,354,355,356,357,358,359,360,361,362,363,364,365,366,367,368,369,370,371,372,373,374,375,376,377,378,379,380,381,382,383,384,385,386,387,388,389,390,391,392,393,394,626,627,628,629,630,631,632,633,634,635,636,637,638,639,640,641,642,643,644,645,668,669,670,671,672],\"type\":\"violin\"},{\"box\":{\"visible\":true},\"fillcolor\":\"rgb(0.784313725490196, 0.0, 0.0)\",\"hovertext\":[\"L_M1_A\",\"L_M1_B\",\"L_M1_C\",\"L_M1_D\",\"L_M2_A\",\"L_M2_B\",\"L_M2_C\",\"L_M2_D\",\"L_M2_E\",\"L_M2_F\",\"L_M2_G\",\"L_M2_H\",\"L_M2_I\",\"L_M2_J\",\"L_M2_K\",\"L_SF1_A\",\"L_SF1_B\",\"L_SF1_C\",\"L_SF1_D\",\"L_SF2_A\",\"L_SF2_B\",\"L_SF2_C\",\"L_SF2_D\",\"L_SF3_A\",\"L_SF3_B\",\"L_SF3_C\",\"L_SF3_D\",\"L_SF4_A\",\"L_SF4_B\",\"L_SF4_C\",\"L_SF4_D\",\"L_SF5_A\",\"L_SF5_B\",\"L_SF5_C\",\"L_SF5_D\",\"L_SF6_A\",\"L_SF6_B\",\"L_SF6_C\",\"L_SF6_D\",\"L_SF7_A\",\"L_SF7_B\",\"L_SF7_C\",\"L_SF7_D\",\"L_SF7_E\",\"L_SF8_A\",\"L_SF8_B\",\"L_SF8_C\",\"L_SF8_D\",\"L_MF1_A\",\"L_MF1_B\",\"L_MF1_C\",\"L_MF2_A\",\"L_MF2_B\",\"L_MF2_C\",\"L_MF2_D\",\"L_MF3_A\",\"L_MF3_B\",\"L_MF3_C\",\"L_MF3_D\",\"L_MF4_A\",\"L_MF4_B\",\"L_MF4_C\",\"L_MF4_D\",\"L_MF5_A\",\"L_MF5_B\",\"L_MF5_C\",\"L_MF6_A\",\"L_MF6_B\",\"L_MF6_C\",\"L_MF7_A\",\"L_MF7_B\",\"L_MF7_C\",\"L_MF8_A\",\"L_OP_A\",\"L_OP_B\",\"L_OP_C\",\"L_TR1_A\",\"L_TR1_B\",\"L_TR2_A\",\"L_TR2_B\",\"L_TR3_A\",\"L_TR3_B\",\"L_OR_A\",\"L_OR_B\",\"L_OR_C\",\"L_FP1_A\",\"L_FP1_B\",\"L_FP1_C\",\"L_FP1_D\",\"L_FP1_E\",\"L_FP1_F\",\"L_FP1_G\",\"L_FP1_H\",\"L_FP2_A\",\"L_FP2_B\",\"L_FP2_C\",\"L_FP2_D\",\"L_FP3_A\",\"L_FP3_B\",\"L_FP3_C\",\"L_FP3_D\",\"L_FP3_E\",\"L_FP3_F\",\"L_FP3_G\",\"L_FP4_A\",\"L_FP4_B\",\"L_FP4_C\",\"L_FP4_D\",\"L_FP4_E\",\"L_FP4_F\",\"L_FO1_A\",\"L_FO1_B\",\"L_FO1_C\",\"L_FO1_D\",\"L_FO2_A\",\"L_FO2_B\",\"L_FO2_C\",\"L_FO2_D\",\"L_FO2_E\",\"L_FO3_A\",\"L_FO3_B\",\"L_FO3_C\",\"L_FO3_D\",\"L_FO4_A\",\"L_FO4_B\",\"L_FO4_C\",\"L_FO4_D\",\"L_FO5_A\",\"L_FO5_B\",\"L_FO5_C\",\"L_FO5_D\",\"L_FO5_E\",\"L_FO6_A\",\"L_FO6_B\",\"L_FO6_C\",\"L_CG_A\",\"L_CG_B\",\"L_CG_C\",\"L_CG_D\",\"L_CG_E\",\"L_CG_F\",\"L_CG_G\",\"L_CG_H\",\"L_CG_I\",\"L_CG_J\",\"L_CG_K\",\"L_CG_L\",\"L_CG_M\",\"L_CG_N.1\",\"L_CG_N.2\",\"L_CG_O\",\"L_CG_P\",\"L_CG_Q\",\"L_CG_R\",\"R_M1_A\",\"R_M1_B\",\"R_M1_C\",\"R_M1_D\",\"R_M2_A\",\"R_M2_B\",\"R_M2_C\",\"R_M2_D\",\"R_M2_E\",\"R_M2_F\",\"R_M2_G\",\"R_M2_H\",\"R_M2_I\",\"R_M2_J\",\"R_M2_K\",\"R_SF1_A\",\"R_SF1_B\",\"R_SF1_C\",\"R_SF1_D\",\"R_SF2_A\",\"R_SF2_B\",\"R_SF2_C\",\"R_SF2_D\",\"R_SF3_A\",\"R_SF3_B\",\"R_SF3_C\",\"R_SF3_D\",\"R_SF4_A\",\"R_SF4_B\",\"R_SF4_C\",\"R_SF4_D\",\"R_SF5_A\",\"R_SF5_B\",\"R_SF5_C\",\"R_SF5_D\",\"R_SF6_A\",\"R_SF6_B\",\"R_SF6_C\",\"R_SF6_D\",\"R_SF7_A\",\"R_SF7_B\",\"R_SF7_C\",\"R_SF7_D\",\"R_SF7_E\",\"R_SF8_A\",\"R_SF8_B\",\"R_SF8_C\",\"R_SF8_D\",\"R_MF1_A\",\"R_MF1_B\",\"R_MF1_C\",\"R_MF2_A\",\"R_MF2_B\",\"R_MF2_C\",\"R_MF2_D\",\"R_MF3_A\",\"R_MF3_B\",\"R_MF3_C\",\"R_MF3_D\",\"R_MF4_A\",\"R_MF4_B\",\"R_MF4_C\",\"R_MF4_D\",\"R_MF5_A\",\"R_MF5_B\",\"R_MF5_C\",\"R_MF6_A\",\"R_MF6_B\",\"R_MF6_C\",\"R_MF7_A\",\"R_MF7_B\",\"R_MF7_C\",\"R_MF8_A\",\"R_OP_A\",\"R_OP_B\",\"R_OP_C\",\"R_TR1_A\",\"R_TR1_B\",\"R_TR2_A\",\"R_TR2_B\",\"R_TR3_A\",\"R_TR3_B\",\"R_OR_A\",\"R_OR_B\",\"R_OR_C\",\"R_FP1_A\",\"R_FP1_B\",\"R_FP1_C\",\"R_FP1_D\",\"R_FP1_E\",\"R_FP1_F\",\"R_FP1_G\",\"R_FP1_H\",\"R_FP2_A\",\"R_FP2_B\",\"R_FP2_C\",\"R_FP2_D\",\"R_FP3_A\",\"R_FP3_B\",\"R_FP3_C\",\"R_FP3_D\",\"R_FP3_E\",\"R_FP3_F\",\"R_FP3_G\",\"R_FP4_A\",\"R_FP4_B\",\"R_FP4_C\",\"R_FP4_D\",\"R_FP4_E\",\"R_FP4_F\",\"R_FO1_A\",\"R_FO1_B\",\"R_FO1_C\",\"R_FO1_D\",\"R_FO2_A\",\"R_FO2_B\",\"R_FO2_C\",\"R_FO2_D\",\"R_FO2_E\",\"R_FO3_A\",\"R_FO3_B\",\"R_FO3_C\",\"R_FO3_D\",\"R_FO4_A\",\"R_FO4_B\",\"R_FO4_C\",\"R_FO4_D\",\"R_FO5_A\",\"R_FO5_B\",\"R_FO5_C\",\"R_FO5_D\",\"R_FO5_E\",\"R_FO6_A\",\"R_FO6_B\",\"R_FO6_C\",\"R_CG_A\",\"R_CG_B\",\"R_CG_C\",\"R_CG_D\",\"R_CG_E\",\"R_CG_F\",\"R_CG_G\",\"R_CG_H\",\"R_CG_I\",\"R_CG_J\",\"R_CG_K\",\"R_CG_L\",\"R_CG_M\",\"R_CG_N.1\",\"R_CG_N.2\",\"R_CG_O\",\"R_CG_P\",\"R_CG_Q\",\"R_CG_R\"],\"jitter\":0.3,\"line\":{\"color\":\"black\"},\"meanline\":{\"visible\":true},\"name\":\"Frontal\",\"pointpos\":-1.8,\"points\":\"all\",\"x\":[146,147,148,149,150,151,152,153,154,155,156,157,158,159,160,161,162,163,164,165,166,167,168,169,170,171,172,173,174,175,176,177,178,179,180,181,182,183,184,185,186,187,188,189,190,191,192,193,194,195,196,197,198,199,200,201,202,203,204,205,206,207,208,209,210,211,212,213,214,215,216,217,218,219,220,221,222,223,224,225,226,227,228,229,230,231,232,233,234,235,236,237,238,239,240,241,242,243,244,245,246,247,248,249,250,251,252,253,254,255,256,257,258,259,260,261,262,263,264,265,266,267,268,269,270,271,272,273,274,275,276,277,278,279,280,304,305,306,307,308,309,310,311,312,313,314,315,316,317,318,319,320,321,322,491,492,493,494,495,496,497,498,499,500,501,502,503,504,505,506,507,508,509,510,511,512,513,514,515,516,517,518,519,520,521,522,523,524,525,526,527,528,529,530,531,532,533,534,535,536,537,538,539,540,541,542,543,544,545,546,547,548,549,550,551,552,553,554,555,556,557,558,559,560,561,562,563,564,565,566,567,568,569,570,571,572,573,574,575,576,577,578,579,580,581,582,583,584,585,586,587,588,589,590,591,592,593,594,595,596,597,598,599,600,601,602,603,604,605,606,607,608,609,610,611,612,613,614,615,616,617,618,619,620,621,622,623,624,625,649,650,651,652,653,654,655,656,657,658,659,660,661,662,663,664,665,666,667],\"type\":\"violin\"},{\"box\":{\"visible\":true},\"fillcolor\":\"rgb(0.419607843137255, 0.0, 0.584313725490196)\",\"hovertext\":[\"L_I1_A\",\"L_I1_B\",\"L_I1_C\",\"L_I2_A\",\"L_I2_B\",\"L_I2_C\",\"L_I3_A\",\"L_I3_B\",\"L_I3_C\",\"L_I4_A\",\"L_I4_B\",\"L_I4_C\",\"L_I4_D\",\"L_I5_A\",\"L_I5_B\",\"L_I5_C\",\"L_I5_D\",\"R_I1_A\",\"R_I1_B\",\"R_I1_C\",\"R_I2_A\",\"R_I2_B\",\"R_I2_C\",\"R_I3_A\",\"R_I3_B\",\"R_I3_C\",\"R_I4_A\",\"R_I4_B\",\"R_I4_C\",\"R_I4_D\",\"R_I5_A\",\"R_I5_B\",\"R_I5_C\",\"R_I5_D\"],\"jitter\":0.3,\"line\":{\"color\":\"black\"},\"meanline\":{\"visible\":true},\"name\":\"Insula\",\"pointpos\":-1.8,\"points\":\"all\",\"x\":[328,329,330,331,332,333,334,335,336,337,338,339,340,341,342,343,344,673,674,675,676,677,678,679,680,681,682,683,684,685,686,687,688,689],\"type\":\"violin\"}],                        {\"template\":{\"data\":{\"barpolar\":[{\"marker\":{\"line\":{\"color\":\"white\",\"width\":0.5},\"pattern\":{\"fillmode\":\"overlay\",\"size\":10,\"solidity\":0.2}},\"type\":\"barpolar\"}],\"bar\":[{\"error_x\":{\"color\":\"rgb(36,36,36)\"},\"error_y\":{\"color\":\"rgb(36,36,36)\"},\"marker\":{\"line\":{\"color\":\"white\",\"width\":0.5},\"pattern\":{\"fillmode\":\"overlay\",\"size\":10,\"solidity\":0.2}},\"type\":\"bar\"}],\"carpet\":[{\"aaxis\":{\"endlinecolor\":\"rgb(36,36,36)\",\"gridcolor\":\"white\",\"linecolor\":\"white\",\"minorgridcolor\":\"white\",\"startlinecolor\":\"rgb(36,36,36)\"},\"baxis\":{\"endlinecolor\":\"rgb(36,36,36)\",\"gridcolor\":\"white\",\"linecolor\":\"white\",\"minorgridcolor\":\"white\",\"startlinecolor\":\"rgb(36,36,36)\"},\"type\":\"carpet\"}],\"choropleth\":[{\"colorbar\":{\"outlinewidth\":1,\"tickcolor\":\"rgb(36,36,36)\",\"ticks\":\"outside\"},\"type\":\"choropleth\"}],\"contourcarpet\":[{\"colorbar\":{\"outlinewidth\":1,\"tickcolor\":\"rgb(36,36,36)\",\"ticks\":\"outside\"},\"type\":\"contourcarpet\"}],\"contour\":[{\"colorbar\":{\"outlinewidth\":1,\"tickcolor\":\"rgb(36,36,36)\",\"ticks\":\"outside\"},\"colorscale\":[[0.0,\"#440154\"],[0.1111111111111111,\"#482878\"],[0.2222222222222222,\"#3e4989\"],[0.3333333333333333,\"#31688e\"],[0.4444444444444444,\"#26828e\"],[0.5555555555555556,\"#1f9e89\"],[0.6666666666666666,\"#35b779\"],[0.7777777777777778,\"#6ece58\"],[0.8888888888888888,\"#b5de2b\"],[1.0,\"#fde725\"]],\"type\":\"contour\"}],\"heatmapgl\":[{\"colorbar\":{\"outlinewidth\":1,\"tickcolor\":\"rgb(36,36,36)\",\"ticks\":\"outside\"},\"colorscale\":[[0.0,\"#440154\"],[0.1111111111111111,\"#482878\"],[0.2222222222222222,\"#3e4989\"],[0.3333333333333333,\"#31688e\"],[0.4444444444444444,\"#26828e\"],[0.5555555555555556,\"#1f9e89\"],[0.6666666666666666,\"#35b779\"],[0.7777777777777778,\"#6ece58\"],[0.8888888888888888,\"#b5de2b\"],[1.0,\"#fde725\"]],\"type\":\"heatmapgl\"}],\"heatmap\":[{\"colorbar\":{\"outlinewidth\":1,\"tickcolor\":\"rgb(36,36,36)\",\"ticks\":\"outside\"},\"colorscale\":[[0.0,\"#440154\"],[0.1111111111111111,\"#482878\"],[0.2222222222222222,\"#3e4989\"],[0.3333333333333333,\"#31688e\"],[0.4444444444444444,\"#26828e\"],[0.5555555555555556,\"#1f9e89\"],[0.6666666666666666,\"#35b779\"],[0.7777777777777778,\"#6ece58\"],[0.8888888888888888,\"#b5de2b\"],[1.0,\"#fde725\"]],\"type\":\"heatmap\"}],\"histogram2dcontour\":[{\"colorbar\":{\"outlinewidth\":1,\"tickcolor\":\"rgb(36,36,36)\",\"ticks\":\"outside\"},\"colorscale\":[[0.0,\"#440154\"],[0.1111111111111111,\"#482878\"],[0.2222222222222222,\"#3e4989\"],[0.3333333333333333,\"#31688e\"],[0.4444444444444444,\"#26828e\"],[0.5555555555555556,\"#1f9e89\"],[0.6666666666666666,\"#35b779\"],[0.7777777777777778,\"#6ece58\"],[0.8888888888888888,\"#b5de2b\"],[1.0,\"#fde725\"]],\"type\":\"histogram2dcontour\"}],\"histogram2d\":[{\"colorbar\":{\"outlinewidth\":1,\"tickcolor\":\"rgb(36,36,36)\",\"ticks\":\"outside\"},\"colorscale\":[[0.0,\"#440154\"],[0.1111111111111111,\"#482878\"],[0.2222222222222222,\"#3e4989\"],[0.3333333333333333,\"#31688e\"],[0.4444444444444444,\"#26828e\"],[0.5555555555555556,\"#1f9e89\"],[0.6666666666666666,\"#35b779\"],[0.7777777777777778,\"#6ece58\"],[0.8888888888888888,\"#b5de2b\"],[1.0,\"#fde725\"]],\"type\":\"histogram2d\"}],\"histogram\":[{\"marker\":{\"line\":{\"color\":\"white\",\"width\":0.6}},\"type\":\"histogram\"}],\"mesh3d\":[{\"colorbar\":{\"outlinewidth\":1,\"tickcolor\":\"rgb(36,36,36)\",\"ticks\":\"outside\"},\"type\":\"mesh3d\"}],\"parcoords\":[{\"line\":{\"colorbar\":{\"outlinewidth\":1,\"tickcolor\":\"rgb(36,36,36)\",\"ticks\":\"outside\"}},\"type\":\"parcoords\"}],\"pie\":[{\"automargin\":true,\"type\":\"pie\"}],\"scatter3d\":[{\"line\":{\"colorbar\":{\"outlinewidth\":1,\"tickcolor\":\"rgb(36,36,36)\",\"ticks\":\"outside\"}},\"marker\":{\"colorbar\":{\"outlinewidth\":1,\"tickcolor\":\"rgb(36,36,36)\",\"ticks\":\"outside\"}},\"type\":\"scatter3d\"}],\"scattercarpet\":[{\"marker\":{\"colorbar\":{\"outlinewidth\":1,\"tickcolor\":\"rgb(36,36,36)\",\"ticks\":\"outside\"}},\"type\":\"scattercarpet\"}],\"scattergeo\":[{\"marker\":{\"colorbar\":{\"outlinewidth\":1,\"tickcolor\":\"rgb(36,36,36)\",\"ticks\":\"outside\"}},\"type\":\"scattergeo\"}],\"scattergl\":[{\"marker\":{\"colorbar\":{\"outlinewidth\":1,\"tickcolor\":\"rgb(36,36,36)\",\"ticks\":\"outside\"}},\"type\":\"scattergl\"}],\"scattermapbox\":[{\"marker\":{\"colorbar\":{\"outlinewidth\":1,\"tickcolor\":\"rgb(36,36,36)\",\"ticks\":\"outside\"}},\"type\":\"scattermapbox\"}],\"scatterpolargl\":[{\"marker\":{\"colorbar\":{\"outlinewidth\":1,\"tickcolor\":\"rgb(36,36,36)\",\"ticks\":\"outside\"}},\"type\":\"scatterpolargl\"}],\"scatterpolar\":[{\"marker\":{\"colorbar\":{\"outlinewidth\":1,\"tickcolor\":\"rgb(36,36,36)\",\"ticks\":\"outside\"}},\"type\":\"scatterpolar\"}],\"scatter\":[{\"fillpattern\":{\"fillmode\":\"overlay\",\"size\":10,\"solidity\":0.2},\"type\":\"scatter\"}],\"scatterternary\":[{\"marker\":{\"colorbar\":{\"outlinewidth\":1,\"tickcolor\":\"rgb(36,36,36)\",\"ticks\":\"outside\"}},\"type\":\"scatterternary\"}],\"surface\":[{\"colorbar\":{\"outlinewidth\":1,\"tickcolor\":\"rgb(36,36,36)\",\"ticks\":\"outside\"},\"colorscale\":[[0.0,\"#440154\"],[0.1111111111111111,\"#482878\"],[0.2222222222222222,\"#3e4989\"],[0.3333333333333333,\"#31688e\"],[0.4444444444444444,\"#26828e\"],[0.5555555555555556,\"#1f9e89\"],[0.6666666666666666,\"#35b779\"],[0.7777777777777778,\"#6ece58\"],[0.8888888888888888,\"#b5de2b\"],[1.0,\"#fde725\"]],\"type\":\"surface\"}],\"table\":[{\"cells\":{\"fill\":{\"color\":\"rgb(237,237,237)\"},\"line\":{\"color\":\"white\"}},\"header\":{\"fill\":{\"color\":\"rgb(217,217,217)\"},\"line\":{\"color\":\"white\"}},\"type\":\"table\"}]},\"layout\":{\"annotationdefaults\":{\"arrowhead\":0,\"arrowwidth\":1},\"autotypenumbers\":\"strict\",\"coloraxis\":{\"colorbar\":{\"outlinewidth\":1,\"tickcolor\":\"rgb(36,36,36)\",\"ticks\":\"outside\"}},\"colorscale\":{\"diverging\":[[0.0,\"rgb(103,0,31)\"],[0.1,\"rgb(178,24,43)\"],[0.2,\"rgb(214,96,77)\"],[0.3,\"rgb(244,165,130)\"],[0.4,\"rgb(253,219,199)\"],[0.5,\"rgb(247,247,247)\"],[0.6,\"rgb(209,229,240)\"],[0.7,\"rgb(146,197,222)\"],[0.8,\"rgb(67,147,195)\"],[0.9,\"rgb(33,102,172)\"],[1.0,\"rgb(5,48,97)\"]],\"sequential\":[[0.0,\"#440154\"],[0.1111111111111111,\"#482878\"],[0.2222222222222222,\"#3e4989\"],[0.3333333333333333,\"#31688e\"],[0.4444444444444444,\"#26828e\"],[0.5555555555555556,\"#1f9e89\"],[0.6666666666666666,\"#35b779\"],[0.7777777777777778,\"#6ece58\"],[0.8888888888888888,\"#b5de2b\"],[1.0,\"#fde725\"]],\"sequentialminus\":[[0.0,\"#440154\"],[0.1111111111111111,\"#482878\"],[0.2222222222222222,\"#3e4989\"],[0.3333333333333333,\"#31688e\"],[0.4444444444444444,\"#26828e\"],[0.5555555555555556,\"#1f9e89\"],[0.6666666666666666,\"#35b779\"],[0.7777777777777778,\"#6ece58\"],[0.8888888888888888,\"#b5de2b\"],[1.0,\"#fde725\"]]},\"colorway\":[\"#1F77B4\",\"#FF7F0E\",\"#2CA02C\",\"#D62728\",\"#9467BD\",\"#8C564B\",\"#E377C2\",\"#7F7F7F\",\"#BCBD22\",\"#17BECF\"],\"font\":{\"color\":\"rgb(36,36,36)\"},\"geo\":{\"bgcolor\":\"white\",\"lakecolor\":\"white\",\"landcolor\":\"white\",\"showlakes\":true,\"showland\":true,\"subunitcolor\":\"white\"},\"hoverlabel\":{\"align\":\"left\"},\"hovermode\":\"closest\",\"mapbox\":{\"style\":\"light\"},\"paper_bgcolor\":\"white\",\"plot_bgcolor\":\"white\",\"polar\":{\"angularaxis\":{\"gridcolor\":\"rgb(232,232,232)\",\"linecolor\":\"rgb(36,36,36)\",\"showgrid\":false,\"showline\":true,\"ticks\":\"outside\"},\"bgcolor\":\"white\",\"radialaxis\":{\"gridcolor\":\"rgb(232,232,232)\",\"linecolor\":\"rgb(36,36,36)\",\"showgrid\":false,\"showline\":true,\"ticks\":\"outside\"}},\"scene\":{\"xaxis\":{\"backgroundcolor\":\"white\",\"gridcolor\":\"rgb(232,232,232)\",\"gridwidth\":2,\"linecolor\":\"rgb(36,36,36)\",\"showbackground\":true,\"showgrid\":false,\"showline\":true,\"ticks\":\"outside\",\"zeroline\":false,\"zerolinecolor\":\"rgb(36,36,36)\"},\"yaxis\":{\"backgroundcolor\":\"white\",\"gridcolor\":\"rgb(232,232,232)\",\"gridwidth\":2,\"linecolor\":\"rgb(36,36,36)\",\"showbackground\":true,\"showgrid\":false,\"showline\":true,\"ticks\":\"outside\",\"zeroline\":false,\"zerolinecolor\":\"rgb(36,36,36)\"},\"zaxis\":{\"backgroundcolor\":\"white\",\"gridcolor\":\"rgb(232,232,232)\",\"gridwidth\":2,\"linecolor\":\"rgb(36,36,36)\",\"showbackground\":true,\"showgrid\":false,\"showline\":true,\"ticks\":\"outside\",\"zeroline\":false,\"zerolinecolor\":\"rgb(36,36,36)\"}},\"shapedefaults\":{\"fillcolor\":\"black\",\"line\":{\"width\":0},\"opacity\":0.3},\"ternary\":{\"aaxis\":{\"gridcolor\":\"rgb(232,232,232)\",\"linecolor\":\"rgb(36,36,36)\",\"showgrid\":false,\"showline\":true,\"ticks\":\"outside\"},\"baxis\":{\"gridcolor\":\"rgb(232,232,232)\",\"linecolor\":\"rgb(36,36,36)\",\"showgrid\":false,\"showline\":true,\"ticks\":\"outside\"},\"bgcolor\":\"white\",\"caxis\":{\"gridcolor\":\"rgb(232,232,232)\",\"linecolor\":\"rgb(36,36,36)\",\"showgrid\":false,\"showline\":true,\"ticks\":\"outside\"}},\"title\":{\"x\":0.05},\"xaxis\":{\"automargin\":true,\"gridcolor\":\"rgb(232,232,232)\",\"linecolor\":\"rgb(36,36,36)\",\"showgrid\":false,\"showline\":true,\"ticks\":\"outside\",\"title\":{\"standoff\":15},\"zeroline\":false,\"zerolinecolor\":\"rgb(36,36,36)\"},\"yaxis\":{\"automargin\":true,\"gridcolor\":\"rgb(232,232,232)\",\"linecolor\":\"rgb(36,36,36)\",\"showgrid\":false,\"showline\":true,\"ticks\":\"outside\",\"title\":{\"standoff\":15},\"zeroline\":false,\"zerolinecolor\":\"rgb(36,36,36)\"}}},\"title\":{\"text\":\"Data by Lobe\",\"x\":0.5},\"width\":1000,\"height\":1000,\"xaxis\":{\"title\":{\"text\":\"Data\"}},\"showlegend\":true},                        {\"responsive\": true}                    ).then(function(){\n",
       "                            \n",
       "var gd = document.getElementById('b271d3d8-f7cd-4e70-9d1f-f496778818f5');\n",
       "var x = new MutationObserver(function (mutations, observer) {{\n",
       "        var display = window.getComputedStyle(gd).display;\n",
       "        if (!display || display === 'none') {{\n",
       "            console.log([gd, 'removed!']);\n",
       "            Plotly.purge(gd);\n",
       "            observer.disconnect();\n",
       "        }}\n",
       "}});\n",
       "\n",
       "// Listen for the removal of the full notebook cells\n",
       "var notebookContainer = gd.closest('#notebook-container');\n",
       "if (notebookContainer) {{\n",
       "    x.observe(notebookContainer, {childList: true});\n",
       "}}\n",
       "\n",
       "// Listen for the clearing of the current output cell\n",
       "var outputEl = gd.closest('.output');\n",
       "if (outputEl) {{\n",
       "    x.observe(outputEl, {childList: true});\n",
       "}}\n",
       "\n",
       "                        })                };                });            </script>        </div>"
      ]
     },
     "metadata": {},
     "output_type": "display_data"
    }
   ],
   "source": [
    "# Combined box and violin plot of data broken down by lobe, \n",
    "# arranged in descending order of mean value,\n",
    "# colored as per first parcel in each lobe,\n",
    "# with adjacent scatterpoints,\n",
    "# and hovertext to show parcel identity for each scatterpoint.\n",
    "\n",
    "lobes = list(np.sort(np.unique(data_df['Lobe']),)[::-1])\n",
    "X = []\n",
    "mean_vec = []\n",
    "lobe_color = ['']*len(lobes)\n",
    "for i in range(len(lobes)):\n",
    "    ivec = data_df['Data'].loc[(data_df['Lobe'] == lobes[i])].tolist()\n",
    "    X.append(lobes[i])\n",
    "    mean_vec.append(np.nanmean(ivec))\n",
    "\n",
    "\n",
    "Z = [a for _, a in sorted(zip(mean_vec, X))]\n",
    "for i in range(len(Z)):\n",
    "    lobe_color[i] = 'rgb' + str(parcel_colors[atlas_lobe.index(Z[i])])\n",
    "\n",
    "plot = go.Figure()\n",
    "for i in range(len(Z)):\n",
    "    plot.add_trace(go.Violin(x=data_df['Data'].loc[(data_df['Lobe'] == Z[i])].tolist(), name=Z[i], \n",
    "                          points='all', box_visible=True, line_color='black',\n",
    "                               meanline_visible=True, fillcolor = lobe_color[i],  \n",
    "                             #opacity= 0.6, \n",
    "                             hovertext=data_df['Code'].loc[(data_df['Lobe'] == Z[i])].tolist(),\n",
    "            jitter=0.3, \n",
    "            pointpos=-1.8))\n",
    "plot.update_layout(title=\"Data by Lobe\",template='simple_white', width=1000, height=1000,\n",
    "                  xaxis_title = 'Data', title_x=0.5,\n",
    "                  showlegend=True)\n",
    "plot.show()\n",
    "\n",
    "# Uncomment the next command to save a static version of the figure as a high quality PDF\n",
    "#plot.write_image(\"data-lobe-violin.pdf\", engine='kaleido')\n"
   ]
  },
  {
   "cell_type": "markdown",
   "id": "09a1965f",
   "metadata": {},
   "source": [
    "# X: Further Reading"
   ]
  },
  {
   "cell_type": "markdown",
   "id": "df991b8d",
   "metadata": {},
   "source": [
    "This is a list of some useful papers for learning more about human brain atlases:\n",
    "\n",
    "* Nowinski, Wieslaw L. “Evolution of Human Brain Atlases in Terms of Content, Applications, Functionality, and Availability.” Neuroinformatics vol. 19,1 (2021): 1-22. doi:10.1007/s12021-020-09481-9\n",
    "* Conti A, Gambadauro NM, Mantovani P, Picciano CP, Rosetti V, Magnani M, Lucerna S, Tuleasca C, Cortelli P, Giannini G. A Brief History of Stereotactic Atlases: Their Evolution and Importance in Stereotactic Neurosurgery. Brain Sciences. 2023; 13(5):830. https://doi.org/10.3390/brainsci13050830\n",
    "* Fan, Lingzhong. \"Mapping the Human Brain: What Is the Next Frontier?\". Commentary. Cell. 2020. https://www.cell.com/the-innovation/pdf/S2666-6758(20)30076-X.pdf\n",
    "* Glasser, M. F. et al. A multi-modal parcellation of human cerebral cortex. Nature 536, 171–178 (2016). \n",
    "* Fan, L. et al. The Human Brainnetome Atlas: A new brain atlas based on connectional architecture. Cereb. Cortex 26, 3508–3526 (2016).\n",
    "* Yeo, B. T. T. et al. The organization of the human cerebral cortex estimated by intrinsic functional connectivity. J. Neurophysiol. 106, 1125–1165 (2011).\n",
    "* Schaefer, A. et al. Local-global parcellation of the human cerebral cortex from intrinsic functional connectivity MRI. Cereb. Cortex 28, 3095–3114 (2018).\n",
    "* Destrieux, C., Fischl, B., Dale, A. & Halgren, E. Automatic parcellation of human cortical gyri and sulci using standard anatomical nomenclature. Neuroimage 53, 1–15 (2010).\n",
    "* Talairach, J. Co-planar stereotaxic atlas of the human brain-3-dimensional proportional system. In An Approach to Cerebral Imaging (1988)."
   ]
  },
  {
   "cell_type": "markdown",
   "id": "5bfc6f1a",
   "metadata": {},
   "source": [
    "# XI: Contact"
   ]
  },
  {
   "cell_type": "markdown",
   "id": "fcdccab5",
   "metadata": {},
   "source": [
    "* Hitten Zaveri (hitten.zaveri@yale.edu) and Dennis Spencer (dennis.spencer@yale.edy) for questions about collaborating with the YNN Lab for clinical or systems neuroscience work\n",
    "* Hari McGrath (hari.mcgrath@yale.edu) for questions about the creation & development of the Yale Brain Atlas\n",
    "* Omar Chishti (omar.chishti@aya.yale.edu) for questions about this guide or structural connectivity in YBA space\n",
    "* Evan Collins (evanc@mit.edu) for questions about visualizing data in YBA space or functional connectivity in YBA space\n",
    "* Alex King (alexking@berkeley.edu) for questions about cortical thickness in YBA space"
   ]
  },
  {
   "cell_type": "code",
   "execution_count": null,
   "id": "5709c617",
   "metadata": {},
   "outputs": [],
   "source": [
    "!jupyter nbconvert --to webpdf 'Yale Brain Atlas Guide.ipynb' --allow-chromium-download"
   ]
  }
 ],
 "metadata": {
  "kernelspec": {
   "display_name": "Python 3 (ipykernel)",
   "language": "python",
   "name": "python3"
  },
  "language_info": {
   "codemirror_mode": {
    "name": "ipython",
    "version": 3
   },
   "file_extension": ".py",
   "mimetype": "text/x-python",
   "name": "python",
   "nbconvert_exporter": "python",
   "pygments_lexer": "ipython3",
   "version": "3.9.13"
  }
 },
 "nbformat": 4,
 "nbformat_minor": 5
}
